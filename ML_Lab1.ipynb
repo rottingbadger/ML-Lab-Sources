{
  "nbformat": 4,
  "nbformat_minor": 0,
  "metadata": {
    "colab": {
      "provenance": [],
      "gpuType": "T4",
      "authorship_tag": "ABX9TyOtWI7OaMslRZGRzpTGIB5u",
      "include_colab_link": true
    },
    "kernelspec": {
      "name": "python3",
      "display_name": "Python 3"
    },
    "language_info": {
      "name": "python"
    },
    "accelerator": "GPU"
  },
  "cells": [
    {
      "cell_type": "markdown",
      "metadata": {
        "id": "view-in-github",
        "colab_type": "text"
      },
      "source": [
        "<a href=\"https://colab.research.google.com/github/rottingbadger/ML-Lab-Sources/blob/main/ML_Lab1.ipynb\" target=\"_parent\"><img src=\"https://colab.research.google.com/assets/colab-badge.svg\" alt=\"Open In Colab\"/></a>"
      ]
    },
    {
      "cell_type": "code",
      "execution_count": null,
      "metadata": {
        "id": "PLblRg6UTOT_"
      },
      "outputs": [],
      "source": [
        "import torch"
      ]
    },
    {
      "cell_type": "markdown",
      "source": [
        "1. Create a random tensor with shape (7, 7)."
      ],
      "metadata": {
        "id": "ErcRe9zFTXq-"
      }
    },
    {
      "cell_type": "code",
      "source": [
        "mytensor = torch.Tensor"
      ],
      "metadata": {
        "id": "zLHlg44cTj_V"
      },
      "execution_count": null,
      "outputs": []
    },
    {
      "cell_type": "markdown",
      "source": [
        "2. Perform a matrix multiplication on the tensor from 1 with another random tensor with shape (1, 7) (hint: you may have to transpose the second tensor)."
      ],
      "metadata": {
        "id": "txxNIS92TlL6"
      }
    },
    {
      "cell_type": "code",
      "source": [],
      "metadata": {
        "id": "-R5J3_vcUKrf"
      },
      "execution_count": null,
      "outputs": []
    },
    {
      "cell_type": "markdown",
      "source": [
        "3. Set the random seed to 0 and do exercises 1 & 2 over again."
      ],
      "metadata": {
        "id": "g2o7hyV4TljO"
      }
    },
    {
      "cell_type": "code",
      "source": [],
      "metadata": {
        "id": "Ozv35Rl7UJus"
      },
      "execution_count": null,
      "outputs": []
    },
    {
      "cell_type": "markdown",
      "source": [
        "4. Speaking of random seeds, we saw how to set it with torch.manual_seed() but is there a GPU equivalent? (hint: you'll need to look into the documentation for torch.cuda for this one). If there is, set the GPU random seed to 1234. NOTE: in practice, you will rarely need to use specific GPU version. torch.manual_seed sets the random seed for both cpu and gpu, have a look at the doc! :)"
      ],
      "metadata": {
        "id": "1cCzXX60Tl6z"
      }
    },
    {
      "cell_type": "code",
      "source": [],
      "metadata": {
        "id": "Gpf5VozgUL_2"
      },
      "execution_count": null,
      "outputs": []
    },
    {
      "cell_type": "markdown",
      "source": [
        "5. Create two random tensors of shape (2, 3) and send them both to the GPU (you'll need access to a GPU for this). Set torch.manual_seed(1234) when creating the tensors (this doesn't have to be the GPU random seed)."
      ],
      "metadata": {
        "id": "PtDcMVmOUMgN"
      }
    },
    {
      "cell_type": "code",
      "source": [],
      "metadata": {
        "id": "rnzaztU0UOsA"
      },
      "execution_count": null,
      "outputs": []
    },
    {
      "cell_type": "markdown",
      "source": [
        "6. Perform a matrix multiplication on the tensors you created in 5 (again, you may have to adjust the shapes of one of the tensors)."
      ],
      "metadata": {
        "id": "tiw8cueUUQq1"
      }
    },
    {
      "cell_type": "code",
      "source": [],
      "metadata": {
        "id": "_2fujnR4USKG"
      },
      "execution_count": null,
      "outputs": []
    },
    {
      "cell_type": "markdown",
      "source": [
        "7. Find the maximum and minimum values of the output of 6."
      ],
      "metadata": {
        "id": "BH0h0qcGUW9V"
      }
    },
    {
      "cell_type": "code",
      "source": [],
      "metadata": {
        "id": "xLFKPkzcUVDA"
      },
      "execution_count": null,
      "outputs": []
    },
    {
      "cell_type": "markdown",
      "source": [
        "8. Make a random tensor with shape (1, 1, 1, 10) and then create a new tensor with all the 1 dimensions removed to be left with a tensor of shape (10). Set the seed to 7 when you create it and print out the first tensor and its shape as well as the second tensor and its shape."
      ],
      "metadata": {
        "id": "cg60i72GUUHe"
      }
    },
    {
      "cell_type": "code",
      "source": [],
      "metadata": {
        "id": "dpG6oCI5UchV"
      },
      "execution_count": null,
      "outputs": []
    }
  ]
}