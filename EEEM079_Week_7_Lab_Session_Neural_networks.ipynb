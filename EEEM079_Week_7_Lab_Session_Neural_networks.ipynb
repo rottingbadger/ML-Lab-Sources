{
  "cells": [
    {
      "cell_type": "markdown",
      "id": "wMknXWLOpCNx",
      "metadata": {
        "id": "wMknXWLOpCNx"
      },
      "source": [
        "<H1 style=\"text-align: center\">EEEM066 - Fundamentals of Machine Learning</H1>\n",
        "<H1 style=\"text-align: center\">Week 7: Neural Networks</H1>\n",
        "\n",
        "> Dr. Xiatian (Eddy) Zhu, Dr Syed Sameed Husain\n",
        "\n",
        "> xiatian.zhu@surrey.ac.uk, sameed.husain@surrey.ac.uk"
      ]
    },
    {
      "cell_type": "markdown",
      "id": "Y1qbQkWsoexl",
      "metadata": {
        "id": "Y1qbQkWsoexl"
      },
      "source": [
        "**Introduction**\n",
        "\n",
        "This lab session introduces the fundamentals of neural networks and demonstrates how to use PyTorch to tackle computer vision problems. It includes exploratory questions to enhance your understanding.\n",
        "\n",
        "Happy Programming!⚡⚡"
      ]
    },
    {
      "cell_type": "markdown",
      "id": "430cc475-c17f-4aa5-8b13-93513ec90793",
      "metadata": {
        "id": "430cc475-c17f-4aa5-8b13-93513ec90793"
      },
      "source": [
        "# Sources:\n",
        "* This notebook used (and modified) code from the following repositories:\n",
        "    * https://github.com/jonkrohn/ML-foundations\n",
        "    * https://github.com/mrdbourke/pytorch-deep-learning\n",
        "    * https://github.com/valerija-h/CS551G-Assignment-1.git\n",
        "    * [CNN Explainer](https://poloclub.github.io/cnn-explainer/) - Detailed visualisation of what happens inside a CNN\n",
        "    * [CNN Explainer paper](https://arxiv.org/abs/2004.15004)\n",
        "    * [What is a convolution?](https://www.youtube.com/watch?v=KuXjwB4LzSA) from the 3Blue1Brown youtube channel\n",
        "    * [Convolution arithmetic](https://github.com/vdumoulin/conv_arithmetic/blob/master/README.md) - An excellent visual illustration of convolutional operations (stride, padding,..etc)\n",
        "    * https://lilianweng.github.io/\n",
        "    "
      ]
    },
    {
      "cell_type": "markdown",
      "id": "6a7h_BTIotzC",
      "metadata": {
        "id": "6a7h_BTIotzC"
      },
      "source": [
        "# Contents\n",
        "\n",
        "*   Introduction to solving Computer Vision problems using PyTorch\n",
        "*   Computer vision libraries in PyTorch\n",
        "*   1. Getting a dataset: FashionMNIST\n",
        "*   2. Prepare DataLoader\n",
        "*   3. Model 0: Build a baseline model\n",
        "*   4. Setup device agnostic-code\n",
        "*   5. Model 1: Building a better model with non-linearity\n",
        "*   6. Model 2: Building a Convolutional Neural Network\n",
        "*   7. Compare all results from the three different models you developed!\n",
        "*   8. Questions to ponder:\n",
        "*   9. Make and evaluate random predictions with best model\n",
        "*   10. Making a confusion matrix for further prediction evaluation\n",
        "*   11. Save and load best performing model\n",
        "*   Exercises\n",
        "*   Extra-curriculum"
      ]
    },
    {
      "cell_type": "markdown",
      "id": "12b9997b-f59a-4376-81fd-67201e4c8fc0",
      "metadata": {
        "id": "12b9997b-f59a-4376-81fd-67201e4c8fc0"
      },
      "source": [
        "## Introduction to solving Computer Vision problems using PyTorch\n",
        "\n",
        "You will be introduced to a variety techniques in this notebook. First, you will learn how to download the data, prepare it, and conduct basic exploratory data analysis (EPA). Following that you will be three neural networks to attempt to solve the problem of classifiying the images in the dataset. With each network a degree of complexity will be added. You will then conduct basic evaluation and comparison of all the models you created. Finally, you will learn how to save your models and re-load them for future use.\n",
        "\n",
        "* Note: We included extra exercises for the interested investigator toward the end. Please do no hesitate to contact us should you need any help in tackling those.\n",
        "\n",
        "May the force be with you!"
      ]
    },
    {
      "cell_type": "markdown",
      "id": "bd2fff23-587b-4b3a-be70-3fa3b70b8b86",
      "metadata": {
        "id": "bd2fff23-587b-4b3a-be70-3fa3b70b8b86"
      },
      "source": [
        "## Computer vision libraries in PyTorch\n",
        "* `torchvision` - baseline library for PyTorch computer vision\n",
        "* `torchvision.datasets` - gets datasets and data loading functions for computer vision here\n",
        "* `torchvision.models` - get pretrained computer vision models\n",
        "* `torchvision.transforms` - functions for manipulating your vision data to be suitable for use with an ml model\n",
        "* `torch.utils.data.Dataset` - Base dataset class for PyTorch\n",
        "* `torch.utils.data.DataLoader` - Creates a Python iterable over a dataset"
      ]
    },
    {
      "cell_type": "code",
      "execution_count": 168,
      "id": "7fc74c53-5210-4ac7-adab-486918d6e0b0",
      "metadata": {
        "id": "7fc74c53-5210-4ac7-adab-486918d6e0b0",
        "colab": {
          "base_uri": "https://localhost:8080/"
        },
        "outputId": "c5e8259d-f5fd-457b-a3e3-fba4215625ba"
      },
      "outputs": [
        {
          "output_type": "stream",
          "name": "stdout",
          "text": [
            "PyTorch version: 2.4.1+cu121\n",
            "torchvision version: 0.19.1+cu121\n",
            "GPU is available\n"
          ]
        }
      ],
      "source": [
        "# Import PyTorch\n",
        "\n",
        "import torch\n",
        "from torch import nn\n",
        "\n",
        "# Import torchvision\n",
        "import torchvision\n",
        "from torchvision import datasets\n",
        "from torchvision import transforms\n",
        "from torchvision.transforms import ToTensor\n",
        "\n",
        "# Import matplotlib for visualization\n",
        "import matplotlib.pyplot as plt\n",
        "\n",
        "# Check versions\n",
        "print(f\"PyTorch version: {torch.__version__}\\ntorchvision version: {torchvision.__version__}\")\n",
        "\n",
        "\n",
        "# Check if GPU is available\n",
        "if torch.cuda.is_available():\n",
        "   print(\"GPU is available\")\n",
        "else:\n",
        "   print(\"Change the setting in Colab, under Runtime to 'GPU'\")"
      ]
    },
    {
      "cell_type": "markdown",
      "id": "b93014ae-3cf7-46f0-ac81-79c461cf4dfc",
      "metadata": {
        "id": "b93014ae-3cf7-46f0-ac81-79c461cf4dfc"
      },
      "source": [
        "## 1. Getting a dataset: [FashionMNIST](https://github.com/zalandoresearch/fashion-mnist)\n",
        "\n",
        "To begin working on a computer vision problem, let's get a computer vision dataset.\n",
        "\n",
        "We're going to start with FashionMNIST. MNIST stands for Modified National Institute of Standards and Technology. The [original MNIST dataset](https://en.wikipedia.org/wiki/MNIST_database) contains thousands of examples of handwritten digits (from 0 to 9) and was used to build computer vision models to identify numbers for postal services. Amongst Deep Learning enthusiasts, solving MNIST is largely considered the equivalent to printing your first 'Hello World!' in a new programming language.\n",
        "\n",
        "[FashionMNIST](https://github.com/zalandoresearch/fashion-mnist), made by Zalando Research, is a similar to MNIST but with a data that is slightly harder to classifiy. It contains grayscale images of 10 different kinds of clothing items, as opposed to handwritten digits in MNIST.\n",
        "\n",
        "*[`torchvision.datasets`](https://pytorch.org/vision/stable/datasets.html) contains a lot of example datasets you can use to practice writing computer vision code on. FashionMNIST is one of those datasets. And since it has 10 different image classes, it's a multi-class classification problem. We're going to use `torchvision.datasets` buil-in functions to gain access to FashionMNIST.\n",
        "This is done via [`torchvision.datasets.FashionMNIST()`](https://pytorch.org/vision/main/generated/torchvision.datasets.FashionMNIST.html).\n",
        "\n",
        "To download it, we provide the following parameters:\n",
        "* `root: str` - which folder do you want to download the data to?\n",
        "* `train: Bool` - do you want the training or test split?\n",
        "* `download: Bool` - should the data be downloaded?\n",
        "* [`transform: torchvision.transforms`](https://pytorch.org/vision/stable/transforms.html) - what transformations would you like to do on the data?\n",
        "* `target_transform` - you can transform the targets (labels) if you like too.\n",
        "\n",
        "Many other datasets in `torchvision` have these parameter options.\n",
        "\n",
        "\n"
      ]
    },
    {
      "cell_type": "markdown",
      "id": "XOnAuxqlp5Gn",
      "metadata": {
        "id": "XOnAuxqlp5Gn"
      },
      "source": [
        "### 1.1 FashionMNIST dataset"
      ]
    },
    {
      "cell_type": "code",
      "execution_count": 169,
      "id": "4487b2aa-c303-4f6e-8321-aaf068ff2d86",
      "metadata": {
        "id": "4487b2aa-c303-4f6e-8321-aaf068ff2d86"
      },
      "outputs": [],
      "source": [
        " # Setup the training data. Here we will use PyTorch's own build in functions to facilitate downloading the dataset\n",
        "\n",
        "train_data = datasets.FashionMNIST(\n",
        "    root=\"data\",  # where to download data to?\n",
        "    train=True, # do we want the training dataset?\n",
        "    download=True, # do we want to download yes/no?\n",
        "    transform=torchvision.transforms.ToTensor(), # how do we want to transform the data?\n",
        "    target_transform=None, # how do we want to transform the labels/targets?\n",
        ")\n",
        "\n",
        "test_data = datasets.FashionMNIST(\n",
        "        root=\"data\",\n",
        "        train=False,\n",
        "        download=True,\n",
        "        transform=torchvision.transforms.ToTensor(),\n",
        "        target_transform=None\n",
        ")\n"
      ]
    },
    {
      "cell_type": "code",
      "execution_count": 170,
      "id": "85989148-6354-4dbc-8b5e-21e76d7b534f",
      "metadata": {
        "id": "85989148-6354-4dbc-8b5e-21e76d7b534f",
        "colab": {
          "base_uri": "https://localhost:8080/"
        },
        "outputId": "f286eaff-7cae-4b2e-c091-eae3bad76b8c"
      },
      "outputs": [
        {
          "output_type": "execute_result",
          "data": {
            "text/plain": [
              "(60000, 10000)"
            ]
          },
          "metadata": {},
          "execution_count": 170
        }
      ],
      "source": [
        "# Confirming the size of the train/test split. That's 60k images and labels in the training data and 10k images and labels in the testing data\n",
        "len(train_data), len(test_data)"
      ]
    },
    {
      "cell_type": "code",
      "execution_count": 171,
      "id": "796da16b-0bad-483a-a608-b6f205596505",
      "metadata": {
        "id": "796da16b-0bad-483a-a608-b6f205596505",
        "colab": {
          "base_uri": "https://localhost:8080/"
        },
        "outputId": "17c1d018-573f-4a82-d88d-f26d97ced337"
      },
      "outputs": [
        {
          "output_type": "execute_result",
          "data": {
            "text/plain": [
              "(tensor([[[0.0000, 0.0000, 0.0000, 0.0000, 0.0000, 0.0000, 0.0000, 0.0000,\n",
              "           0.0000, 0.0000, 0.0000, 0.0000, 0.0000, 0.0000, 0.0000, 0.0000,\n",
              "           0.0000, 0.0000, 0.0000, 0.0000, 0.0000, 0.0000, 0.0000, 0.0000,\n",
              "           0.0000, 0.0000, 0.0000, 0.0000],\n",
              "          [0.0000, 0.0000, 0.0000, 0.0000, 0.0000, 0.0000, 0.0000, 0.0000,\n",
              "           0.0000, 0.0000, 0.0000, 0.0000, 0.0000, 0.0000, 0.0000, 0.0000,\n",
              "           0.0000, 0.0000, 0.0000, 0.0000, 0.0000, 0.0000, 0.0000, 0.0000,\n",
              "           0.0000, 0.0000, 0.0000, 0.0000],\n",
              "          [0.0000, 0.0000, 0.0000, 0.0000, 0.0000, 0.0000, 0.0000, 0.0000,\n",
              "           0.0000, 0.0000, 0.0000, 0.0000, 0.0000, 0.0000, 0.0000, 0.0000,\n",
              "           0.0000, 0.0000, 0.0000, 0.0000, 0.0000, 0.0000, 0.0000, 0.0000,\n",
              "           0.0000, 0.0000, 0.0000, 0.0000],\n",
              "          [0.0000, 0.0000, 0.0000, 0.0000, 0.0000, 0.0000, 0.0000, 0.0000,\n",
              "           0.0000, 0.0000, 0.0000, 0.0000, 0.0039, 0.0000, 0.0000, 0.0510,\n",
              "           0.2863, 0.0000, 0.0000, 0.0039, 0.0157, 0.0000, 0.0000, 0.0000,\n",
              "           0.0000, 0.0039, 0.0039, 0.0000],\n",
              "          [0.0000, 0.0000, 0.0000, 0.0000, 0.0000, 0.0000, 0.0000, 0.0000,\n",
              "           0.0000, 0.0000, 0.0000, 0.0000, 0.0118, 0.0000, 0.1412, 0.5333,\n",
              "           0.4980, 0.2431, 0.2118, 0.0000, 0.0000, 0.0000, 0.0039, 0.0118,\n",
              "           0.0157, 0.0000, 0.0000, 0.0118],\n",
              "          [0.0000, 0.0000, 0.0000, 0.0000, 0.0000, 0.0000, 0.0000, 0.0000,\n",
              "           0.0000, 0.0000, 0.0000, 0.0000, 0.0235, 0.0000, 0.4000, 0.8000,\n",
              "           0.6902, 0.5255, 0.5647, 0.4824, 0.0902, 0.0000, 0.0000, 0.0000,\n",
              "           0.0000, 0.0471, 0.0392, 0.0000],\n",
              "          [0.0000, 0.0000, 0.0000, 0.0000, 0.0000, 0.0000, 0.0000, 0.0000,\n",
              "           0.0000, 0.0000, 0.0000, 0.0000, 0.0000, 0.0000, 0.6078, 0.9255,\n",
              "           0.8118, 0.6980, 0.4196, 0.6118, 0.6314, 0.4275, 0.2510, 0.0902,\n",
              "           0.3020, 0.5098, 0.2824, 0.0588],\n",
              "          [0.0000, 0.0000, 0.0000, 0.0000, 0.0000, 0.0000, 0.0000, 0.0000,\n",
              "           0.0000, 0.0000, 0.0000, 0.0039, 0.0000, 0.2706, 0.8118, 0.8745,\n",
              "           0.8549, 0.8471, 0.8471, 0.6392, 0.4980, 0.4745, 0.4784, 0.5725,\n",
              "           0.5529, 0.3451, 0.6745, 0.2588],\n",
              "          [0.0000, 0.0000, 0.0000, 0.0000, 0.0000, 0.0000, 0.0000, 0.0000,\n",
              "           0.0000, 0.0039, 0.0039, 0.0039, 0.0000, 0.7843, 0.9098, 0.9098,\n",
              "           0.9137, 0.8980, 0.8745, 0.8745, 0.8431, 0.8353, 0.6431, 0.4980,\n",
              "           0.4824, 0.7686, 0.8980, 0.0000],\n",
              "          [0.0000, 0.0000, 0.0000, 0.0000, 0.0000, 0.0000, 0.0000, 0.0000,\n",
              "           0.0000, 0.0000, 0.0000, 0.0000, 0.0000, 0.7176, 0.8824, 0.8471,\n",
              "           0.8745, 0.8941, 0.9216, 0.8902, 0.8784, 0.8706, 0.8784, 0.8667,\n",
              "           0.8745, 0.9608, 0.6784, 0.0000],\n",
              "          [0.0000, 0.0000, 0.0000, 0.0000, 0.0000, 0.0000, 0.0000, 0.0000,\n",
              "           0.0000, 0.0000, 0.0000, 0.0000, 0.0000, 0.7569, 0.8941, 0.8549,\n",
              "           0.8353, 0.7765, 0.7059, 0.8314, 0.8235, 0.8275, 0.8353, 0.8745,\n",
              "           0.8627, 0.9529, 0.7922, 0.0000],\n",
              "          [0.0000, 0.0000, 0.0000, 0.0000, 0.0000, 0.0000, 0.0000, 0.0000,\n",
              "           0.0000, 0.0039, 0.0118, 0.0000, 0.0471, 0.8588, 0.8627, 0.8314,\n",
              "           0.8549, 0.7529, 0.6627, 0.8902, 0.8157, 0.8549, 0.8784, 0.8314,\n",
              "           0.8863, 0.7725, 0.8196, 0.2039],\n",
              "          [0.0000, 0.0000, 0.0000, 0.0000, 0.0000, 0.0000, 0.0000, 0.0000,\n",
              "           0.0000, 0.0000, 0.0235, 0.0000, 0.3882, 0.9569, 0.8706, 0.8627,\n",
              "           0.8549, 0.7961, 0.7765, 0.8667, 0.8431, 0.8353, 0.8706, 0.8627,\n",
              "           0.9608, 0.4667, 0.6549, 0.2196],\n",
              "          [0.0000, 0.0000, 0.0000, 0.0000, 0.0000, 0.0000, 0.0000, 0.0000,\n",
              "           0.0000, 0.0157, 0.0000, 0.0000, 0.2157, 0.9255, 0.8941, 0.9020,\n",
              "           0.8941, 0.9412, 0.9098, 0.8353, 0.8549, 0.8745, 0.9176, 0.8510,\n",
              "           0.8510, 0.8196, 0.3608, 0.0000],\n",
              "          [0.0000, 0.0000, 0.0039, 0.0157, 0.0235, 0.0275, 0.0078, 0.0000,\n",
              "           0.0000, 0.0000, 0.0000, 0.0000, 0.9294, 0.8863, 0.8510, 0.8745,\n",
              "           0.8706, 0.8588, 0.8706, 0.8667, 0.8471, 0.8745, 0.8980, 0.8431,\n",
              "           0.8549, 1.0000, 0.3020, 0.0000],\n",
              "          [0.0000, 0.0118, 0.0000, 0.0000, 0.0000, 0.0000, 0.0000, 0.0000,\n",
              "           0.0000, 0.2431, 0.5686, 0.8000, 0.8941, 0.8118, 0.8353, 0.8667,\n",
              "           0.8549, 0.8157, 0.8275, 0.8549, 0.8784, 0.8745, 0.8588, 0.8431,\n",
              "           0.8784, 0.9569, 0.6235, 0.0000],\n",
              "          [0.0000, 0.0000, 0.0000, 0.0000, 0.0706, 0.1725, 0.3216, 0.4196,\n",
              "           0.7412, 0.8941, 0.8627, 0.8706, 0.8510, 0.8863, 0.7843, 0.8039,\n",
              "           0.8275, 0.9020, 0.8784, 0.9176, 0.6902, 0.7373, 0.9804, 0.9725,\n",
              "           0.9137, 0.9333, 0.8431, 0.0000],\n",
              "          [0.0000, 0.2235, 0.7333, 0.8157, 0.8784, 0.8667, 0.8784, 0.8157,\n",
              "           0.8000, 0.8392, 0.8157, 0.8196, 0.7843, 0.6235, 0.9608, 0.7569,\n",
              "           0.8078, 0.8745, 1.0000, 1.0000, 0.8667, 0.9176, 0.8667, 0.8275,\n",
              "           0.8627, 0.9098, 0.9647, 0.0000],\n",
              "          [0.0118, 0.7922, 0.8941, 0.8784, 0.8667, 0.8275, 0.8275, 0.8392,\n",
              "           0.8039, 0.8039, 0.8039, 0.8627, 0.9412, 0.3137, 0.5882, 1.0000,\n",
              "           0.8980, 0.8667, 0.7373, 0.6039, 0.7490, 0.8235, 0.8000, 0.8196,\n",
              "           0.8706, 0.8941, 0.8824, 0.0000],\n",
              "          [0.3843, 0.9137, 0.7765, 0.8235, 0.8706, 0.8980, 0.8980, 0.9176,\n",
              "           0.9765, 0.8627, 0.7608, 0.8431, 0.8510, 0.9451, 0.2549, 0.2863,\n",
              "           0.4157, 0.4588, 0.6588, 0.8588, 0.8667, 0.8431, 0.8510, 0.8745,\n",
              "           0.8745, 0.8784, 0.8980, 0.1137],\n",
              "          [0.2941, 0.8000, 0.8314, 0.8000, 0.7569, 0.8039, 0.8275, 0.8824,\n",
              "           0.8471, 0.7255, 0.7725, 0.8078, 0.7765, 0.8353, 0.9412, 0.7647,\n",
              "           0.8902, 0.9608, 0.9373, 0.8745, 0.8549, 0.8314, 0.8196, 0.8706,\n",
              "           0.8627, 0.8667, 0.9020, 0.2627],\n",
              "          [0.1882, 0.7961, 0.7176, 0.7608, 0.8353, 0.7725, 0.7255, 0.7451,\n",
              "           0.7608, 0.7529, 0.7922, 0.8392, 0.8588, 0.8667, 0.8627, 0.9255,\n",
              "           0.8824, 0.8471, 0.7804, 0.8078, 0.7294, 0.7098, 0.6941, 0.6745,\n",
              "           0.7098, 0.8039, 0.8078, 0.4510],\n",
              "          [0.0000, 0.4784, 0.8588, 0.7569, 0.7020, 0.6706, 0.7176, 0.7686,\n",
              "           0.8000, 0.8235, 0.8353, 0.8118, 0.8275, 0.8235, 0.7843, 0.7686,\n",
              "           0.7608, 0.7490, 0.7647, 0.7490, 0.7765, 0.7529, 0.6902, 0.6118,\n",
              "           0.6549, 0.6941, 0.8235, 0.3608],\n",
              "          [0.0000, 0.0000, 0.2902, 0.7412, 0.8314, 0.7490, 0.6863, 0.6745,\n",
              "           0.6863, 0.7098, 0.7255, 0.7373, 0.7412, 0.7373, 0.7569, 0.7765,\n",
              "           0.8000, 0.8196, 0.8235, 0.8235, 0.8275, 0.7373, 0.7373, 0.7608,\n",
              "           0.7529, 0.8471, 0.6667, 0.0000],\n",
              "          [0.0078, 0.0000, 0.0000, 0.0000, 0.2588, 0.7843, 0.8706, 0.9294,\n",
              "           0.9373, 0.9490, 0.9647, 0.9529, 0.9569, 0.8667, 0.8627, 0.7569,\n",
              "           0.7490, 0.7020, 0.7137, 0.7137, 0.7098, 0.6902, 0.6510, 0.6588,\n",
              "           0.3882, 0.2275, 0.0000, 0.0000],\n",
              "          [0.0000, 0.0000, 0.0000, 0.0000, 0.0000, 0.0000, 0.0000, 0.1569,\n",
              "           0.2392, 0.1725, 0.2824, 0.1608, 0.1373, 0.0000, 0.0000, 0.0000,\n",
              "           0.0000, 0.0000, 0.0000, 0.0000, 0.0000, 0.0000, 0.0000, 0.0000,\n",
              "           0.0000, 0.0000, 0.0000, 0.0000],\n",
              "          [0.0000, 0.0000, 0.0000, 0.0000, 0.0000, 0.0000, 0.0000, 0.0000,\n",
              "           0.0000, 0.0000, 0.0000, 0.0000, 0.0000, 0.0000, 0.0000, 0.0000,\n",
              "           0.0000, 0.0000, 0.0000, 0.0000, 0.0000, 0.0000, 0.0000, 0.0000,\n",
              "           0.0000, 0.0000, 0.0000, 0.0000],\n",
              "          [0.0000, 0.0000, 0.0000, 0.0000, 0.0000, 0.0000, 0.0000, 0.0000,\n",
              "           0.0000, 0.0000, 0.0000, 0.0000, 0.0000, 0.0000, 0.0000, 0.0000,\n",
              "           0.0000, 0.0000, 0.0000, 0.0000, 0.0000, 0.0000, 0.0000, 0.0000,\n",
              "           0.0000, 0.0000, 0.0000, 0.0000]]]),\n",
              " 9)"
            ]
          },
          "metadata": {},
          "execution_count": 171
        }
      ],
      "source": [
        "# see first the training exmaple\n",
        "image,label=train_data[0]\n",
        "image,label\n",
        "\n",
        "# these are the pixels representing the first image in the data + the label (the number 9 at the bottom)\n",
        "# Do you notice anything about the values of the pixels in the image?"
      ]
    },
    {
      "cell_type": "code",
      "execution_count": 172,
      "id": "53b4c8b9-7ca9-4367-bc5e-8cde54cde81d",
      "metadata": {
        "id": "53b4c8b9-7ca9-4367-bc5e-8cde54cde81d",
        "colab": {
          "base_uri": "https://localhost:8080/"
        },
        "outputId": "7c6a601e-4ff6-4e99-9375-ed343b0936a0"
      },
      "outputs": [
        {
          "output_type": "execute_result",
          "data": {
            "text/plain": [
              "['T-shirt/top',\n",
              " 'Trouser',\n",
              " 'Pullover',\n",
              " 'Dress',\n",
              " 'Coat',\n",
              " 'Sandal',\n",
              " 'Shirt',\n",
              " 'Sneaker',\n",
              " 'Bag',\n",
              " 'Ankle boot']"
            ]
          },
          "metadata": {},
          "execution_count": 172
        }
      ],
      "source": [
        "class_names = train_data.classes\n",
        "class_names\n",
        "# Which one of these do you think correspond to the number 9 above? [the label that appeared after the pixels odf the image]"
      ]
    },
    {
      "cell_type": "code",
      "execution_count": 173,
      "id": "KS20wG5ICX4c",
      "metadata": {
        "id": "KS20wG5ICX4c",
        "colab": {
          "base_uri": "https://localhost:8080/"
        },
        "outputId": "fbefee33-54aa-487a-97cd-19c5b7e20d5c"
      },
      "outputs": [
        {
          "output_type": "stream",
          "name": "stdout",
          "text": [
            "The first image has a label:9 representing a: Ankle boot\n"
          ]
        }
      ],
      "source": [
        "print(f\"The first image has a label:{label} representing a: {class_names[label]}\")"
      ]
    },
    {
      "cell_type": "code",
      "execution_count": 174,
      "id": "7d1a5878-95b5-4e3d-8f61-d6e83a912299",
      "metadata": {
        "id": "7d1a5878-95b5-4e3d-8f61-d6e83a912299",
        "colab": {
          "base_uri": "https://localhost:8080/"
        },
        "outputId": "f5792f39-d28d-46d6-de16-d3dcd59aca7d"
      },
      "outputs": [
        {
          "output_type": "execute_result",
          "data": {
            "text/plain": [
              "{'T-shirt/top': 0,\n",
              " 'Trouser': 1,\n",
              " 'Pullover': 2,\n",
              " 'Dress': 3,\n",
              " 'Coat': 4,\n",
              " 'Sandal': 5,\n",
              " 'Shirt': 6,\n",
              " 'Sneaker': 7,\n",
              " 'Bag': 8,\n",
              " 'Ankle boot': 9}"
            ]
          },
          "metadata": {},
          "execution_count": 174
        }
      ],
      "source": [
        "class_to_idx = train_data.class_to_idx\n",
        "class_to_idx"
      ]
    },
    {
      "cell_type": "code",
      "execution_count": 175,
      "id": "7fe7618d-3f2b-43e8-8d86-e2383b671514",
      "metadata": {
        "id": "7fe7618d-3f2b-43e8-8d86-e2383b671514",
        "colab": {
          "base_uri": "https://localhost:8080/"
        },
        "outputId": "1e1ab980-397e-4a30-cd0d-12ee88dd1c78"
      },
      "outputs": [
        {
          "output_type": "execute_result",
          "data": {
            "text/plain": [
              "tensor([9, 0, 0,  ..., 3, 0, 5])"
            ]
          },
          "metadata": {},
          "execution_count": 175
        }
      ],
      "source": [
        "# These are the y_train! Or the ground truths! Each entry corresponds to an image in train_data[0]\n",
        "train_data.targets"
      ]
    },
    {
      "cell_type": "code",
      "execution_count": 176,
      "id": "5c00a915-735a-4a15-9c7b-7a081a3b2106",
      "metadata": {
        "id": "5c00a915-735a-4a15-9c7b-7a081a3b2106",
        "colab": {
          "base_uri": "https://localhost:8080/"
        },
        "outputId": "ce8c3692-6e32-4356-afc9-4cf09e9cacd5"
      },
      "outputs": [
        {
          "output_type": "stream",
          "name": "stdout",
          "text": [
            "Image shape: torch.Size([1, 28, 28]) -> [c,h,w]\n",
            "Image label: Ankle boot\n"
          ]
        }
      ],
      "source": [
        "# check the shape\n",
        "print(f\"Image shape: {image.shape} -> [c,h,w]\")\n",
        "print(f\"Image label: {class_names[label]}\")\n",
        "\n",
        "# Remember that c= channel, in this case c=1 since we are processing black and white images only"
      ]
    },
    {
      "cell_type": "markdown",
      "id": "49cdc182-ee96-4433-89ee-fbec320c0ee6",
      "metadata": {
        "id": "49cdc182-ee96-4433-89ee-fbec320c0ee6"
      },
      "source": [
        "### 1.2 Visualising our data"
      ]
    },
    {
      "cell_type": "code",
      "execution_count": 177,
      "id": "982fbb46-eb8f-4997-a06d-5992566f7158",
      "metadata": {
        "id": "982fbb46-eb8f-4997-a06d-5992566f7158",
        "colab": {
          "base_uri": "https://localhost:8080/",
          "height": 446
        },
        "outputId": "ee08b8e9-e9f7-4d15-84a1-2b59172b6ff6"
      },
      "outputs": [
        {
          "output_type": "stream",
          "name": "stdout",
          "text": [
            "Image shape: torch.Size([1, 28, 28])\n"
          ]
        },
        {
          "output_type": "display_data",
          "data": {
            "text/plain": [
              "<Figure size 640x480 with 1 Axes>"
            ],
            "image/png": "[encoded data removed]"
          },
          "metadata": {}
        }
      ],
      "source": [
        "import matplotlib.pyplot as plt\n",
        "image, label = train_data[0]\n",
        "print(f\"Image shape: {image.shape}\")\n",
        "plt.imshow(image.squeeze(), cmap=\"gray\")\n",
        "plt.title(class_names[label]);\n",
        "plt.axis(False);"
      ]
    },
    {
      "cell_type": "code",
      "execution_count": 178,
      "id": "97f1b72b-f762-4a32-8e75-a11bc62c3a6a",
      "metadata": {
        "id": "97f1b72b-f762-4a32-8e75-a11bc62c3a6a",
        "colab": {
          "base_uri": "https://localhost:8080/",
          "height": 1000
        },
        "outputId": "212f58f0-3f35-4904-8900-140a5f9f3eb0"
      },
      "outputs": [
        {
          "output_type": "display_data",
          "data": {
            "text/plain": [
              "<Figure size 1600x1600 with 25 Axes>"
            ],
            "image/png": "[encoded data removed]"
          },
          "metadata": {}
        }
      ],
      "source": [
        "# plot more images\n",
        "torch.manual_seed(42)\n",
        "torch.cuda.manual_seed(42)\n",
        "\n",
        "fig = plt.figure(figsize=(16,16))\n",
        "rows, cols = 5, 5\n",
        "for i in range(1, rows*cols+1):\n",
        "    random_idx = torch.randint(0,len(train_data), size=[1]).item()\n",
        "    img, label = train_data[random_idx]\n",
        "    fig.add_subplot(rows,cols,i);\n",
        "    plt.imshow(img.squeeze(), cmap=\"gray\")\n",
        "    plt.title(class_names[label])\n",
        "    plt.axis(False);"
      ]
    },
    {
      "cell_type": "code",
      "execution_count": 179,
      "id": "386f4c48-0840-428c-8802-6c3aab72f1b1",
      "metadata": {
        "id": "386f4c48-0840-428c-8802-6c3aab72f1b1",
        "colab": {
          "base_uri": "https://localhost:8080/"
        },
        "outputId": "f3fce06d-f022-4085-ef4e-e434bcbde647"
      },
      "outputs": [
        {
          "output_type": "execute_result",
          "data": {
            "text/plain": [
              "(Dataset FashionMNIST\n",
              "     Number of datapoints: 60000\n",
              "     Root location: data\n",
              "     Split: Train\n",
              "     StandardTransform\n",
              " Transform: ToTensor(),\n",
              " Dataset FashionMNIST\n",
              "     Number of datapoints: 10000\n",
              "     Root location: data\n",
              "     Split: Test\n",
              "     StandardTransform\n",
              " Transform: ToTensor())"
            ]
          },
          "metadata": {},
          "execution_count": 179
        }
      ],
      "source": [
        "# Summary of our data\n",
        "train_data, test_data"
      ]
    },
    {
      "cell_type": "markdown",
      "id": "45e0d667-1b66-4dcc-9cdb-44e3cbf70485",
      "metadata": {
        "id": "45e0d667-1b66-4dcc-9cdb-44e3cbf70485"
      },
      "source": [
        "## 2. Prepare DataLoader\n",
        "Right now, our data is in the form of PyTorch Datasets.\n",
        "Dataloaders turn our dataset into a python iterable.\n",
        "More specifically, we want to turn our data into batches (or mini-batches).\n",
        "Why would we do this?\n",
        "\n",
        "1. It is more computationally efficient, as in, your computing hardware may not be able to look (store in memory) 60000 images in one go.So we break it down to 32 images at a time (batch size of 32).\n",
        "2. It gives our neural network more chances to update its gradient per epoch. Recall that Gradient Descent updates will happen at the end of every batch (every 32 images) rather at the end of 60k images."
      ]
    },
    {
      "cell_type": "code",
      "execution_count": 180,
      "id": "2c7d7f4a-5f1d-472d-9890-d75138f0708f",
      "metadata": {
        "id": "2c7d7f4a-5f1d-472d-9890-d75138f0708f",
        "colab": {
          "base_uri": "https://localhost:8080/"
        },
        "outputId": "6b95d1aa-2c47-4fe1-8631-715d3a59b4bd"
      },
      "outputs": [
        {
          "output_type": "execute_result",
          "data": {
            "text/plain": [
              "(<torch.utils.data.dataloader.DataLoader at 0x7be6651dfd90>,\n",
              " <torch.utils.data.dataloader.DataLoader at 0x7be6651ddf90>)"
            ]
          },
          "metadata": {},
          "execution_count": 180
        }
      ],
      "source": [
        "# turn train_data into DataLoader\n",
        "from torch.utils.data import DataLoader\n",
        "\n",
        "# set up the batch size hyperparameter. 32 is usually a good size to start from. More often than not, it will suit the pipeline you're developing\n",
        "BATCH_SIZE = 32\n",
        "\n",
        "# turn data into iterables\n",
        "train_dataloader = DataLoader(dataset=train_data,\n",
        "                                 batch_size=BATCH_SIZE,\n",
        "                                 shuffle=True)\n",
        "test_dataloader = DataLoader(dataset=test_data,\n",
        "                                batch_size=BATCH_SIZE,\n",
        "                                shuffle=False) # test data is only used for evaluation, shuffling it makes no difference and makes the process of comparing different models easier\n",
        "\n",
        "train_dataloader, test_dataloader"
      ]
    },
    {
      "cell_type": "code",
      "execution_count": 181,
      "id": "af1bab67-4f23-43eb-b2ee-c8f7bb836c2a",
      "metadata": {
        "id": "af1bab67-4f23-43eb-b2ee-c8f7bb836c2a",
        "colab": {
          "base_uri": "https://localhost:8080/"
        },
        "outputId": "5476fa9b-3390-4493-d74a-78e40699c501"
      },
      "outputs": [
        {
          "output_type": "stream",
          "name": "stdout",
          "text": [
            "DataLoaders: (<torch.utils.data.dataloader.DataLoader object at 0x7be6651dfd90>, <torch.utils.data.dataloader.DataLoader object at 0x7be6651ddf90>)\n",
            "Length of train_dataloader: 1875 batches of 32...\n",
            "Length of test_dataloader: 313 batches of 32...\n"
          ]
        }
      ],
      "source": [
        "# Let's check out what what we've created\n",
        "print(f\"DataLoaders: {train_dataloader, test_dataloader}\")\n",
        "print(f\"Length of train_dataloader: {len(train_dataloader)} batches of {BATCH_SIZE}...\")\n",
        "print(f\"Length of test_dataloader: {len(test_dataloader)} batches of {BATCH_SIZE}...\")\n",
        "\n",
        "# You can double check the above by dividing 60k by 32"
      ]
    },
    {
      "cell_type": "code",
      "execution_count": 182,
      "id": "06955f56-fd44-43b7-9fa5-0361752c2201",
      "metadata": {
        "id": "06955f56-fd44-43b7-9fa5-0361752c2201",
        "colab": {
          "base_uri": "https://localhost:8080/"
        },
        "outputId": "e91a34ea-1bcd-4ef2-f7ae-812a48cd6653"
      },
      "outputs": [
        {
          "output_type": "execute_result",
          "data": {
            "text/plain": [
              "(torch.Size([32, 1, 28, 28]), torch.Size([32]))"
            ]
          },
          "metadata": {},
          "execution_count": 182
        }
      ],
      "source": [
        "# Check out what's inside the training dataloader\n",
        "train_features_batch, train_labels_batch = next(iter(train_dataloader))\n",
        "train_features_batch.shape, train_labels_batch.shape\n",
        "# you can read the output as a batch of 32 images, each with size [1,28,28], with corresponding 32 labels"
      ]
    },
    {
      "cell_type": "code",
      "execution_count": 183,
      "id": "a6e8bb92-70ac-4253-b9a4-f7463805ed73",
      "metadata": {
        "id": "a6e8bb92-70ac-4253-b9a4-f7463805ed73",
        "colab": {
          "base_uri": "https://localhost:8080/",
          "height": 464
        },
        "outputId": "8153cc34-5d71-4f93-b790-2d3deabee330"
      },
      "outputs": [
        {
          "output_type": "stream",
          "name": "stdout",
          "text": [
            "Image size: torch.Size([1, 28, 28])\n",
            "Label: 1, label size: torch.Size([])\n"
          ]
        },
        {
          "output_type": "display_data",
          "data": {
            "text/plain": [
              "<Figure size 640x480 with 1 Axes>"
            ],
            "image/png": "[encoded data removed]"
          },
          "metadata": {}
        }
      ],
      "source": [
        "# show a sample\n",
        "torch.manual_seed(42)\n",
        "# generate a random index\n",
        "random_idx = torch.randint(0, len(train_features_batch), size=[1]).item()\n",
        "# pick out a random image and its label\n",
        "img, label = train_features_batch[random_idx], train_labels_batch[random_idx]\n",
        "\n",
        "plt.imshow(img.squeeze(), cmap=\"gray\")\n",
        "plt.title(class_names[label])\n",
        "plt.axis(False)\n",
        "print(f\"Image size: {img.shape}\")\n",
        "print(f\"Label: {label}, label size: {label.shape}\")"
      ]
    },
    {
      "cell_type": "markdown",
      "id": "4573cbbe-5a6b-4b81-b960-b2ca9bea8601",
      "metadata": {
        "id": "4573cbbe-5a6b-4b81-b960-b2ca9bea8601"
      },
      "source": [
        "## 3. Model 0: Build a baseline model\n",
        "When starting to build a series of machine learning modelling experiements, it's best practice to start with a baseline model.\n",
        "A baseline model is a simple model you will try and improve upon with subsequent models/expirements.\n",
        "In other words, start simply and add complextiy when necessary.\n",
        "\n",
        "\n",
        "[`torch.nn.Flatten()`](https://pytorch.org/docs/stable/generated/torch.nn.Flatten.html) - Please read the documentation. Can you guess what this layer is doing to the input data (image)?"
      ]
    },
    {
      "cell_type": "code",
      "execution_count": 184,
      "id": "b3a811e5-b055-4002-bcf7-59eb4d7b09d2",
      "metadata": {
        "id": "b3a811e5-b055-4002-bcf7-59eb4d7b09d2",
        "colab": {
          "base_uri": "https://localhost:8080/"
        },
        "outputId": "660a14b9-08b0-4f94-d4a1-872a44d5614c"
      },
      "outputs": [
        {
          "output_type": "stream",
          "name": "stdout",
          "text": [
            "Shape before flattening: torch.Size([1, 28, 28]) -> [color_channels, height, width]\n",
            "Shape after flattening: torch.Size([1, 784]) -> [color_channels, height*width]\n"
          ]
        }
      ],
      "source": [
        "# create a flatten later\n",
        "flatten_model = nn.Flatten()\n",
        "\n",
        "# Get a single sample (the first sample image)\n",
        "x = train_features_batch[0]\n",
        "\n",
        "output = flatten_model(x)  # will perform a forward pass on the flatten layer\n",
        "\n",
        "# Print out what happened\n",
        "print(f\"Shape before flattening: {x.shape} -> [color_channels, height, width]\")\n",
        "print(f\"Shape after flattening: {output.shape} -> [color_channels, height*width]\")"
      ]
    },
    {
      "cell_type": "markdown",
      "id": "B4f7HaG95a9X",
      "metadata": {
        "id": "B4f7HaG95a9X"
      },
      "source": [
        "**Note**: Please a have a look at PyTorch [documentation](https://pytorch.org/tutorials/beginner/basics/buildmodel_tutorial.html) before running the cell below."
      ]
    },
    {
      "cell_type": "code",
      "execution_count": 185,
      "id": "b7b638f0-b666-4922-bb67-7002254b9f9f",
      "metadata": {
        "id": "b7b638f0-b666-4922-bb67-7002254b9f9f"
      },
      "outputs": [],
      "source": [
        "from torch import nn\n",
        "\n",
        "# We now create a our first neural network. This will be a basic feed forward linear network\n",
        "\n",
        "class FashionMNISTModelV0(nn.Module):\n",
        "    def __init__(self,\n",
        "                 input_shape: int,\n",
        "                 hidden_units: int,\n",
        "                 output_shape: int):\n",
        "        super().__init__()\n",
        "        # Here we build the architecure of the model\n",
        "        self.layer_stack = nn.Sequential(\n",
        "            nn.Flatten(),\n",
        "            nn.Linear(in_features=input_shape,\n",
        "                      out_features=hidden_units),\n",
        "            nn.Linear(in_features=hidden_units,\n",
        "                      out_features=output_shape)\n",
        "        )\n",
        "\n",
        "    def forward(self, x):  # x is the batch of images\n",
        "        return self.layer_stack(x)"
      ]
    },
    {
      "cell_type": "code",
      "execution_count": 186,
      "id": "9aacaf3c-e422-44c3-8b52-c7aa302c1e99",
      "metadata": {
        "id": "9aacaf3c-e422-44c3-8b52-c7aa302c1e99",
        "colab": {
          "base_uri": "https://localhost:8080/"
        },
        "outputId": "0d238ba3-e605-4a8e-bda5-2393093f46d6"
      },
      "outputs": [
        {
          "output_type": "execute_result",
          "data": {
            "text/plain": [
              "FashionMNISTModelV0(\n",
              "  (layer_stack): Sequential(\n",
              "    (0): Flatten(start_dim=1, end_dim=-1)\n",
              "    (1): Linear(in_features=784, out_features=10, bias=True)\n",
              "    (2): Linear(in_features=10, out_features=10, bias=True)\n",
              "  )\n",
              ")"
            ]
          },
          "metadata": {},
          "execution_count": 186
        }
      ],
      "source": [
        "torch.manual_seed(42)\n",
        "# We create one instance of the model and set up the model with desired input parameters. These will be the size of the images the model will receive\n",
        "# the number of hidden units inside the model (higher is more computationally expensive and complex) and the output shape (usually the number of classes in the data)\n",
        "model_0 = FashionMNISTModelV0(\n",
        "    input_shape=28*28,\n",
        "    hidden_units=10,\n",
        "    output_shape=len(class_names) # one for every class\n",
        ").to(\"cpu\") # Let's stay on the cpu for now\n",
        "\n",
        "\n",
        "model_0"
      ]
    },
    {
      "cell_type": "code",
      "execution_count": 187,
      "id": "cc078177-605a-4bfb-9d7a-4053e0278cbb",
      "metadata": {
        "id": "cc078177-605a-4bfb-9d7a-4053e0278cbb",
        "colab": {
          "base_uri": "https://localhost:8080/"
        },
        "outputId": "e5eed9bf-a5cc-460b-e987-39f16d2f14bc"
      },
      "outputs": [
        {
          "output_type": "execute_result",
          "data": {
            "text/plain": [
              "tensor([[-0.0315,  0.3171,  0.0531, -0.2525,  0.5959,  0.2112,  0.3233,  0.2694,\n",
              "         -0.1004,  0.0157]], grad_fn=<AddmmBackward0>)"
            ]
          },
          "metadata": {},
          "execution_count": 187
        }
      ],
      "source": [
        "# random data tensor\n",
        "dummy_x = torch.rand([1, 1, 28, 28])\n",
        "# forward pass with the random data\n",
        "model_0(dummy_x)"
      ]
    },
    {
      "cell_type": "code",
      "execution_count": 188,
      "id": "f322931e-7a28-4556-9eb6-f2c1664773c7",
      "metadata": {
        "id": "f322931e-7a28-4556-9eb6-f2c1664773c7",
        "colab": {
          "base_uri": "https://localhost:8080/"
        },
        "outputId": "300023b0-e087-4f96-9342-316a840f4678"
      },
      "outputs": [
        {
          "output_type": "execute_result",
          "data": {
            "text/plain": [
              "OrderedDict([('layer_stack.1.weight',\n",
              "              tensor([[ 0.0273,  0.0296, -0.0084,  ..., -0.0142,  0.0093,  0.0135],\n",
              "                      [-0.0188, -0.0354,  0.0187,  ..., -0.0106, -0.0001,  0.0115],\n",
              "                      [-0.0008,  0.0017,  0.0045,  ..., -0.0127, -0.0188,  0.0059],\n",
              "                      ...,\n",
              "                      [-0.0116,  0.0273, -0.0344,  ...,  0.0176,  0.0283, -0.0011],\n",
              "                      [-0.0230,  0.0257,  0.0291,  ..., -0.0187, -0.0087,  0.0001],\n",
              "                      [ 0.0176, -0.0147,  0.0053,  ..., -0.0336, -0.0221,  0.0205]])),\n",
              "             ('layer_stack.1.bias',\n",
              "              tensor([-0.0093,  0.0283, -0.0033,  0.0255,  0.0017,  0.0037, -0.0302, -0.0123,\n",
              "                       0.0018,  0.0163])),\n",
              "             ('layer_stack.2.weight',\n",
              "              tensor([[ 0.0614, -0.0687,  0.0021,  0.2718,  0.2109,  0.1079, -0.2279, -0.1063,\n",
              "                        0.2019,  0.2847],\n",
              "                      [-0.1495,  0.1344, -0.0740,  0.2006, -0.0475, -0.2514, -0.3130, -0.0118,\n",
              "                        0.0932, -0.1864],\n",
              "                      [ 0.2488,  0.1500,  0.1907,  0.1457, -0.3050, -0.0580,  0.1643,  0.1565,\n",
              "                       -0.2877, -0.1792],\n",
              "                      [ 0.2305, -0.2618,  0.2397, -0.0610,  0.0232,  0.1542,  0.0851, -0.2027,\n",
              "                        0.1030, -0.2715],\n",
              "                      [-0.1596, -0.0555, -0.0633,  0.2302, -0.1726,  0.2654,  0.1473,  0.1029,\n",
              "                        0.2252, -0.2160],\n",
              "                      [-0.2725,  0.0118,  0.1559,  0.1596,  0.0132,  0.3024,  0.1124,  0.1366,\n",
              "                       -0.1533,  0.0965],\n",
              "                      [-0.1184, -0.2555, -0.2057, -0.1909, -0.0477, -0.1324,  0.2905,  0.1307,\n",
              "                       -0.2629,  0.0133],\n",
              "                      [ 0.2727, -0.0127,  0.0513,  0.0863, -0.1043, -0.2047, -0.1185, -0.0825,\n",
              "                        0.2488, -0.2571],\n",
              "                      [ 0.0425, -0.1209, -0.0336, -0.0281, -0.1227,  0.0730,  0.0747, -0.1816,\n",
              "                        0.1943,  0.2853],\n",
              "                      [-0.1310,  0.0645, -0.1171,  0.2168, -0.0245, -0.2820,  0.0736,  0.2621,\n",
              "                        0.0012, -0.0810]])),\n",
              "             ('layer_stack.2.bias',\n",
              "              tensor([-0.0087,  0.1791,  0.2712, -0.0791,  0.1685,  0.1762,  0.2825,  0.2266,\n",
              "                      -0.2612, -0.2613]))])"
            ]
          },
          "metadata": {},
          "execution_count": 188
        }
      ],
      "source": [
        "model_0.state_dict()"
      ]
    },
    {
      "cell_type": "markdown",
      "id": "705ba8d7-2279-4235-8caf-d4fdf01204e1",
      "metadata": {
        "id": "705ba8d7-2279-4235-8caf-d4fdf01204e1"
      },
      "source": [
        "### 3.1 Setup loss, optimizer and evaluation metrics\n",
        "* Loss function - since we're working with multi-class data, our loss function will be [`nn.CrossEntropyLoss()`](https://pytorch.org/docs/stable/generated/torch.nn.CrossEntropyLoss.html)\n",
        "* Optimizer - our optimizer [`torch.optim.SGD()`](https://pytorch.org/docs/stable/generated/torch.optim.SGD.html)\n",
        "* Evaluation metric - since we're working on a classification problem, let's use accuracy as our evaluation metric. You can either use torchmetrics or use the function provided below (accuracy_fn())"
      ]
    },
    {
      "cell_type": "code",
      "execution_count": 189,
      "id": "hzK4mv_J34UC",
      "metadata": {
        "id": "hzK4mv_J34UC"
      },
      "outputs": [],
      "source": [
        "# You can use torchmetrics library's Accuracy class to measure the accuracy of your model (the code below is meant to ensure we have the correct version of torchmetrics)\n",
        "# Or you can use the function accuracy_fn declared below, which we will use for the remainder of this notebook\n",
        "\n",
        "try:\n",
        "    from torchmetrics import Accuracy\n",
        "except:\n",
        "    !pip install torchmetrics==0.9.3 # this is the version we're using in this notebook (later versions exist here: https://torchmetrics.readthedocs.io/en/stable/generated/CHANGELOG.html#changelog)\n",
        "    from torchmetrics import Accuracy\n",
        "\n",
        "# Setup metric and make sure it's on the target device\n",
        "# Note that the task is set to 'multiclass' since we're dealing with 10 labels\n",
        "torchmetrics_accuracy = Accuracy(task='multiclass', num_classes=4).to(\"cpu\") # since model_0 is on cpu\n",
        "\n",
        "# Calculate accuracy\n",
        "# torchmetrics_accuracy(y_preds, y_blob_test)"
      ]
    },
    {
      "cell_type": "code",
      "execution_count": 190,
      "id": "Qt_V6Z8I34Zd",
      "metadata": {
        "id": "Qt_V6Z8I34Zd"
      },
      "outputs": [],
      "source": [
        "def accuracy_fn(y_true, y_pred):\n",
        "    \"\"\"Calculates accuracy between truth labels and predictions.\n",
        "\n",
        "    Args:\n",
        "        y_true (torch.Tensor): Truth labels for predictions.\n",
        "        y_pred (torch.Tensor): Predictions to be compared to predictions.\n",
        "\n",
        "    Returns:\n",
        "        [torch.float]: Accuracy value between y_true and y_pred, e.g. 78.45\n",
        "    \"\"\"\n",
        "    correct = torch.eq(y_true, y_pred).sum().item()\n",
        "    acc = (correct / len(y_pred)) * 100\n",
        "    return acc"
      ]
    },
    {
      "cell_type": "code",
      "execution_count": 191,
      "id": "4217baa5-946b-4628-ae4b-3db18773f4f6",
      "metadata": {
        "id": "4217baa5-946b-4628-ae4b-3db18773f4f6"
      },
      "outputs": [],
      "source": [
        "# setup loss function and optimizer\n",
        "loss_fn = nn.CrossEntropyLoss()\n",
        "optimizer = torch.optim.SGD(params=model_0.parameters(), lr=0.1)\n"
      ]
    },
    {
      "cell_type": "markdown",
      "id": "3908f173-ad22-4a11-aff9-fe84ae89767e",
      "metadata": {
        "id": "3908f173-ad22-4a11-aff9-fe84ae89767e"
      },
      "source": [
        "### 3.2 Create a function to time our expirement\n",
        "ML is very experimental.\n",
        "Two of the main things you'll often want to track are:\n",
        "1. Model's performance (loss and accuracy, etc)\n",
        "2. How fast it runs"
      ]
    },
    {
      "cell_type": "code",
      "execution_count": 192,
      "id": "5127df5e-5326-433b-8987-c312ea8eb757",
      "metadata": {
        "id": "5127df5e-5326-433b-8987-c312ea8eb757"
      },
      "outputs": [],
      "source": [
        "from timeit import default_timer as timer\n",
        "def print_train_time(start: float,\n",
        "                     end: float,\n",
        "                     device: torch.device = None):\n",
        "  \"\"\"Prints difference between start and end time.\"\"\"\n",
        "  total_time = end - start\n",
        "  print(f\"Train time on {device}: {total_time:.3f} seconds\")\n",
        "  return total_time"
      ]
    },
    {
      "cell_type": "code",
      "execution_count": 193,
      "id": "b545ee00-7138-4a17-bb92-f653b9961a1b",
      "metadata": {
        "id": "b545ee00-7138-4a17-bb92-f653b9961a1b"
      },
      "outputs": [],
      "source": [
        "# start_time = timer()\n",
        "# # some code...\n",
        "# end_time = timer()\n",
        "# print_train_time(start=start_time, end=end_time, device=\"cpu\")"
      ]
    },
    {
      "cell_type": "markdown",
      "id": "aeb56fea-a357-4c07-9061-7636c5ebb4b4",
      "metadata": {
        "id": "aeb56fea-a357-4c07-9061-7636c5ebb4b4"
      },
      "source": [
        "### 3.3 Creating a training loop and training a model on batches of data\n",
        "\n",
        "1. Loop through epochs.\n",
        "2. Loop through training batches, perform training steps, calculate the test loss per batch.\n",
        "3. Loop through testing batches, perform testing steps, calculate the test loss per bacth.\n",
        "4. Print out metrics vs epochs.\n",
        "5. Time it all\n",
        "\n",
        "**Note:** Because we are computing on *batches*, the optimizer will update the model's parameters once *per batch* rather than once per epoch.\n",
        "\n",
        "\n",
        "#### Generally speaking, training any model in PyTorch is done trhough 5 steps:\n",
        "1. Forward pass -> give the model first batch of data and save it.\n",
        "2. Calculate the loss from this data -> how far is it from the ground truth\n",
        "3. [Zero the gradient](https://stackoverflow.com/questions/48001598/why-do-we-need-to-call-zero-grad-in-pytorch#:~:text=zero_grad()%20restarts%20looping%20without,increase%20not%20decrease%20as%20required.) This is done to make sure losses from the last step to add on to the current step.\n",
        "4. Backpropagate through the model to update the weights\n",
        "5. Step the gradient and redo the process!"
      ]
    },
    {
      "cell_type": "code",
      "execution_count": 194,
      "id": "4fe66a8a-96fd-45a2-ac19-d665d4f34f62",
      "metadata": {
        "id": "4fe66a8a-96fd-45a2-ac19-d665d4f34f62",
        "colab": {
          "base_uri": "https://localhost:8080/",
          "height": 546,
          "referenced_widgets": [
            "96fc4defca4247f49fa452b04434aac1",
            "0d74f3610d6b40a9bc5c744662624d54",
            "1a00bc93edb2454c808fae24580c89bb",
            "ef6adb9742d042f7a5178063885800f7",
            "16f35dcc680e409a8d5f5dc287cdda2a",
            "ae1b529efe6b4845ab97f701bc7b6a59",
            "cbc647d408e247b39df552bae2d5afc5",
            "893641d68a934632abff164264ea4a4a",
            "dab5296480d7423bbe7d8fc36d742c26",
            "3dc15e46e99842878c3d868ba031393a",
            "a414ec1d3da04bd99cf3209596406046"
          ]
        },
        "outputId": "19c3c217-4acb-4af2-960a-8c0109f3eb59"
      },
      "outputs": [
        {
          "output_type": "display_data",
          "data": {
            "text/plain": [
              "  0%|          | 0/3 [00:00<?, ?it/s]"
            ],
            "application/vnd.jupyter.widget-view+json": {
              "version_major": 2,
              "version_minor": 0,
              "model_id": "96fc4defca4247f49fa452b04434aac1"
            }
          },
          "metadata": {}
        },
        {
          "output_type": "stream",
          "name": "stdout",
          "text": [
            "Epoch: 0\n",
            "--------\n",
            "Looked at 0/60000 samples.\n",
            "Looked at 12800/60000 samples.\n",
            "Looked at 25600/60000 samples.\n",
            "Looked at 38400/60000 samples.\n",
            "Looked at 51200/60000 samples.\n",
            "\n",
            "Train loss: 0.5904 | Test loss: 0.5095, Test acc: 82.0387\n",
            "Epoch: 1\n",
            "--------\n",
            "Looked at 0/60000 samples.\n",
            "Looked at 12800/60000 samples.\n",
            "Looked at 25600/60000 samples.\n",
            "Looked at 38400/60000 samples.\n",
            "Looked at 51200/60000 samples.\n",
            "\n",
            "Train loss: 0.4763 | Test loss: 0.4799, Test acc: 83.1969\n",
            "Epoch: 2\n",
            "--------\n",
            "Looked at 0/60000 samples.\n",
            "Looked at 12800/60000 samples.\n",
            "Looked at 25600/60000 samples.\n",
            "Looked at 38400/60000 samples.\n",
            "Looked at 51200/60000 samples.\n",
            "\n",
            "Train loss: 0.4550 | Test loss: 0.4766, Test acc: 83.4265\n",
            "Train time on cpu: 38.078 seconds\n"
          ]
        }
      ],
      "source": [
        "from tqdm.auto import tqdm\n",
        "\n",
        "torch.manual_seed(42)\n",
        "torch.cuda.manual_seed(42)\n",
        "train_time_start_on_cpu = timer()\n",
        "epochs = 3\n",
        "\n",
        "for epoch in tqdm(range(epochs)):\n",
        "    print(f\"Epoch: {epoch}\\n--------\")\n",
        "    train_loss = 0\n",
        "    for batch, (X,y) in enumerate(train_dataloader):\n",
        "        # Put model_0 in training mode, allow weight updates!\n",
        "        # 1. Training mode -> on + forward pass\n",
        "        model_0.train()\n",
        "        # forward pass\n",
        "        y_pred = model_0(X)\n",
        "        # 2. Calculate the loss!\n",
        "        loss = loss_fn(y_pred, y)\n",
        "        train_loss += loss\n",
        "        # 3. Zero the grad! Otherwise losses will add up with every epoch\n",
        "        optimizer.zero_grad()\n",
        "        # 4. Backpropagate through the network\n",
        "        loss.backward()\n",
        "        # 5. Step forward in the loss landscape!\n",
        "        optimizer.step()\n",
        "        if batch % 400 == 0:\n",
        "            print(f\"Looked at {batch * len(X)}/{len(train_dataloader.dataset)} samples.\")\n",
        "\n",
        "    train_loss /= len(train_dataloader)   # trainloss/number of batches\n",
        "\n",
        "    test_loss= 0\n",
        "    test_acc = 0\n",
        "    # we put model_0 in evaluation mode so that its weights are frozen. We don't want to give it testing data (to measure performance) and have the weight changed!\n",
        "    model_0.eval()\n",
        "    with torch.inference_mode():\n",
        "        for X_test,y_test in test_dataloader:\n",
        "            test_pred = model_0(X_test) # this output is in logits (why we need the argmax later to convert the logits to the label format so they can be compared with y_test)\n",
        "            test_loss += loss_fn(test_pred,y_test)\n",
        "            test_acc += accuracy_fn(y_true=y_test, y_pred=test_pred.argmax(dim=1))\n",
        "\n",
        "        test_loss /= len(test_dataloader)\n",
        "        test_acc /= len(test_dataloader)\n",
        "    print(f\"\\nTrain loss: {train_loss:.4f} | Test loss: {test_loss:.4f}, Test acc: {test_acc:.4f}\")\n",
        "\n",
        "\n",
        "# Calculate training time\n",
        "train_time_end_on_cpu = timer()\n",
        "total_train_time_model_0 = print_train_time(start=train_time_start_on_cpu,\n",
        "                                            end=train_time_end_on_cpu,\n",
        "                                            device=str(next(model_0.parameters()).device))"
      ]
    },
    {
      "cell_type": "markdown",
      "id": "f8be75fc-fe1c-476b-b136-b5510bcadf9e",
      "metadata": {
        "id": "f8be75fc-fe1c-476b-b136-b5510bcadf9e"
      },
      "source": [
        "### 3.4 Make predictions and get Model 0 results"
      ]
    },
    {
      "cell_type": "code",
      "execution_count": 195,
      "id": "718d3dd4-786e-4ab5-aac1-990a26104b37",
      "metadata": {
        "id": "718d3dd4-786e-4ab5-aac1-990a26104b37",
        "colab": {
          "base_uri": "https://localhost:8080/",
          "height": 102,
          "referenced_widgets": [
            "ea99406ad0af42809c622bf9f9d41229",
            "8c57f0467d224dd8ae71438c4b5b8924",
            "b51f88645f90429b93f1a6572f2c66ba",
            "b79e972cd44649b885536a0c53af3692",
            "498cccdd21d146efa14dd3cd64179c05",
            "cc239d06962f4cc6b3f7aed0ca7cbbbc",
            "1a23319104c04f698fdba9b9ef0567a5",
            "5f9a5ffaf7804914b435dafda7cfd66e",
            "648d8a80b2614c41943605e836746b7f",
            "2c938228e4334de389bb31a80de71389",
            "4d0ccfb7f4a04da590d181cb709075f7"
          ]
        },
        "outputId": "b8f79bf6-310f-45db-cd67-f29f49eeaa12"
      },
      "outputs": [
        {
          "output_type": "display_data",
          "data": {
            "text/plain": [
              "  0%|          | 0/313 [00:00<?, ?it/s]"
            ],
            "application/vnd.jupyter.widget-view+json": {
              "version_major": 2,
              "version_minor": 0,
              "model_id": "ea99406ad0af42809c622bf9f9d41229"
            }
          },
          "metadata": {}
        },
        {
          "output_type": "execute_result",
          "data": {
            "text/plain": [
              "{'model_name': 'FashionMNISTModelV0',\n",
              " 'model_loss': 0.47663888335227966,\n",
              " 'model_accuracy': 83.42651757188499}"
            ]
          },
          "metadata": {},
          "execution_count": 195
        }
      ],
      "source": [
        "torch.manual_seed(42)\n",
        "\n",
        "# we'll build one eval functiont that we can use with a different set of models so we can make the comaprion easier\n",
        "def eval_model(model: torch.nn.Module,\n",
        "              data_loader: torch.utils.data.DataLoader,\n",
        "              loss_fn: torch.nn.Module,\n",
        "              accuracy_fn):\n",
        "    \"\"\"Returns a dictionary containing the results of model predicting on data_loader\"\"\"\n",
        "    loss, acc =0,0\n",
        "    model.eval()\n",
        "    with torch.inference_mode():\n",
        "        for X, y in tqdm(data_loader):\n",
        "            y_pred = model(X)\n",
        "            loss += loss_fn(y_pred, y)\n",
        "            acc += accuracy_fn(y_true=y,\n",
        "                               y_pred=y_pred.argmax(dim=1))\n",
        "\n",
        "        # Scale loss and acc to find the average loss/acc per batch\n",
        "        loss /= len(data_loader)\n",
        "        acc /= len(data_loader)\n",
        "    return {\"model_name\": model.__class__.__name__, # only works when model was created with a class\n",
        "           \"model_loss\": loss.item(),\n",
        "            \"model_accuracy\": acc\n",
        "           }\n",
        "# Calculate model 0 results on test dataset\n",
        "model_0_results = eval_model(\n",
        "                    model=model_0,\n",
        "                    data_loader=test_dataloader,\n",
        "                    loss_fn=loss_fn,\n",
        "                    accuracy_fn=accuracy_fn\n",
        ")\n",
        "\n",
        "model_0_results"
      ]
    },
    {
      "cell_type": "markdown",
      "id": "31c82e09-1e16-4d6a-bfe1-47f7de6cd865",
      "metadata": {
        "id": "31c82e09-1e16-4d6a-bfe1-47f7de6cd865"
      },
      "source": [
        "## 4. Setup device agnostic-code"
      ]
    },
    {
      "cell_type": "code",
      "execution_count": 196,
      "id": "5c758deb-13c9-4f15-b26b-c3fa02db34de",
      "metadata": {
        "id": "5c758deb-13c9-4f15-b26b-c3fa02db34de",
        "colab": {
          "base_uri": "https://localhost:8080/"
        },
        "outputId": "548f4c4e-6311-433a-c183-d067fcfe0bc7"
      },
      "outputs": [
        {
          "output_type": "stream",
          "name": "stdout",
          "text": [
            "Sun Sep 29 15:01:45 2024       \n",
            "+---------------------------------------------------------------------------------------+\n",
            "| NVIDIA-SMI 535.104.05             Driver Version: 535.104.05   CUDA Version: 12.2     |\n",
            "|-----------------------------------------+----------------------+----------------------+\n",
            "| GPU  Name                 Persistence-M | Bus-Id        Disp.A | Volatile Uncorr. ECC |\n",
            "| Fan  Temp   Perf          Pwr:Usage/Cap |         Memory-Usage | GPU-Util  Compute M. |\n",
            "|                                         |                      |               MIG M. |\n",
            "|=========================================+======================+======================|\n",
            "|   0  Tesla T4                       Off | 00000000:00:04.0 Off |                    0 |\n",
            "| N/A   49C    P0              26W /  70W |    167MiB / 15360MiB |      0%      Default |\n",
            "|                                         |                      |                  N/A |\n",
            "+-----------------------------------------+----------------------+----------------------+\n",
            "                                                                                         \n",
            "+---------------------------------------------------------------------------------------+\n",
            "| Processes:                                                                            |\n",
            "|  GPU   GI   CI        PID   Type   Process name                            GPU Memory |\n",
            "|        ID   ID                                                             Usage      |\n",
            "|=======================================================================================|\n",
            "+---------------------------------------------------------------------------------------+\n"
          ]
        }
      ],
      "source": [
        "# What GPU do you have!?\n",
        "!nvidia-smi"
      ]
    },
    {
      "cell_type": "code",
      "execution_count": 197,
      "id": "b75de67b-91bb-4c86-87f4-43cc02313be8",
      "metadata": {
        "id": "b75de67b-91bb-4c86-87f4-43cc02313be8",
        "colab": {
          "base_uri": "https://localhost:8080/"
        },
        "outputId": "ae012350-3a99-4e29-cad6-bfdeb0834aed"
      },
      "outputs": [
        {
          "output_type": "execute_result",
          "data": {
            "text/plain": [
              "True"
            ]
          },
          "metadata": {},
          "execution_count": 197
        }
      ],
      "source": [
        "# Will give true if gpu is available\n",
        "torch.cuda.is_available()"
      ]
    },
    {
      "cell_type": "code",
      "execution_count": 198,
      "id": "f1870e9e-4b77-4e06-831f-3a13d301a549",
      "metadata": {
        "id": "f1870e9e-4b77-4e06-831f-3a13d301a549",
        "colab": {
          "base_uri": "https://localhost:8080/",
          "height": 36
        },
        "outputId": "15a7c60b-debf-41db-95d0-f387800e7d3e"
      },
      "outputs": [
        {
          "output_type": "execute_result",
          "data": {
            "text/plain": [
              "'cuda'"
            ],
            "application/vnd.google.colaboratory.intrinsic+json": {
              "type": "string"
            }
          },
          "metadata": {},
          "execution_count": 198
        }
      ],
      "source": [
        "# set up device agnostic code\n",
        "import torch\n",
        "device = \"cuda\" if torch.cuda.is_available() else \"cpu\"\n",
        "device"
      ]
    },
    {
      "cell_type": "markdown",
      "id": "d86a74c8-bedb-4a26-8994-ca9949e0d35b",
      "metadata": {
        "id": "d86a74c8-bedb-4a26-8994-ca9949e0d35b"
      },
      "source": [
        "## 5. Model 1: Building a better model with non-linearity\n",
        "\n",
        "We will add two [`nn.ReLU()`](https://pytorch.org/docs/stable/generated/torch.nn.ReLU.html) layers to model_0 to create model_1.\n"
      ]
    },
    {
      "cell_type": "code",
      "execution_count": 199,
      "id": "80ce6098-a0eb-4a1c-be5d-41a15c391680",
      "metadata": {
        "id": "80ce6098-a0eb-4a1c-be5d-41a15c391680"
      },
      "outputs": [],
      "source": [
        "\n",
        "class FashionMNISTModelV1(nn.Module):\n",
        "    def __init__(self,\n",
        "                input_features: int,\n",
        "                hidden_units: int,\n",
        "                output_features: int):\n",
        "        super().__init__()\n",
        "\n",
        "        self.layer_stack = nn.Sequential(\n",
        "        nn.Flatten(),\n",
        "        nn.Linear(in_features=input_features, out_features=hidden_units),\n",
        "        nn.ReLU(),\n",
        "        nn.Linear(in_features= hidden_units, out_features = 10),\n",
        "        nn.ReLU(),\n",
        "        )\n",
        "    def forward(self,x: torch.Tensor):# -> torch.Tensor:\n",
        "        return self.layer_stack(x)\n",
        "\n"
      ]
    },
    {
      "cell_type": "code",
      "execution_count": 200,
      "id": "e8b4d3f4-6fc7-4fd1-9ca2-cabf9f898e1c",
      "metadata": {
        "id": "e8b4d3f4-6fc7-4fd1-9ca2-cabf9f898e1c",
        "colab": {
          "base_uri": "https://localhost:8080/"
        },
        "outputId": "7af57ccf-ddc6-4916-958a-01b7e74b1391"
      },
      "outputs": [
        {
          "output_type": "execute_result",
          "data": {
            "text/plain": [
              "device(type='cuda', index=0)"
            ]
          },
          "metadata": {},
          "execution_count": 200
        }
      ],
      "source": [
        "# Create an instance of model_1\n",
        "torch.manual_seed(42)\n",
        "model_1 = FashionMNISTModelV1(input_features=784, # this is the output of the flatten after our 28*28 image goes in\n",
        "                              hidden_units=10,\n",
        "                              output_features=len(class_names)).to(device) # send to the GPU if it's available\n",
        "next(model_1.parameters()).device"
      ]
    },
    {
      "cell_type": "markdown",
      "id": "b75056a2-3e15-40e7-9ad7-8b20841be2e3",
      "metadata": {
        "id": "b75056a2-3e15-40e7-9ad7-8b20841be2e3"
      },
      "source": [
        "### 5.1 Setup loss, optimizer and evaluation metrics"
      ]
    },
    {
      "cell_type": "code",
      "execution_count": 201,
      "id": "82941c37-cf26-4f8c-b793-e126f0ac3718",
      "metadata": {
        "id": "82941c37-cf26-4f8c-b793-e126f0ac3718"
      },
      "outputs": [],
      "source": [
        "\n",
        "loss_fn = nn.CrossEntropyLoss()\n",
        "optimizer = torch.optim.SGD(params=model_1.parameters(),\n",
        "                           lr=0.1)\n"
      ]
    },
    {
      "cell_type": "markdown",
      "id": "7449d666-efcf-476f-806f-613ccf19f8e5",
      "metadata": {
        "id": "7449d666-efcf-476f-806f-613ccf19f8e5"
      },
      "source": [
        "\n",
        "### 5.2 Functionizing training and evaluation/testing loops\n",
        "Let's create a function for:\n",
        "* training loop - `train_step()`\n",
        "* testing loop - `test_step()`\n",
        "\n",
        "This will make it easier to train and test the models we're working on."
      ]
    },
    {
      "cell_type": "code",
      "execution_count": 202,
      "id": "b76af1d3-7c7d-4d65-be73-60fe58744575",
      "metadata": {
        "id": "b76af1d3-7c7d-4d65-be73-60fe58744575"
      },
      "outputs": [],
      "source": [
        "def train_step(model: torch.nn.Module,\n",
        "               data_loader: torch.utils.data.DataLoader,\n",
        "               loss_fn: torch.nn.Module,\n",
        "               optimizer: torch.optim.Optimizer,\n",
        "               accuracy_fn,\n",
        "               device: torch.device=device):\n",
        "    \"\"\"Performs a training step with model trying to learn on data_loader\"\"\"\n",
        "\n",
        "    train_loss,train_acc =0,0\n",
        "    # put the model into training mode\n",
        "    model.train()\n",
        "\n",
        "    for batch, (X,y) in enumerate(data_loader):\n",
        "        # put data on target device\n",
        "        X,y = X.to(device), y.to(device)\n",
        "        # 1. Forward pass (outputs the raw logits from the model)\n",
        "        model.train()\n",
        "        y_pred = model(X)\n",
        "        #2. calculate accuracy and loss per batch\n",
        "        loss = loss_fn(y_pred, y)\n",
        "        train_loss += loss # accumelate training loss\n",
        "        train_acc += accuracy_fn(y_true=y, y_pred=y_pred.argmax(dim=1))#from logits to prediction labels\n",
        "        # 3 Zero the losses\n",
        "        optimizer.zero_grad()\n",
        "        # 4 backprop through the model and update the weights\n",
        "        loss.backward()\n",
        "        # 5. step the optimizer\n",
        "        optimizer.step()\n",
        "\n",
        "    train_loss /= len(data_loader)   # trainloss/number of batches\n",
        "    train_acc /= len(data_loader)\n",
        "    print(f\"\\nTrain loss: {train_loss:.4f} | Train acc: {train_acc:.2f}%\")\n"
      ]
    },
    {
      "cell_type": "code",
      "execution_count": 203,
      "id": "a14d2a01-c853-4058-8e57-b10ec8213bdd",
      "metadata": {
        "id": "a14d2a01-c853-4058-8e57-b10ec8213bdd"
      },
      "outputs": [],
      "source": [
        "def test_step(model: torch.nn.Module,\n",
        "             data_loader: torch.utils.data.DataLoader,\n",
        "             loss_fn: torch.nn.Module,\n",
        "             accuracy_fn,\n",
        "             device: torch.device=device):\n",
        "    \"\"\"Performs a testing loop step on moel going over data_loader\"\"\"\n",
        "\n",
        "    test_loss= 0\n",
        "    test_acc = 0\n",
        "    #put model in eval mode\n",
        "    model.eval()\n",
        "    with torch.inference_mode():\n",
        "        for X,y in data_loader:\n",
        "            X,y = X.to(device), y.to(device)\n",
        "            #1. forward pass\n",
        "            test_pred = model(X) # this output is in logits (why we need the argmax later to convert the logits to the label format so they can be compared with y_test)\n",
        "            #2. calc loss/acc\n",
        "            test_loss += loss_fn(test_pred,y)\n",
        "            test_acc += accuracy_fn(y_true=y, y_pred=test_pred.argmax(dim=1))\n",
        "\n",
        "        test_loss /= len(data_loader)\n",
        "        test_acc /= len(data_loader)\n",
        "\n",
        "        print(f\"\\nTest loss: {test_loss:.4f} | Test acc: {test_acc:.2f}%\\n\")\n",
        "\n"
      ]
    },
    {
      "cell_type": "code",
      "execution_count": 204,
      "id": "f10205cb-8576-492f-a1aa-109923278687",
      "metadata": {
        "id": "f10205cb-8576-492f-a1aa-109923278687",
        "colab": {
          "base_uri": "https://localhost:8080/",
          "height": 457,
          "referenced_widgets": [
            "e927b5d841c840c0953edeb0bd20cdb8",
            "a9eecad1dbc44cf78257dec14d714449",
            "db38ea553bad42928a137993430dd087",
            "0e60ac9ddbe5447ea717328dc22b3705",
            "ea64b87a8c0545c1a4d37d79e6040641",
            "89be7f12b5b44218a84e910a248dd960",
            "0d8844adc2ed4691baee93ad6696dbc2",
            "1b08c1ef9625461d8191ec8211538a1c",
            "31fd488fa5c7416bb3c12b43af8d5ac4",
            "677300092126456193fc98b4dff8bcee",
            "fe06289c846c4b4e88724ffa32e5a6eb"
          ]
        },
        "outputId": "9fef8d0c-7882-43ef-e6a6-758ac40b60a4"
      },
      "outputs": [
        {
          "output_type": "stream",
          "name": "stdout",
          "text": [
            "Train time on cuda: 0.000 seconds\n"
          ]
        },
        {
          "output_type": "display_data",
          "data": {
            "text/plain": [
              "  0%|          | 0/3 [00:00<?, ?it/s]"
            ],
            "application/vnd.jupyter.widget-view+json": {
              "version_major": 2,
              "version_minor": 0,
              "model_id": "e927b5d841c840c0953edeb0bd20cdb8"
            }
          },
          "metadata": {}
        },
        {
          "output_type": "stream",
          "name": "stdout",
          "text": [
            "Epoch: 0\n",
            "--------------\n",
            "\n",
            "Train loss: 1.0920 | Train acc: 61.34%\n",
            "\n",
            "Test loss: 0.9564 | Test acc: 65.00%\n",
            "\n",
            "Epoch: 1\n",
            "--------------\n",
            "\n",
            "Train loss: 0.7810 | Train acc: 71.93%\n",
            "\n",
            "Test loss: 0.7223 | Test acc: 73.91%\n",
            "\n",
            "Epoch: 2\n",
            "--------------\n",
            "\n",
            "Train loss: 0.6703 | Train acc: 75.94%\n",
            "\n",
            "Test loss: 0.6850 | Test acc: 75.02%\n",
            "\n",
            "Train time on cuda: 34.997 seconds\n"
          ]
        }
      ],
      "source": [
        "# We will no wuse the training/testing functions above to train and test model_1\n",
        "\n",
        "torch.manual_seed(42)\n",
        "from timeit import default_timer as timer\n",
        "train_time_start_on_gpu = timer()\n",
        "\n",
        "\n",
        "epoch = 3\n",
        "\n",
        "train_time_end_on_gpu = timer()\n",
        "total_train_time_model_1 = print_train_time(start=train_time_start_on_gpu,\n",
        "                                            end=train_time_end_on_gpu,\n",
        "                                            device=device)\n",
        "for epoch in tqdm(range(epochs)):\n",
        "    print(f\"Epoch: {epoch}\\n--------------\")\n",
        "\n",
        "    train_step(model=model_1,\n",
        "              data_loader=train_dataloader,\n",
        "              loss_fn=loss_fn,\n",
        "              optimizer=optimizer,\n",
        "              accuracy_fn=accuracy_fn,\n",
        "              device=device)\n",
        "    test_step(model=model_1,\n",
        "            data_loader=test_dataloader,\n",
        "            loss_fn=loss_fn,\n",
        "            accuracy_fn=accuracy_fn,\n",
        "            device=device)\n",
        "\n",
        "\n",
        "\n",
        "\n",
        "train_time_end_on_gpu = timer()\n",
        "total_train_time_model_1 = print_train_time(start=train_time_start_on_gpu,\n",
        "                                            end=train_time_end_on_gpu,\n",
        "                                            device=device)\n"
      ]
    },
    {
      "cell_type": "code",
      "execution_count": 205,
      "id": "facd7cbe-af84-4d00-8ba6-d6c2cbf67980",
      "metadata": {
        "id": "facd7cbe-af84-4d00-8ba6-d6c2cbf67980",
        "colab": {
          "base_uri": "https://localhost:8080/"
        },
        "outputId": "7c2949f2-dc2b-4281-ea15-95cba24bb425"
      },
      "outputs": [
        {
          "output_type": "execute_result",
          "data": {
            "text/plain": [
              "38.07779706300062"
            ]
          },
          "metadata": {},
          "execution_count": 205
        }
      ],
      "source": [
        "# Train time on CPU\n",
        "total_train_time_model_0"
      ]
    },
    {
      "cell_type": "markdown",
      "id": "f0a5b188-8808-4826-9acf-25c75722a059",
      "metadata": {
        "id": "f0a5b188-8808-4826-9acf-25c75722a059"
      },
      "source": [
        "> **Note:** Sometimes, depending on your data/hardware you might find that your model trains faster on CPU than GPU.\n",
        ">\n",
        "> Why is this?\n",
        ">\n",
        "> 1. It could be that the overhead for copying data/model to and from the GPU outweighs the compute benefits offered by the GPU.\n",
        "> 2. The hardware you're using has a better CPU in terms compute capability than the GPU.\n",
        ">\n",
        "> For more on how to make your models compute faster, see here: https://horace.io/brrr_intro.html"
      ]
    },
    {
      "cell_type": "code",
      "execution_count": 207,
      "id": "034bc0b7-e9a6-4262-93a9-8ebd12af0203",
      "metadata": {
        "id": "034bc0b7-e9a6-4262-93a9-8ebd12af0203"
      },
      "outputs": [],
      "source": [
        "torch.manual_seed(42)\n",
        "# we'll build one eval functiont that we can use with a different set of models so we can make the comaprion easier\n",
        "\n",
        "def eval_model(model: torch.nn.Module,\n",
        "              data_loader: torch.utils.data.DataLoader,\n",
        "              loss_fn: torch.nn.Module,\n",
        "              accuracy_fn, device=device):\n",
        "    \"\"\"Returns a dictionary containing the results of model predicting on data_loader\"\"\"\n",
        "    loss, acc =0,0\n",
        "    model.eval()\n",
        "    with torch.inference_mode():\n",
        "        for X, y in tqdm(data_loader):\n",
        "            X,y=X.to(device), y.to(device)\n",
        "            y_pred = model(X)\n",
        "            loss += loss_fn(y_pred, y)\n",
        "            acc += accuracy_fn(y_true=y,\n",
        "                               y_pred=y_pred.argmax(dim=1))\n",
        "\n",
        "        # Scale loss and acc to find the average loss/acc per batch\n",
        "        loss /= len(data_loader)\n",
        "        acc /= len(data_loader)\n",
        "    return {\"model_name\": model.__class__.__name__, # only works when model was created with a class\n",
        "           \"model_loss\": loss.item(),\n",
        "            \"model_accuracy\": acc\n",
        "           }\n"
      ]
    },
    {
      "cell_type": "markdown",
      "id": "DN02TH0WD_hn",
      "metadata": {
        "id": "DN02TH0WD_hn"
      },
      "source": [
        "Let's compare model_0 and model_1 results. Try to improve model_1 performance."
      ]
    },
    {
      "cell_type": "code",
      "execution_count": 208,
      "id": "ca5a55ac-dace-4eb7-91f2-84f908679122",
      "metadata": {
        "id": "ca5a55ac-dace-4eb7-91f2-84f908679122",
        "colab": {
          "base_uri": "https://localhost:8080/",
          "height": 102,
          "referenced_widgets": [
            "17cb44b8cbb94446beceac644aa1400a",
            "a57b4e078ea54dbca8bb970f7ff8e56a",
            "7d12a4df767a439b8d22e2c29987184e",
            "b3041b5d88de49458aaf21958b14020f",
            "61187f6f545e4bff8a0a60d29637565b",
            "bd6160c1702e463d8468f484050c9bc3",
            "99e60c52973841aeb9a7ef22db0e7558",
            "7ce85c718f4d45c3966b5d2fc6a0f24a",
            "cd5d56a6e84341f291f5267f31678a5d",
            "0d2fd09943d1461795c1766d27fb52d2",
            "1e00eb16b0bd41608f5eeaf663627e7e"
          ]
        },
        "outputId": "01ea4cab-6cda-481b-f856-d6f9ab48823e"
      },
      "outputs": [
        {
          "output_type": "display_data",
          "data": {
            "text/plain": [
              "  0%|          | 0/313 [00:00<?, ?it/s]"
            ],
            "application/vnd.jupyter.widget-view+json": {
              "version_major": 2,
              "version_minor": 0,
              "model_id": "17cb44b8cbb94446beceac644aa1400a"
            }
          },
          "metadata": {}
        },
        {
          "output_type": "execute_result",
          "data": {
            "text/plain": [
              "{'model_name': 'FashionMNISTModelV1',\n",
              " 'model_loss': 0.6850008964538574,\n",
              " 'model_accuracy': 75.01996805111821}"
            ]
          },
          "metadata": {},
          "execution_count": 208
        }
      ],
      "source": [
        "model_1_results = eval_model(model=model_1,\n",
        "                             data_loader=test_dataloader,\n",
        "                             loss_fn=loss_fn,\n",
        "                             accuracy_fn=accuracy_fn,device=device)\n",
        "model_1_results"
      ]
    },
    {
      "cell_type": "code",
      "execution_count": 209,
      "id": "9444b0f4-f755-428d-a997-9f59e53d17bc",
      "metadata": {
        "id": "9444b0f4-f755-428d-a997-9f59e53d17bc",
        "colab": {
          "base_uri": "https://localhost:8080/"
        },
        "outputId": "1ce8c91e-a628-4f0a-be93-e1c584705c57"
      },
      "outputs": [
        {
          "output_type": "execute_result",
          "data": {
            "text/plain": [
              "{'model_name': 'FashionMNISTModelV0',\n",
              " 'model_loss': 0.47663888335227966,\n",
              " 'model_accuracy': 83.42651757188499}"
            ]
          },
          "metadata": {},
          "execution_count": 209
        }
      ],
      "source": [
        "model_0_results"
      ]
    },
    {
      "cell_type": "markdown",
      "id": "a58c41c4-5a8d-4840-b3cc-f9833c50bd28",
      "metadata": {
        "id": "a58c41c4-5a8d-4840-b3cc-f9833c50bd28"
      },
      "source": [
        "## 6. Model 2: Building a Convolutional Neural Network\n",
        "\n",
        "CNN's are also known ConvNets.\n",
        "\n",
        "CNN's are known for their capabilities to find patterns in visual data.\n",
        "\n",
        "To find out what's happening inside a CNN, see this website: https://poloclub.github.io/cnn-explainer/"
      ]
    },
    {
      "cell_type": "code",
      "execution_count": 210,
      "id": "4556b230-7e09-45be-8f95-3ab7668fc5be",
      "metadata": {
        "id": "4556b230-7e09-45be-8f95-3ab7668fc5be"
      },
      "outputs": [],
      "source": [
        "# Create a convolution neural network\n",
        "\n",
        "class FashionMNISTModelV2(nn.Module):\n",
        "# Model architecture that replicates the TinyVGG  model from CNN explainer website: https://poloclub.github.io/cnn-explainer/.\n",
        "    def __init__(self, input_shape:int, hidden_units: int, output_shape:int):\n",
        "        super().__init__()\n",
        "        # Will create to convolutional blocks, each containing two convolutional layers + two ReLU activations + and one MaxPool layer\n",
        "        self.conv_block_1 = nn.Sequential(\n",
        "            # Create a conv layer - https://pytorch.org/docs/stable/generated/torch.nn.Conv2d.html\n",
        "            nn.Conv2d(in_channels=input_shape,\n",
        "                      out_channels=hidden_units,\n",
        "                      kernel_size=3,\n",
        "                      stride=1,\n",
        "                      padding=1),\n",
        "            # how to use a ReLU(): https://pytorch.org/docs/stable/generated/torch.nn.ReLU.html\n",
        "            nn.ReLU(),\n",
        "            nn.Conv2d(in_channels=hidden_units,\n",
        "                      out_channels=hidden_units,\n",
        "                      kernel_size=3,\n",
        "                      stride=1,\n",
        "                      padding=1),\n",
        "            nn.ReLU(),\n",
        "            nn.MaxPool2d(kernel_size=2)\n",
        "        )\n",
        "        self.conv_block_2 = nn.Sequential(\n",
        "            nn.Conv2d(in_channels=hidden_units,\n",
        "                      out_channels=hidden_units,\n",
        "                      kernel_size=3,\n",
        "                      stride=1,\n",
        "                      padding=1),\n",
        "            nn.ReLU(),\n",
        "            nn.Conv2d(in_channels=hidden_units,\n",
        "                      out_channels=hidden_units,\n",
        "                      kernel_size=3,\n",
        "                      stride=1,\n",
        "                      padding=1),\n",
        "            nn.ReLU(),\n",
        "            nn.MaxPool2d(kernel_size=2)\n",
        "        )\n",
        "        # Final classifier layer\n",
        "        self.classifier = nn.Sequential(\n",
        "            nn.Flatten(), # Can you predict the shape of the Flatten() layer output? Remember the output of conv_block_2 is passed through the flatten first\n",
        "            # Note: formula for calculating shapes can be found on: https://pytorch.org/docs/master/generated/torch.nn.Conv2d.html\n",
        "            nn.Linear(in_features=hidden_units*7*7,\n",
        "                     out_features=output_shape)\n",
        "        )\n",
        "\n",
        "    def forward(self,x):\n",
        "        x = self.conv_block_1(x)\n",
        "#         print(f\"Output shape of conv_block_1: {x.shape}\")\n",
        "        x = self.conv_block_2(x)\n",
        "#         print(f\"Output shape of conv_block_2: {x.shape}\")\n",
        "        x = self.classifier(x)\n",
        "#         print(f\"Output shape of classifier: {x.shape}\")\n",
        "        return x"
      ]
    },
    {
      "cell_type": "code",
      "execution_count": 211,
      "id": "05e153d4-51df-4bfa-8f1f-5ad41d5f9fd3",
      "metadata": {
        "id": "05e153d4-51df-4bfa-8f1f-5ad41d5f9fd3"
      },
      "outputs": [],
      "source": [
        "torch.manual_seed(42)\n",
        "# input shape will be the number of channels\n",
        "# output shape will be the number of classes\n",
        "model_2 = FashionMNISTModelV2(input_shape=1,\n",
        "                             hidden_units=10,\n",
        "                             output_shape=len(class_names)).to(device)\n",
        "\n"
      ]
    },
    {
      "cell_type": "markdown",
      "id": "8d27dc49-e027-4162-9bde-15955292c1aa",
      "metadata": {
        "id": "8d27dc49-e027-4162-9bde-15955292c1aa"
      },
      "source": [
        "### 6.1 Stepping through `Conv2d`\n",
        "\n",
        "See the documentation for `nn.Conv2d()` here - https://pytorch.org/docs/stable/generated/torch.nn.Conv2d.html"
      ]
    },
    {
      "cell_type": "code",
      "execution_count": 212,
      "id": "242ab0ec-2c0b-43df-9628-62c90ca9936f",
      "metadata": {
        "id": "242ab0ec-2c0b-43df-9628-62c90ca9936f",
        "colab": {
          "base_uri": "https://localhost:8080/"
        },
        "outputId": "dab43be9-aaab-4bdf-f93a-25354ac42dde"
      },
      "outputs": [
        {
          "output_type": "stream",
          "name": "stdout",
          "text": [
            "Image batch shape: torch.Size([32, 3, 64, 64])\n",
            "Single image shape: torch.Size([3, 64, 64])\n"
          ]
        }
      ],
      "source": [
        "torch.manual_seed(42)\n",
        "\n",
        "# create a batch of 32 colour images of size 64 x 64 (these are just a collection of random numbers)\n",
        "images = torch.randn(size=(32,3,64,64))\n",
        "test_image = images[0]\n",
        "\n",
        "# Remember again that one of the most common sources of errors in DL models is a shape mismatch\n",
        "# Let's make sure we got the right shapes\n",
        "print(f\"Image batch shape: {images.shape}\")\n",
        "print(f\"Single image shape: {test_image.shape}\")\n",
        "# print(f\"Test image:\\n {test_image}\")"
      ]
    },
    {
      "cell_type": "code",
      "execution_count": 248,
      "id": "0ebbcc36-80c6-4e53-825d-796d16157a97",
      "metadata": {
        "id": "0ebbcc36-80c6-4e53-825d-796d16157a97",
        "colab": {
          "base_uri": "https://localhost:8080/"
        },
        "outputId": "dcc3d969-a04b-4721-d598-61147dd38ff3"
      },
      "outputs": [
        {
          "output_type": "execute_result",
          "data": {
            "text/plain": [
              "torch.Size([10, 62, 62])"
            ]
          },
          "metadata": {},
          "execution_count": 248
        }
      ],
      "source": [
        "torch.manual_seed(42)\n",
        "# Create a sinlge conv2d layer\n",
        "conv_layer = nn.Conv2d(in_channels=3, # in_channel=3 since the random images above are coloured\n",
        "                       out_channels=10,\n",
        "                       kernel_size=(3, 3), # size 3 == size (3,3)\n",
        "                       stride=1,\n",
        "                       padding=0)\n",
        "\n",
        "# Pass the data through the convolutional layer\n",
        "conv_output = conv_layer(test_image)\n",
        "conv_output.shape\n",
        "\n",
        "# Can you explain the size of the output?\n",
        "\n",
        "# change the hyper parameters of conv_layer and see how this affect the shape of the final output!"
      ]
    },
    {
      "cell_type": "markdown",
      "id": "194ed2c8-990a-43ba-85e7-762ae3a3cbfb",
      "metadata": {
        "id": "194ed2c8-990a-43ba-85e7-762ae3a3cbfb"
      },
      "source": [
        "### 6.2 Stepping through [`nn.MaxPool2d`](https://pytorch.org/docs/stable/generated/torch.nn.MaxPool2d.html)\n",
        "\n",
        "The sources at the top include useful explanations on the MaxPooling operation."
      ]
    },
    {
      "cell_type": "code",
      "execution_count": 251,
      "id": "643c98b0-269a-433f-81ac-487e24341ed9",
      "metadata": {
        "id": "643c98b0-269a-433f-81ac-487e24341ed9",
        "colab": {
          "base_uri": "https://localhost:8080/"
        },
        "outputId": "c4705669-9c67-4c74-971b-241e9549c26b"
      },
      "outputs": [
        {
          "output_type": "stream",
          "name": "stdout",
          "text": [
            "Test image original shape: torch.Size([3, 64, 64])\n",
            "Shape after going through conv_layer(): torch.Size([10, 62, 62])\n",
            "Shape after going through conv_layer() and max_pool_layer(): torch.Size([10, 31, 31])\n",
            "\n",
            "\n",
            " Can you explain the change in the shape?\n",
            "\n",
            "\n",
            " How does changing the hyperparameters change the output?\n"
          ]
        }
      ],
      "source": [
        "# Print out original image shape without unsqueezed dimension\n",
        "print(f\"Test image original shape: {test_image.shape}\")\n",
        "# print(f\"Test image with unsqueezed dimension: {test_image.unsqueeze(0).shape}\")\n",
        "\n",
        "# Create a sample nn.MaxPool2d layer\n",
        "max_pool_layer = nn.MaxPool2d(kernel_size=2)\n",
        "\n",
        "# Pass data through just the conv_layer\n",
        "test_image_through_conv = conv_layer(test_image)\n",
        "print(f\"Shape after going through conv_layer(): {test_image_through_conv.shape}\")\n",
        "\n",
        "# Pass data through the max pool layer\n",
        "test_image_through_conv_and_max_pool = max_pool_layer(test_image_through_conv)\n",
        "print(f\"Shape after going through conv_layer() and max_pool_layer(): {test_image_through_conv_and_max_pool.shape}\")\n",
        "\n",
        "\n",
        "print(f\"\\n\\n Can you explain the change in the shape?\")\n",
        "\n",
        "print(f\"\\n\\n How does changing the hyperparameters change the output?\")"
      ]
    },
    {
      "cell_type": "code",
      "execution_count": 216,
      "id": "2f43cb7c-81d4-4410-98a6-fad98a8a48e3",
      "metadata": {
        "id": "2f43cb7c-81d4-4410-98a6-fad98a8a48e3",
        "colab": {
          "base_uri": "https://localhost:8080/"
        },
        "outputId": "337a83bb-9df3-4c69-b06e-84297bb8667d"
      },
      "outputs": [
        {
          "output_type": "stream",
          "name": "stdout",
          "text": [
            "Random tensor shape: torch.Size([1, 1, 2, 2])\n",
            "Max pool tensor shape: torch.Size([1, 1, 1, 1])\n"
          ]
        }
      ],
      "source": [
        "torch.manual_seed(42)\n",
        "# Create a random tesnor with a similar number of dimensions to our images\n",
        "random_tensor = torch.randn(size=(1, 1, 2, 2))\n",
        "# print(f\"\\nRandom tensor:\\n{random_tensor}\")\n",
        "print(f\"Random tensor shape: {random_tensor.shape}\")\n",
        "\n",
        "# Create a max pool layer\n",
        "max_pool_layer = nn.MaxPool2d(kernel_size=2)\n",
        "\n",
        "# Pass the random tensor through the max pool layer\n",
        "max_pool_tensor = max_pool_layer(random_tensor)\n",
        "# print(f\"\\nMax pool tensor:\\n {max_pool_tensor}\")\n",
        "print(f\"Max pool tensor shape: {max_pool_tensor.shape}\")"
      ]
    },
    {
      "cell_type": "code",
      "execution_count": 217,
      "id": "07f83a7b-8bd2-4288-83b0-dcd1bce4bdd9",
      "metadata": {
        "id": "07f83a7b-8bd2-4288-83b0-dcd1bce4bdd9",
        "colab": {
          "base_uri": "https://localhost:8080/"
        },
        "outputId": "7daae88d-a15d-4c7f-e41e-401a8d3205e6"
      },
      "outputs": [
        {
          "output_type": "execute_result",
          "data": {
            "text/plain": [
              "torch.Size([1, 28, 28])"
            ]
          },
          "metadata": {},
          "execution_count": 217
        }
      ],
      "source": [
        "image.shape"
      ]
    },
    {
      "cell_type": "code",
      "execution_count": 218,
      "id": "1b71c165-d7a0-4f61-a85a-a1870bc15759",
      "metadata": {
        "id": "1b71c165-d7a0-4f61-a85a-a1870bc15759",
        "colab": {
          "base_uri": "https://localhost:8080/",
          "height": 448
        },
        "outputId": "c9da11dc-cad3-4fcb-bce9-797fda0832d1"
      },
      "outputs": [
        {
          "output_type": "execute_result",
          "data": {
            "text/plain": [
              "<matplotlib.image.AxesImage at 0x7be5f882ee60>"
            ]
          },
          "metadata": {},
          "execution_count": 218
        },
        {
          "output_type": "display_data",
          "data": {
            "text/plain": [
              "<Figure size 640x480 with 1 Axes>"
            ],
            "image/png": "[encoded data removed]"
          },
          "metadata": {}
        }
      ],
      "source": [
        "plt.imshow(image.squeeze(), cmap=\"gray\")\n"
      ]
    },
    {
      "cell_type": "code",
      "execution_count": 219,
      "id": "e5a43a2a-4a5c-436f-824d-df02eb772db7",
      "metadata": {
        "id": "e5a43a2a-4a5c-436f-824d-df02eb772db7",
        "colab": {
          "base_uri": "https://localhost:8080/"
        },
        "outputId": "c0d261c8-054c-4974-e040-11db4d63502e"
      },
      "outputs": [
        {
          "output_type": "execute_result",
          "data": {
            "text/plain": [
              "torch.Size([1, 28, 28])"
            ]
          },
          "metadata": {},
          "execution_count": 219
        }
      ],
      "source": [
        "rand_image_tensor = torch.randn(size=(1,28,28))\n",
        "rand_image_tensor.shape"
      ]
    },
    {
      "cell_type": "code",
      "execution_count": 220,
      "id": "9cbdc1c8-4d62-437c-b722-75d6d80a4096",
      "metadata": {
        "id": "9cbdc1c8-4d62-437c-b722-75d6d80a4096",
        "colab": {
          "base_uri": "https://localhost:8080/"
        },
        "outputId": "de9bab59-3fe7-4810-eb32-b99e2c33f47b"
      },
      "outputs": [
        {
          "output_type": "execute_result",
          "data": {
            "text/plain": [
              "tensor([[ 0.0424, -0.0839,  0.0839, -0.0463,  0.0053,  0.0437,  0.0025,  0.0108,\n",
              "         -0.0158, -0.0177]], device='cuda:0', grad_fn=<AddmmBackward0>)"
            ]
          },
          "metadata": {},
          "execution_count": 220
        }
      ],
      "source": [
        "# pass image through model\n",
        "model_2(rand_image_tensor.unsqueeze(0).to(device))"
      ]
    },
    {
      "cell_type": "markdown",
      "id": "85a4c184-90cd-408d-bdfb-d7d1a601cd78",
      "metadata": {
        "id": "85a4c184-90cd-408d-bdfb-d7d1a601cd78"
      },
      "source": [
        "### 6.3 Setup loss function/eval metrics/optimizer"
      ]
    },
    {
      "cell_type": "code",
      "execution_count": 221,
      "id": "58fe08ba-f171-471d-8170-a676ea3f878a",
      "metadata": {
        "id": "58fe08ba-f171-471d-8170-a676ea3f878a"
      },
      "outputs": [],
      "source": [
        "# Setup loss function/eval metrics/optimizer\n",
        "\n",
        "loss_fn = nn.CrossEntropyLoss()\n",
        "optimizer = torch.optim.SGD(params=model_2.parameters(),\n",
        "                           lr=0.1)"
      ]
    },
    {
      "cell_type": "code",
      "execution_count": 252,
      "id": "e2bd5f68-2535-4031-96df-3abb47d8308c",
      "metadata": {
        "id": "e2bd5f68-2535-4031-96df-3abb47d8308c",
        "colab": {
          "base_uri": "https://localhost:8080/"
        },
        "outputId": "ebdecc2e-7de0-4dba-92a8-f32bf5e0b844"
      },
      "outputs": [
        {
          "output_type": "execute_result",
          "data": {
            "text/plain": [
              "OrderedDict([('conv_block_1.0.weight',\n",
              "              tensor([[[[ 0.2487,  0.3704, -0.3443],\n",
              "                        [ 0.1684,  0.1466, -0.0599],\n",
              "                        [-0.2924,  0.2857,  0.3670]]],\n",
              "              \n",
              "              \n",
              "                      [[[-0.3982,  0.6248, -0.1768],\n",
              "                        [ 0.2257,  0.4216,  0.0402],\n",
              "                        [ 0.0438,  0.4194,  0.1404]]],\n",
              "              \n",
              "              \n",
              "                      [[[-0.3668, -0.0543, -0.0304],\n",
              "                        [-0.5825, -0.5833,  0.2281],\n",
              "                        [-0.7347, -0.5932, -0.0763]]],\n",
              "              \n",
              "              \n",
              "                      [[[-0.7875, -0.9761, -0.7292],\n",
              "                        [ 0.2925, -0.7494,  0.0521],\n",
              "                        [ 0.3379,  0.0473,  0.3740]]],\n",
              "              \n",
              "              \n",
              "                      [[[ 0.0809,  0.3373, -0.1372],\n",
              "                        [-0.0723,  0.1833, -0.2036],\n",
              "                        [ 0.0489,  0.2279,  0.1114]]],\n",
              "              \n",
              "              \n",
              "                      [[[-0.1459,  0.1926,  0.0637],\n",
              "                        [ 0.1738, -0.2017, -0.3289],\n",
              "                        [-0.1251, -0.2568,  0.2566]]],\n",
              "              \n",
              "              \n",
              "                      [[[ 0.1884,  0.1564,  0.0580],\n",
              "                        [ 0.0682,  0.1752, -0.1889],\n",
              "                        [-0.0455, -0.4890, -0.0110]]],\n",
              "              \n",
              "              \n",
              "                      [[[-0.1166,  0.0684, -0.1312],\n",
              "                        [ 0.3767, -0.2707, -0.3157],\n",
              "                        [-0.2135,  0.3849,  0.2104]]],\n",
              "              \n",
              "              \n",
              "                      [[[ 0.4318, -0.3542, -0.4535],\n",
              "                        [-0.2547, -0.3777,  0.1510],\n",
              "                        [ 0.4388,  0.5556, -0.0583]]],\n",
              "              \n",
              "              \n",
              "                      [[[-0.2268,  0.1764, -0.1348],\n",
              "                        [ 0.2021, -0.0801,  0.1898],\n",
              "                        [-0.2593, -0.1685,  0.1015]]]], device='cuda:0')),\n",
              "             ('conv_block_1.0.bias',\n",
              "              tensor([ 0.0432,  0.1026,  0.1831,  0.2029, -0.3207, -0.2006,  0.1134, -0.0627,\n",
              "                      -0.1178, -0.3231], device='cuda:0')),\n",
              "             ('conv_block_1.2.weight',\n",
              "              tensor([[[[ 3.4265e-02, -4.4818e-02, -9.9699e-02],\n",
              "                        [-1.4498e-01, -2.0038e-01, -2.3788e-01],\n",
              "                        [-1.2856e-01, -2.5419e-01, -2.0323e-01]],\n",
              "              \n",
              "                       [[-8.0643e-02, -4.7912e-02, -6.8122e-02],\n",
              "                        [-1.3325e-01, -2.7432e-01, -2.0727e-01],\n",
              "                        [-3.0257e-02, -1.7366e-01, -2.3756e-01]],\n",
              "              \n",
              "                       [[ 3.9389e-03,  3.2766e-02,  1.3159e-01],\n",
              "                        [ 2.7785e-02,  1.7894e-01,  1.4271e-01],\n",
              "                        [-8.4957e-02,  2.1498e-02,  1.1618e-01]],\n",
              "              \n",
              "                       [[-1.5666e-01, -1.8880e-03, -1.5146e-01],\n",
              "                        [ 3.1671e-03, -4.2737e-02, -1.4248e-01],\n",
              "                        [ 1.6299e-01, -2.6077e-02,  1.6057e-02]],\n",
              "              \n",
              "                       [[-1.0258e-01, -1.2392e-01,  1.9784e-03],\n",
              "                        [-2.5598e-02,  3.1257e-02, -1.0674e-01],\n",
              "                        [ 1.0130e-01, -7.9928e-02, -3.4092e-02]],\n",
              "              \n",
              "                       [[ 2.2059e-02,  5.4522e-02,  8.5181e-02],\n",
              "                        [ 9.6282e-02, -8.3626e-02,  2.7266e-02],\n",
              "                        [-4.5267e-02, -1.2277e-02, -7.7498e-02]],\n",
              "              \n",
              "                       [[ 1.5689e-01, -9.3296e-02, -2.5968e-02],\n",
              "                        [ 1.0499e-01,  4.5304e-02, -4.9738e-02],\n",
              "                        [ 9.0155e-02,  1.4442e-02,  4.5406e-03]],\n",
              "              \n",
              "                       [[-8.5007e-02,  4.9253e-02, -1.3783e-02],\n",
              "                        [-5.0194e-02,  9.0222e-02,  2.0126e-02],\n",
              "                        [-2.9496e-02, -6.8919e-02, -3.5265e-02]],\n",
              "              \n",
              "                       [[ 1.0345e-01, -2.6822e-02, -5.2070e-02],\n",
              "                        [-2.8947e-02, -7.3126e-02,  4.3849e-02],\n",
              "                        [ 1.4242e-01, -8.4989e-02, -1.7588e-02]],\n",
              "              \n",
              "                       [[ 5.4454e-02,  1.9094e-02, -3.7532e-02],\n",
              "                        [ 5.5018e-02,  5.5394e-02,  3.9417e-02],\n",
              "                        [-1.8523e-02, -2.7910e-02,  1.1277e-02]]],\n",
              "              \n",
              "              \n",
              "                      [[[-1.8278e-02, -2.1720e-02,  9.4768e-02],\n",
              "                        [ 8.6714e-02, -5.5635e-03, -2.2340e-02],\n",
              "                        [-2.1003e-02, -2.8832e-02, -1.3576e-02]],\n",
              "              \n",
              "                       [[ 4.2318e-02, -7.8931e-02, -1.3231e-02],\n",
              "                        [ 9.5785e-02,  4.2381e-02, -8.6496e-03],\n",
              "                        [-1.1054e-01, -9.8594e-02, -1.2898e-01]],\n",
              "              \n",
              "                       [[-3.5048e-02,  3.2140e-02,  6.4160e-02],\n",
              "                        [ 4.9673e-02, -9.5416e-02, -6.5674e-02],\n",
              "                        [-1.9190e-02,  1.0572e-01,  1.5118e-02]],\n",
              "              \n",
              "                       [[-2.2403e-02,  3.5066e-02, -4.1116e-02],\n",
              "                        [-6.7309e-02,  7.5646e-02, -4.6997e-02],\n",
              "                        [-2.2094e-02, -1.1169e-01,  8.2885e-02]],\n",
              "              \n",
              "                       [[ 7.6894e-02,  3.4004e-02, -7.5314e-02],\n",
              "                        [-1.1981e-01, -1.0596e-01,  6.0707e-02],\n",
              "                        [ 2.5500e-02,  6.9045e-02,  3.1997e-02]],\n",
              "              \n",
              "                       [[ 2.6724e-02, -8.9465e-04, -8.0090e-02],\n",
              "                        [-9.0145e-02, -9.8527e-02,  4.3291e-02],\n",
              "                        [-5.1780e-02, -2.1292e-02, -6.0722e-02]],\n",
              "              \n",
              "                       [[-2.3282e-02, -7.0854e-02, -6.6346e-02],\n",
              "                        [ 4.3368e-02, -2.2957e-02,  7.4542e-02],\n",
              "                        [-1.9378e-02, -7.7365e-02, -1.7584e-02]],\n",
              "              \n",
              "                       [[-4.9370e-02, -3.1151e-02, -1.0145e-01],\n",
              "                        [ 6.3846e-02, -7.2489e-02,  5.4047e-02],\n",
              "                        [ 4.7922e-02,  7.9196e-02, -8.0164e-02]],\n",
              "              \n",
              "                       [[ 7.3737e-02, -5.2365e-02,  3.9167e-02],\n",
              "                        [ 8.8539e-02, -1.3339e-02, -1.2618e-03],\n",
              "                        [-2.9707e-02, -8.7206e-02,  5.1109e-02]],\n",
              "              \n",
              "                       [[-1.0464e-01,  6.5422e-02,  7.8879e-02],\n",
              "                        [ 9.9674e-02, -2.4856e-02, -8.6614e-02],\n",
              "                        [ 2.3696e-02,  5.8231e-02, -1.0491e-01]]],\n",
              "              \n",
              "              \n",
              "                      [[[-2.3838e-02, -6.4292e-02, -3.6852e-03],\n",
              "                        [-5.2946e-02, -4.1229e-02, -2.9079e-02],\n",
              "                        [-1.0514e-01,  8.6467e-02,  8.5847e-02]],\n",
              "              \n",
              "                       [[-1.6000e-02, -1.2024e-02, -4.2503e-02],\n",
              "                        [-9.6996e-02, -1.0233e-01,  4.1816e-02],\n",
              "                        [-6.5565e-02, -6.9388e-02, -7.1013e-03]],\n",
              "              \n",
              "                       [[-3.5695e-02, -3.6510e-02,  3.2831e-03],\n",
              "                        [-2.2572e-02, -3.7646e-02, -5.4494e-02],\n",
              "                        [-8.6433e-02,  8.7785e-02, -4.2123e-02]],\n",
              "              \n",
              "                       [[ 2.6012e-02, -3.9368e-02,  1.3050e-02],\n",
              "                        [ 9.2396e-02,  4.8139e-02, -9.5250e-02],\n",
              "                        [ 3.2930e-02,  9.2745e-02,  1.5416e-02]],\n",
              "              \n",
              "                       [[ 7.0691e-02,  1.0391e-01, -1.7607e-02],\n",
              "                        [ 2.1016e-02, -7.3721e-02, -2.3430e-02],\n",
              "                        [ 7.4643e-02,  5.2478e-02, -6.5981e-02]],\n",
              "              \n",
              "                       [[-8.4524e-02, -7.2019e-02, -1.0398e-01],\n",
              "                        [-8.1338e-02, -2.6083e-02,  7.1245e-02],\n",
              "                        [ 1.7596e-02, -8.0260e-02, -8.4562e-02]],\n",
              "              \n",
              "                       [[ 5.1295e-02, -7.8119e-02, -1.6529e-02],\n",
              "                        [ 4.9532e-02, -4.9514e-02, -1.5565e-02],\n",
              "                        [-9.6507e-03, -2.7116e-02, -5.5779e-02]],\n",
              "              \n",
              "                       [[-9.3973e-02, -8.5207e-02, -5.6544e-02],\n",
              "                        [ 1.0096e-01, -5.0981e-02, -7.1815e-02],\n",
              "                        [ 2.4037e-02,  2.6571e-02,  5.4534e-02]],\n",
              "              \n",
              "                       [[ 7.9635e-02,  5.8718e-02, -1.0435e-01],\n",
              "                        [ 6.9868e-03,  6.2930e-02, -9.7630e-03],\n",
              "                        [-6.6706e-02,  9.8303e-02, -4.3515e-02]],\n",
              "              \n",
              "                       [[-6.0014e-02, -9.5032e-02,  4.7086e-03],\n",
              "                        [ 4.6710e-02,  2.3334e-02,  2.0845e-02],\n",
              "                        [-7.9941e-02, -9.8440e-02,  1.8562e-03]]],\n",
              "              \n",
              "              \n",
              "                      [[[-1.5738e-02, -1.3002e-01, -2.6334e-01],\n",
              "                        [ 1.5354e-01,  1.8058e-01,  2.5640e-02],\n",
              "                        [-8.3662e-02,  2.4730e-01,  1.5169e-01]],\n",
              "              \n",
              "                       [[ 1.5284e-01, -1.6241e-01, -2.9664e-03],\n",
              "                        [ 2.1803e-01,  1.4700e-01,  2.1856e-01],\n",
              "                        [-1.9799e-01,  9.6905e-02,  1.3431e-01]],\n",
              "              \n",
              "                       [[-8.9118e-02, -2.7815e-01, -3.2491e-01],\n",
              "                        [-1.2630e-01, -8.6020e-02, -2.0433e-01],\n",
              "                        [ 1.2471e-01, -8.3141e-02, -1.3778e-01]],\n",
              "              \n",
              "                       [[ 3.9344e-02, -5.1187e-02,  6.1752e-02],\n",
              "                        [-4.2077e-01, -2.7929e-01, -1.0207e-01],\n",
              "                        [-2.0857e-01, -3.0010e-01, -3.5409e-01]],\n",
              "              \n",
              "                       [[-7.1606e-02, -1.9520e-01, -8.5699e-02],\n",
              "                        [ 3.8679e-03,  3.7521e-02,  5.3239e-02],\n",
              "                        [-2.6264e-02,  1.0544e-01,  1.6853e-01]],\n",
              "              \n",
              "                       [[-5.2469e-02, -4.5361e-02,  3.6076e-02],\n",
              "                        [-6.6253e-02, -7.0161e-02, -7.0232e-03],\n",
              "                        [-4.2427e-02, -7.7961e-02,  5.7325e-02]],\n",
              "              \n",
              "                       [[ 1.1304e-01, -5.4094e-02,  4.0229e-02],\n",
              "                        [-1.1676e-01, -9.9500e-02, -1.1461e-01],\n",
              "                        [ 2.0997e-01,  3.5157e-02,  4.1837e-02]],\n",
              "              \n",
              "                       [[-7.0857e-02, -2.1816e-01,  5.7632e-03],\n",
              "                        [-1.4147e-01, -7.6025e-02, -5.8890e-02],\n",
              "                        [-2.8605e-03, -4.5040e-02,  1.1229e-03]],\n",
              "              \n",
              "                       [[ 1.3346e-01, -4.2804e-04, -4.5489e-02],\n",
              "                        [-9.9901e-02, -2.3163e-01, -2.1259e-02],\n",
              "                        [ 3.4488e-02, -4.6856e-02, -7.8431e-02]],\n",
              "              \n",
              "                       [[-1.0399e-01, -8.6217e-02,  2.0516e-02],\n",
              "                        [ 2.8187e-02,  2.2336e-02, -2.8416e-02],\n",
              "                        [ 9.7159e-02,  1.5041e-02, -6.2090e-02]]],\n",
              "              \n",
              "              \n",
              "                      [[[-1.2757e-01, -3.3773e-02,  2.9595e-02],\n",
              "                        [-1.1943e-01,  2.5737e-02, -7.7694e-02],\n",
              "                        [-7.1496e-02, -3.1732e-02,  8.2009e-02]],\n",
              "              \n",
              "                       [[ 4.9594e-02,  8.9836e-02,  7.1459e-02],\n",
              "                        [ 1.1379e-01, -1.0887e-02, -8.5676e-02],\n",
              "                        [ 9.5794e-02, -5.2073e-02, -9.6570e-02]],\n",
              "              \n",
              "                       [[-4.4289e-02,  6.4293e-03,  3.6290e-02],\n",
              "                        [-5.5590e-02, -7.7722e-02, -1.8653e-03],\n",
              "                        [-7.7032e-02, -8.3124e-02,  4.2123e-02]],\n",
              "              \n",
              "                       [[-7.6534e-03,  6.2084e-02,  4.7952e-02],\n",
              "                        [ 1.8824e-02,  6.4738e-03, -1.6662e-02],\n",
              "                        [-1.8546e-02, -2.6297e-02, -2.2333e-02]],\n",
              "              \n",
              "                       [[ 2.9622e-03,  7.5386e-02, -3.6907e-02],\n",
              "                        [-4.6463e-02, -2.9082e-02, -6.1255e-02],\n",
              "                        [ 2.7631e-02,  7.2501e-02,  6.7983e-02]],\n",
              "              \n",
              "                       [[ 4.8636e-02, -7.7568e-02, -5.6524e-02],\n",
              "                        [-2.3160e-02, -1.9400e-02,  8.6725e-03],\n",
              "                        [-9.6852e-02,  3.3452e-02, -8.0460e-02]],\n",
              "              \n",
              "                       [[-1.1841e-01, -1.0920e-01,  8.1974e-02],\n",
              "                        [-1.3258e-01,  7.0366e-02, -1.9396e-02],\n",
              "                        [-2.2130e-02,  6.7040e-02, -2.6069e-02]],\n",
              "              \n",
              "                       [[ 6.4355e-02,  6.9742e-02, -9.7034e-02],\n",
              "                        [ 4.0605e-02,  1.8870e-02,  1.3785e-02],\n",
              "                        [ 1.3849e-02,  2.8147e-02, -5.1029e-02]],\n",
              "              \n",
              "                       [[-9.3979e-03,  1.0181e-01,  6.6028e-02],\n",
              "                        [-6.5465e-03, -1.0306e-01,  1.6006e-03],\n",
              "                        [-7.4618e-02,  8.1570e-02, -6.6280e-02]],\n",
              "              \n",
              "                       [[-7.6169e-03, -2.3388e-02,  1.8730e-02],\n",
              "                        [ 9.9149e-02,  1.0024e-02,  6.1039e-02],\n",
              "                        [ 8.1802e-02,  8.5086e-02, -3.6405e-02]]],\n",
              "              \n",
              "              \n",
              "                      [[[ 1.7268e-01,  2.8513e-01,  3.0001e-01],\n",
              "                        [ 2.1184e-02, -4.3572e-02, -6.4778e-02],\n",
              "                        [-3.6920e-01, -3.0967e-01, -8.2847e-02]],\n",
              "              \n",
              "                       [[ 2.7766e-01,  3.0814e-01,  3.2283e-01],\n",
              "                        [-9.8800e-02, -1.0676e-01, -2.9453e-02],\n",
              "                        [-3.8114e-01, -4.6711e-01, -2.3390e-01]],\n",
              "              \n",
              "                       [[-1.6832e-02, -3.8646e-02, -2.7953e-02],\n",
              "                        [-7.3061e-02, -1.4379e-02,  5.2429e-02],\n",
              "                        [ 1.8091e-01,  1.0736e-01,  6.4918e-02]],\n",
              "              \n",
              "                       [[-2.9494e-02, -1.4844e-01, -1.2316e-01],\n",
              "                        [-5.0547e-02, -1.8017e-01, -9.8728e-02],\n",
              "                        [ 8.0494e-02,  4.0024e-02, -3.3650e-02]],\n",
              "              \n",
              "                       [[ 9.7210e-03,  1.0256e-01,  5.0174e-02],\n",
              "                        [ 2.2445e-02,  4.2812e-02,  4.8542e-02],\n",
              "                        [-2.6155e-01, -1.7948e-01, -1.9516e-01]],\n",
              "              \n",
              "                       [[-8.3816e-02, -8.4947e-03, -9.2400e-02],\n",
              "                        [ 7.4024e-02,  1.0994e-02, -5.6602e-02],\n",
              "                        [ 5.6595e-02, -9.9303e-02, -4.0915e-02]],\n",
              "              \n",
              "                       [[ 1.2417e-01,  1.6618e-02, -1.2690e-02],\n",
              "                        [ 9.8801e-02,  9.1476e-02,  1.1213e-01],\n",
              "                        [ 1.9661e-01,  6.9247e-02, -9.2877e-05]],\n",
              "              \n",
              "                       [[ 9.3158e-02,  3.5507e-02, -3.7362e-03],\n",
              "                        [ 9.2023e-03, -8.4782e-02, -3.5249e-02],\n",
              "                        [ 1.0832e-01, -3.2555e-02,  4.9292e-03]],\n",
              "              \n",
              "                       [[-1.2356e-01, -4.8979e-02,  1.7818e-02],\n",
              "                        [-3.0710e-02,  1.3669e-03,  3.0837e-02],\n",
              "                        [-7.9320e-02,  3.7744e-02, -9.3821e-02]],\n",
              "              \n",
              "                       [[-5.1731e-02,  4.0280e-02,  8.3858e-02],\n",
              "                        [-2.8742e-02, -4.3285e-02, -9.5250e-02],\n",
              "                        [-5.4332e-02, -9.2351e-02, -2.3999e-02]]],\n",
              "              \n",
              "              \n",
              "                      [[[ 5.2445e-02, -4.3088e-02, -3.0880e-02],\n",
              "                        [ 1.4235e-01,  1.9484e-02, -2.5662e-01],\n",
              "                        [ 1.5629e-01,  2.1383e-01, -9.0547e-02]],\n",
              "              \n",
              "                       [[ 1.5525e-01,  2.7572e-04, -4.4013e-01],\n",
              "                        [ 4.1925e-01,  1.2951e-01, -2.1169e-01],\n",
              "                        [ 3.5667e-01, -1.3885e-02, -2.3198e-01]],\n",
              "              \n",
              "                       [[-1.4955e-01, -2.3542e-01, -1.6050e-01],\n",
              "                        [-1.0639e-01, -3.6939e-01, -1.7922e-03],\n",
              "                        [ 1.0034e-01, -1.0999e-01,  9.3383e-02]],\n",
              "              \n",
              "                       [[-3.9550e-01, -1.2876e-01,  4.3222e-03],\n",
              "                        [-2.0544e-01, -2.2030e-01,  3.1337e-01],\n",
              "                        [-6.4936e-02, -3.2850e-01,  1.8438e-01]],\n",
              "              \n",
              "                       [[-1.1604e-02,  9.2184e-02, -1.1801e-01],\n",
              "                        [-4.1635e-03,  1.5146e-01, -2.1639e-02],\n",
              "                        [-9.1389e-03,  1.1902e-01,  5.1819e-02]],\n",
              "              \n",
              "                       [[ 9.5212e-02, -9.2738e-02, -3.5405e-02],\n",
              "                        [-9.9658e-02, -4.7075e-02,  3.1212e-02],\n",
              "                        [ 1.0204e-01,  1.6773e-02,  1.0236e-01]],\n",
              "              \n",
              "                       [[ 2.7853e-03,  1.2495e-01,  1.2232e-01],\n",
              "                        [ 5.9345e-02, -1.0532e-01,  8.2817e-03],\n",
              "                        [ 2.1728e-01,  9.4365e-02, -6.5680e-02]],\n",
              "              \n",
              "                       [[-1.9829e-01, -9.7018e-02, -8.9514e-02],\n",
              "                        [-6.3518e-02, -3.8857e-02, -3.6891e-02],\n",
              "                        [ 8.9135e-03, -8.0227e-02,  8.6195e-02]],\n",
              "              \n",
              "                       [[ 3.2320e-02, -2.7960e-01, -5.8418e-02],\n",
              "                        [-1.2579e-02, -2.3333e-01, -2.3347e-01],\n",
              "                        [ 1.7685e-02, -1.2980e-01, -1.1219e-01]],\n",
              "              \n",
              "                       [[ 5.9489e-02,  3.8293e-02,  8.3692e-02],\n",
              "                        [-3.9477e-02,  3.5540e-02,  3.7778e-02],\n",
              "                        [-8.7797e-02, -1.0218e-01, -5.4720e-02]]],\n",
              "              \n",
              "              \n",
              "                      [[[ 1.8821e-01, -1.1142e-01, -3.8422e-01],\n",
              "                        [ 2.0977e-01,  2.1844e-01, -1.7165e-01],\n",
              "                        [-7.9760e-02,  1.4734e-01, -5.1480e-02]],\n",
              "              \n",
              "                       [[ 2.3904e-01,  6.6404e-02, -3.6594e-01],\n",
              "                        [ 1.0163e-01,  2.7274e-01, -4.2808e-01],\n",
              "                        [-6.1481e-02,  3.9100e-01, -3.7162e-01]],\n",
              "              \n",
              "                       [[-1.1868e-01, -5.9231e-02, -1.3545e-02],\n",
              "                        [-3.3603e-02, -1.7060e-01, -6.4121e-02],\n",
              "                        [ 1.0098e-01, -1.2512e-01, -3.6089e-02]],\n",
              "              \n",
              "                       [[-2.9961e-03, -4.8647e-02,  2.7595e-01],\n",
              "                        [-9.8445e-02, -8.0761e-02,  2.4318e-01],\n",
              "                        [-1.0081e-01, -1.8384e-01,  1.6152e-01]],\n",
              "              \n",
              "                       [[-2.1715e-02, -1.3833e-01, -2.3276e-01],\n",
              "                        [ 4.2702e-02,  1.3054e-01, -6.8837e-02],\n",
              "                        [-1.5144e-01,  5.8559e-02, -9.5372e-02]],\n",
              "              \n",
              "                       [[-2.0018e-02, -7.2042e-02,  8.9704e-03],\n",
              "                        [ 1.0276e-02, -1.3840e-02,  1.3538e-02],\n",
              "                        [-4.2020e-02,  2.6373e-02,  3.8891e-02]],\n",
              "              \n",
              "                       [[ 3.0896e-03, -8.6907e-02,  1.1509e-01],\n",
              "                        [ 4.8098e-02, -3.5428e-02,  8.5183e-02],\n",
              "                        [-6.2619e-02,  1.0097e-01,  8.3352e-02]],\n",
              "              \n",
              "                       [[-8.2545e-02,  8.2941e-02, -1.1520e-01],\n",
              "                        [-7.6708e-02,  1.3424e-02,  1.2937e-02],\n",
              "                        [ 9.3126e-02, -5.6665e-02,  4.7602e-02]],\n",
              "              \n",
              "                       [[-1.0270e-01,  8.3171e-02, -8.4367e-02],\n",
              "                        [-8.7416e-02,  1.8284e-02,  9.5466e-02],\n",
              "                        [ 1.0579e-01, -8.8614e-02, -5.9292e-02]],\n",
              "              \n",
              "                       [[ 2.0202e-02,  2.8594e-02,  4.0553e-02],\n",
              "                        [ 5.7837e-02, -2.3916e-02,  5.8550e-02],\n",
              "                        [ 7.7712e-02, -2.7496e-02,  7.4987e-02]]],\n",
              "              \n",
              "              \n",
              "                      [[[-9.4220e-02,  7.3294e-02, -5.4021e-03],\n",
              "                        [-4.6862e-02,  1.3238e-01,  5.3012e-02],\n",
              "                        [ 7.3981e-02, -4.0382e-02, -9.0518e-02]],\n",
              "              \n",
              "                       [[-6.1173e-02,  3.4915e-01, -4.8794e-02],\n",
              "                        [ 3.4272e-02,  1.2821e-01, -2.6846e-01],\n",
              "                        [ 4.1890e-02, -1.2491e-02, -1.3014e-01]],\n",
              "              \n",
              "                       [[-1.3427e-01, -2.6892e-01, -5.6530e-02],\n",
              "                        [-2.4599e-01, -2.3843e-01, -1.4181e-01],\n",
              "                        [-1.6004e-01, -1.8190e-01, -1.4135e-02]],\n",
              "              \n",
              "                       [[-3.3733e-02, -7.5089e-02,  2.3796e-01],\n",
              "                        [-3.0237e-01, -3.4351e-01, -1.3446e-01],\n",
              "                        [-3.5012e-02, -1.7694e-01,  8.1287e-03]],\n",
              "              \n",
              "                       [[-3.9908e-02,  9.5781e-02,  5.1992e-02],\n",
              "                        [ 6.4589e-02,  1.7855e-01, -1.3345e-02],\n",
              "                        [ 8.6387e-04, -3.9126e-02, -1.0454e-01]],\n",
              "              \n",
              "                       [[ 8.8378e-02,  8.1189e-02,  3.1654e-02],\n",
              "                        [ 6.6644e-03, -9.1030e-02, -1.3008e-02],\n",
              "                        [ 1.0150e-01,  2.7964e-02,  6.2300e-03]],\n",
              "              \n",
              "                       [[-1.1993e-01, -5.1454e-02,  1.0632e-01],\n",
              "                        [-2.0929e-02,  1.3104e-01, -5.0706e-03],\n",
              "                        [ 1.1325e-01,  5.9701e-02, -1.4765e-02]],\n",
              "              \n",
              "                       [[-4.2876e-02, -4.3846e-02,  1.2999e-01],\n",
              "                        [ 3.0665e-02, -1.3827e-01, -1.5558e-01],\n",
              "                        [ 1.7893e-03, -1.1471e-02, -1.0811e-01]],\n",
              "              \n",
              "                       [[-1.1888e-02, -2.3291e-01, -8.7511e-02],\n",
              "                        [-1.5543e-02, -1.7937e-01, -2.1462e-01],\n",
              "                        [ 1.8737e-02, -1.0266e-01, -1.9166e-03]],\n",
              "              \n",
              "                       [[ 5.5926e-02,  9.5075e-02,  3.2000e-04],\n",
              "                        [ 2.1137e-02,  3.6824e-02, -9.9634e-02],\n",
              "                        [ 9.3880e-03, -6.9541e-03, -5.9102e-02]]],\n",
              "              \n",
              "              \n",
              "                      [[[-2.4473e-01,  2.2213e-01,  3.5407e-01],\n",
              "                        [-2.8754e-01, -2.6825e-02,  2.0577e-01],\n",
              "                        [-2.4423e-01, -4.4202e-02,  1.3517e-01]],\n",
              "              \n",
              "                       [[-2.5600e-01,  4.7320e-02,  2.8093e-01],\n",
              "                        [-3.4441e-01, -6.0703e-02,  4.2633e-01],\n",
              "                        [-2.8272e-01, -9.6463e-02,  3.1471e-01]],\n",
              "              \n",
              "                       [[-4.0721e-02,  2.6280e-02,  6.2697e-02],\n",
              "                        [-4.7514e-02,  2.8955e-02, -6.7439e-02],\n",
              "                        [-4.3776e-03,  5.4019e-02, -2.3789e-02]],\n",
              "              \n",
              "                       [[ 6.4164e-02, -3.9208e-02, -2.2602e-01],\n",
              "                        [ 1.0369e-01, -1.0771e-01, -2.0652e-01],\n",
              "                        [ 1.8657e-01, -1.1742e-01, -1.2952e-01]],\n",
              "              \n",
              "                       [[-1.8442e-01, -6.6893e-02, -5.6689e-03],\n",
              "                        [-8.0133e-02, -8.4979e-02,  7.7350e-02],\n",
              "                        [-3.0572e-02,  6.2792e-02,  1.7099e-01]],\n",
              "              \n",
              "                       [[-1.0037e-01, -7.4839e-02, -3.8381e-02],\n",
              "                        [ 8.7350e-02,  1.1366e-02, -7.9112e-02],\n",
              "                        [ 7.9800e-04, -8.2963e-02, -2.2892e-02]],\n",
              "              \n",
              "                       [[ 3.9623e-02,  6.6686e-02,  3.5010e-02],\n",
              "                        [ 1.8494e-02, -1.9353e-02, -3.7947e-02],\n",
              "                        [ 1.0007e-01, -7.7326e-02, -6.8037e-02]],\n",
              "              \n",
              "                       [[-2.9684e-02,  7.8820e-02, -6.4637e-02],\n",
              "                        [-4.5150e-02,  6.5210e-02,  9.1291e-02],\n",
              "                        [ 1.1913e-01,  3.0654e-02, -5.0887e-02]],\n",
              "              \n",
              "                       [[ 4.5983e-02,  1.2618e-01, -9.2576e-02],\n",
              "                        [ 3.3001e-02, -1.1797e-01,  1.4030e-03],\n",
              "                        [ 6.2537e-02, -4.0228e-02, -2.2666e-02]],\n",
              "              \n",
              "                       [[ 4.7504e-02, -1.7652e-02, -8.8434e-02],\n",
              "                        [ 8.4360e-02, -5.3031e-02, -1.1479e-02],\n",
              "                        [ 9.9190e-03, -6.3564e-03, -9.9237e-02]]]], device='cuda:0')),\n",
              "             ('conv_block_1.2.bias',\n",
              "              tensor([ 0.3945, -0.0382, -0.0635,  0.3910, -0.0955,  0.0330,  0.2679,  0.0618,\n",
              "                       0.2188,  0.0265], device='cuda:0')),\n",
              "             ('conv_block_2.0.weight',\n",
              "              tensor([[[[ 2.0081e-02, -3.5665e-02,  1.7248e-02],\n",
              "                        [-9.5638e-02, -6.9348e-02,  8.3226e-02],\n",
              "                        [-1.4775e-01,  9.3903e-02,  1.8845e-01]],\n",
              "              \n",
              "                       [[ 5.6154e-02, -9.7833e-02, -4.4507e-02],\n",
              "                        [-8.8164e-02, -6.0897e-02,  6.0278e-02],\n",
              "                        [-8.6753e-03,  5.4877e-02, -5.4865e-02]],\n",
              "              \n",
              "                       [[ 1.4830e-02, -6.3202e-02,  5.2801e-02],\n",
              "                        [-4.6449e-02, -2.6170e-02, -9.0980e-02],\n",
              "                        [ 2.7437e-04,  1.0001e-01,  5.1140e-02]],\n",
              "              \n",
              "                       [[-3.0324e-01, -2.4532e-03, -1.7372e-01],\n",
              "                        [-1.5126e-02,  2.8224e-01,  1.0115e-01],\n",
              "                        [ 2.3777e-01, -4.8213e-02, -1.1396e-01]],\n",
              "              \n",
              "                       [[ 1.0196e-02,  5.0288e-02,  2.1295e-02],\n",
              "                        [-2.6453e-02,  1.0795e-01, -1.6564e-02],\n",
              "                        [-6.2465e-02, -6.5306e-02,  1.0109e-01]],\n",
              "              \n",
              "                       [[-8.3171e-02, -1.7013e-01, -2.0012e-01],\n",
              "                        [-1.2545e-01, -5.0883e-02, -4.9300e-02],\n",
              "                        [-8.9939e-02,  3.2402e-02,  9.0100e-02]],\n",
              "              \n",
              "                       [[-3.3925e-01,  2.6332e-01, -2.8268e-01],\n",
              "                        [ 7.1484e-02,  1.8210e-01,  1.2783e-01],\n",
              "                        [ 4.0402e-01,  1.5107e-01,  3.9326e-02]],\n",
              "              \n",
              "                       [[ 1.1900e-01,  1.6439e-01, -5.5108e-02],\n",
              "                        [ 1.5509e-02,  9.9367e-02, -1.0508e-01],\n",
              "                        [ 4.1825e-02, -8.6398e-02, -1.4022e-01]],\n",
              "              \n",
              "                       [[-2.7155e-01, -5.4300e-02, -2.0760e-01],\n",
              "                        [ 2.1528e-01,  2.4923e-01,  1.8269e-01],\n",
              "                        [ 9.8280e-02, -8.2542e-02,  5.4474e-02]],\n",
              "              \n",
              "                       [[ 2.4420e-01, -2.7163e-02,  1.0317e-01],\n",
              "                        [-8.3106e-03,  1.9178e-02, -1.0013e-01],\n",
              "                        [-1.6299e-01, -5.8400e-02, -7.5797e-02]]],\n",
              "              \n",
              "              \n",
              "                      [[[-3.6866e-02, -1.6683e-01, -1.7554e-01],\n",
              "                        [ 2.2603e-01, -2.2910e-01, -2.0139e-02],\n",
              "                        [ 3.8898e-02,  1.3924e-01,  4.1876e-02]],\n",
              "              \n",
              "                       [[ 2.8059e-02, -4.9615e-02, -1.3225e-01],\n",
              "                        [-5.6850e-02,  1.0622e-01, -1.7288e-02],\n",
              "                        [ 2.2974e-02, -4.7481e-02,  4.8595e-02]],\n",
              "              \n",
              "                       [[ 5.6283e-02,  3.7992e-02, -5.2355e-02],\n",
              "                        [-8.8047e-02,  6.7043e-03, -6.2597e-02],\n",
              "                        [ 8.2938e-02, -1.0213e-01,  4.6316e-02]],\n",
              "              \n",
              "                       [[-5.3081e-02,  5.0285e-01,  3.1421e-01],\n",
              "                        [-3.0216e-01,  6.6167e-01,  4.0832e-01],\n",
              "                        [-7.1445e-01, -1.8987e-01, -2.2670e-01]],\n",
              "              \n",
              "                       [[ 5.4524e-02,  1.2505e-01, -4.0560e-02],\n",
              "                        [-5.9404e-02,  1.0501e-02,  6.3456e-03],\n",
              "                        [-3.7166e-03, -1.1487e-01, -7.4170e-03]],\n",
              "              \n",
              "                       [[ 1.3080e-01, -4.0819e-01, -1.8276e-01],\n",
              "                        [ 1.2653e-01,  1.4054e-01,  4.4992e-02],\n",
              "                        [ 3.4675e-02,  2.3815e-01,  1.9030e-01]],\n",
              "              \n",
              "                       [[-7.5233e-01,  2.4501e-01,  3.4286e-01],\n",
              "                        [-3.4468e-01,  3.3563e-01,  5.5208e-01],\n",
              "                        [-3.9492e-01, -2.6410e-02, -1.8572e-01]],\n",
              "              \n",
              "                       [[-1.5919e-01, -2.6377e-01, -4.5415e-02],\n",
              "                        [-3.9152e-01, -1.4414e-01,  4.7236e-02],\n",
              "                        [-2.6684e-01, -1.8088e-01, -1.6538e-01]],\n",
              "              \n",
              "                       [[-3.9320e-01,  2.4387e-01,  4.0036e-01],\n",
              "                        [-1.9591e-01,  2.9995e-01,  2.8611e-01],\n",
              "                        [-3.9768e-01, -6.7439e-02, -9.1563e-02]],\n",
              "              \n",
              "                       [[ 3.2830e-01,  2.7088e-02, -1.1784e-01],\n",
              "                        [ 1.5477e-01,  8.8700e-02, -1.6520e-01],\n",
              "                        [-1.1503e-01,  3.8083e-02,  1.2688e-01]]],\n",
              "              \n",
              "              \n",
              "                      [[[-4.5260e-02,  6.8851e-02,  6.4746e-02],\n",
              "                        [-7.8275e-02, -1.0440e-01, -9.9593e-02],\n",
              "                        [-7.5398e-02, -5.6009e-02, -2.6792e-02]],\n",
              "              \n",
              "                       [[-2.4409e-02, -5.2778e-02, -3.2693e-02],\n",
              "                        [-3.7963e-02,  1.0488e-01, -3.6407e-02],\n",
              "                        [-7.5868e-02,  4.3098e-02, -2.8931e-03]],\n",
              "              \n",
              "                       [[ 8.0701e-02,  6.6032e-02,  9.7400e-02],\n",
              "                        [-7.7110e-02,  6.8191e-02,  8.8737e-02],\n",
              "                        [-5.1849e-02,  9.7037e-02,  7.9002e-02]],\n",
              "              \n",
              "                       [[-3.8672e-02,  3.9068e-02, -5.1200e-02],\n",
              "                        [-1.3733e-01,  4.8956e-02,  4.8892e-02],\n",
              "                        [-1.1404e-01,  3.6666e-02, -1.2460e-01]],\n",
              "              \n",
              "                       [[ 8.1216e-02,  1.0120e-01,  1.9273e-02],\n",
              "                        [-6.7523e-02,  6.1655e-02,  1.7155e-02],\n",
              "                        [ 1.5043e-02,  2.7724e-02,  6.3770e-02]],\n",
              "              \n",
              "                       [[-3.8422e-02, -5.5646e-02, -3.5803e-03],\n",
              "                        [-1.2265e-02,  5.1386e-02, -6.3284e-02],\n",
              "                        [-2.6124e-02, -5.2764e-03, -2.2031e-02]],\n",
              "              \n",
              "                       [[ 3.7448e-02, -1.2052e-02, -8.7511e-02],\n",
              "                        [-3.5476e-02, -5.9942e-02,  6.3991e-02],\n",
              "                        [-5.9668e-02, -1.2425e-01,  8.3638e-03]],\n",
              "              \n",
              "                       [[-1.1087e-02, -3.7675e-02,  9.6227e-02],\n",
              "                        [-2.6960e-02,  7.5445e-02,  4.2089e-02],\n",
              "                        [-1.1296e-01,  1.2568e-02,  9.3051e-02]],\n",
              "              \n",
              "                       [[-1.0649e-01, -1.0093e-01,  8.9417e-02],\n",
              "                        [ 4.9729e-02, -6.5740e-02,  9.2539e-02],\n",
              "                        [-5.7390e-02, -1.1690e-01,  7.4228e-04]],\n",
              "              \n",
              "                       [[ 4.4679e-02,  4.5191e-02,  1.2084e-01],\n",
              "                        [-7.4481e-02,  1.7825e-01,  1.3822e-01],\n",
              "                        [ 6.1274e-02,  1.0812e-01,  3.0508e-02]]],\n",
              "              \n",
              "              \n",
              "                      [[[-8.5654e-02, -2.7527e-02, -1.4022e-02],\n",
              "                        [-6.3207e-02, -8.1212e-02,  7.7747e-02],\n",
              "                        [ 7.1157e-02, -1.0727e-01,  2.7423e-02]],\n",
              "              \n",
              "                       [[ 4.2862e-02,  9.9800e-02,  6.0557e-02],\n",
              "                        [ 9.6317e-02, -3.5044e-02,  7.4111e-02],\n",
              "                        [ 8.6226e-02, -1.0029e-01, -8.4858e-02]],\n",
              "              \n",
              "                       [[ 2.1319e-02,  5.7573e-02, -5.2363e-02],\n",
              "                        [ 1.1636e-02, -8.7708e-05,  2.6664e-02],\n",
              "                        [-5.6661e-02,  5.9414e-02,  7.0097e-02]],\n",
              "              \n",
              "                       [[-9.8320e-02, -2.2842e-02, -7.6862e-03],\n",
              "                        [ 3.3835e-02,  1.0357e-01,  2.4769e-02],\n",
              "                        [-5.5025e-02,  1.0302e-01, -3.9031e-02]],\n",
              "              \n",
              "                       [[-3.1013e-02,  6.3893e-03, -7.9588e-02],\n",
              "                        [ 1.0348e-02, -7.2152e-02,  1.2047e-02],\n",
              "                        [ 9.1188e-03,  1.4250e-02, -9.0357e-02]],\n",
              "              \n",
              "                       [[-9.5790e-02,  5.5417e-02,  8.8896e-02],\n",
              "                        [-6.7428e-02,  5.4611e-02, -6.6848e-02],\n",
              "                        [ 5.3971e-02,  1.2692e-01,  8.3958e-02]],\n",
              "              \n",
              "                       [[-9.2273e-02,  2.2807e-02,  4.3190e-02],\n",
              "                        [-3.1126e-03,  7.6102e-02, -4.7169e-02],\n",
              "                        [-5.2256e-02, -7.9491e-02,  1.4186e-02]],\n",
              "              \n",
              "                       [[ 1.5993e-02, -2.3652e-02, -7.9269e-02],\n",
              "                        [-5.2540e-02,  2.2365e-02, -1.0973e-01],\n",
              "                        [-3.0191e-02, -1.1994e-02, -4.7795e-02]],\n",
              "              \n",
              "                       [[ 4.2133e-02, -1.0620e-02,  6.2806e-02],\n",
              "                        [-3.2154e-03, -7.9719e-02,  6.4149e-02],\n",
              "                        [ 5.7679e-03, -3.6159e-02, -8.0521e-02]],\n",
              "              \n",
              "                       [[ 4.5005e-02, -1.0527e-01,  8.1695e-03],\n",
              "                        [ 6.2267e-02, -9.6131e-02, -7.2866e-02],\n",
              "                        [-3.5988e-02,  1.2075e-01,  8.5979e-02]]],\n",
              "              \n",
              "              \n",
              "                      [[[ 5.6549e-02,  1.0215e-01, -4.4230e-02],\n",
              "                        [-5.6555e-02,  6.0208e-02,  6.6331e-02],\n",
              "                        [ 1.3588e-01,  4.8978e-02,  1.6386e-01]],\n",
              "              \n",
              "                       [[ 6.6777e-02,  7.7263e-02, -1.0506e-01],\n",
              "                        [ 8.3106e-02, -9.1373e-02,  9.4668e-02],\n",
              "                        [-9.3847e-03, -9.5085e-02,  2.9373e-02]],\n",
              "              \n",
              "                       [[-2.1446e-02, -9.4698e-02, -3.8210e-02],\n",
              "                        [ 1.0753e-02,  8.2097e-02, -3.2673e-02],\n",
              "                        [ 6.2394e-02,  1.3178e-02,  2.3884e-03]],\n",
              "              \n",
              "                       [[ 6.6202e-02, -8.4075e-02, -9.1424e-02],\n",
              "                        [-2.8795e-02, -1.3348e-01, -8.5912e-02],\n",
              "                        [ 4.4432e-02, -7.6485e-02, -1.2207e-01]],\n",
              "              \n",
              "                       [[-1.7998e-02, -1.3177e-02, -5.8337e-02],\n",
              "                        [ 6.2736e-03, -1.5348e-02,  3.0050e-02],\n",
              "                        [ 8.3111e-03, -5.3787e-02, -3.7028e-02]],\n",
              "              \n",
              "                       [[ 3.9831e-02, -7.3888e-02,  8.6404e-04],\n",
              "                        [ 5.3167e-03,  3.7779e-02,  5.5199e-02],\n",
              "                        [ 5.8198e-02, -2.1092e-02, -5.2951e-02]],\n",
              "              \n",
              "                       [[ 1.2088e-01, -1.2819e-01, -4.3528e-02],\n",
              "                        [ 4.8685e-03, -9.5400e-02, -6.3170e-02],\n",
              "                        [ 1.2694e-01,  8.7575e-02, -2.6421e-02]],\n",
              "              \n",
              "                       [[ 1.1115e-01, -1.2781e-01,  9.6460e-03],\n",
              "                        [ 9.1567e-02,  3.2161e-02, -9.1690e-02],\n",
              "                        [ 1.0181e-01, -4.0482e-02, -3.1671e-02]],\n",
              "              \n",
              "                       [[ 4.9749e-03, -9.9753e-02, -1.3428e-01],\n",
              "                        [-7.7491e-02,  1.8409e-02,  1.6970e-02],\n",
              "                        [-1.1207e-01, -4.8695e-02, -5.7391e-02]],\n",
              "              \n",
              "                       [[-1.0781e-01,  2.1183e-02,  1.4564e-01],\n",
              "                        [ 2.5733e-02, -8.9355e-02,  2.9251e-02],\n",
              "                        [ 7.2943e-02,  5.4235e-02, -9.2621e-02]]],\n",
              "              \n",
              "              \n",
              "                      [[[-2.0651e-01, -2.8698e-02, -4.3784e-02],\n",
              "                        [-5.3499e-02, -7.6647e-02,  3.9056e-02],\n",
              "                        [ 1.0725e-01,  2.6405e-02,  2.0150e-01]],\n",
              "              \n",
              "                       [[ 9.6209e-02,  1.5802e-02,  2.2043e-02],\n",
              "                        [-4.9529e-03,  7.1497e-02, -9.3021e-02],\n",
              "                        [ 4.3057e-02, -1.4633e-02,  5.7910e-02]],\n",
              "              \n",
              "                       [[-6.9449e-04, -3.9189e-02, -1.1514e-02],\n",
              "                        [ 5.7292e-02, -7.3156e-02, -6.7055e-02],\n",
              "                        [-2.2991e-02, -3.8751e-02,  4.0983e-02]],\n",
              "              \n",
              "                       [[-1.0016e-02, -7.6512e-02, -6.2281e-02],\n",
              "                        [-1.0086e-01, -5.5218e-03, -2.1971e-01],\n",
              "                        [-2.1448e-01, -1.0123e-01, -2.7263e-01]],\n",
              "              \n",
              "                       [[-1.0018e-01,  1.6865e-02,  6.0306e-02],\n",
              "                        [ 9.7709e-02,  9.3145e-02, -1.8467e-03],\n",
              "                        [ 2.7856e-02, -4.8548e-02,  5.6108e-02]],\n",
              "              \n",
              "                       [[-8.0067e-02, -1.8304e-02,  6.2105e-02],\n",
              "                        [ 1.0475e-01,  2.2788e-02, -2.1491e-02],\n",
              "                        [ 1.5717e-01,  1.5482e-01,  1.6131e-01]],\n",
              "              \n",
              "                       [[ 4.7980e-03,  4.4607e-02, -5.7364e-02],\n",
              "                        [ 5.8403e-04,  3.0359e-01, -2.1787e-03],\n",
              "                        [-5.4185e-02,  1.3607e-01,  1.5116e-01]],\n",
              "              \n",
              "                       [[ 2.5010e-01,  5.4494e-02, -1.6283e-01],\n",
              "                        [ 1.4239e-01,  2.5726e-01,  2.6534e-02],\n",
              "                        [ 2.9423e-02,  2.9283e-01,  1.8610e-01]],\n",
              "              \n",
              "                       [[-8.6836e-02, -1.3769e-02, -7.4050e-02],\n",
              "                        [-6.8108e-02,  1.2032e-01, -8.6381e-02],\n",
              "                        [-6.0872e-02,  3.6659e-02, -7.7851e-02]],\n",
              "              \n",
              "                       [[ 6.6714e-02,  1.1089e-01,  2.4960e-01],\n",
              "                        [ 5.8471e-02,  1.4202e-01,  1.6045e-01],\n",
              "                        [ 2.6532e-02, -1.2321e-02,  2.8657e-02]]],\n",
              "              \n",
              "              \n",
              "                      [[[-9.6270e-02,  1.4597e-01,  1.9680e-01],\n",
              "                        [-1.5569e-01,  4.2715e-02,  3.9388e-02],\n",
              "                        [-4.1444e-02, -3.3007e-01, -4.9987e-01]],\n",
              "              \n",
              "                       [[-7.7600e-02,  1.0953e-02,  4.8123e-02],\n",
              "                        [ 9.4925e-02, -5.6194e-02, -1.7558e-02],\n",
              "                        [ 6.3391e-03,  1.2100e-02,  3.7881e-02]],\n",
              "              \n",
              "                       [[-3.0051e-03,  4.6038e-03,  1.4984e-02],\n",
              "                        [ 4.0469e-02, -3.3904e-02, -6.3277e-02],\n",
              "                        [ 2.5939e-02, -1.1951e-02, -4.6705e-02]],\n",
              "              \n",
              "                       [[ 4.7885e-02, -2.4184e-01, -6.9821e-01],\n",
              "                        [ 4.2369e-01,  1.9201e-01, -4.1163e-01],\n",
              "                        [ 2.5390e-02,  2.7689e-01,  2.6817e-01]],\n",
              "              \n",
              "                       [[-6.2061e-02, -3.3092e-02, -1.6949e-02],\n",
              "                        [ 7.3934e-02, -6.5735e-02,  2.8393e-02],\n",
              "                        [ 2.4455e-02, -4.4795e-02, -1.0010e-03]],\n",
              "              \n",
              "                       [[-1.6392e-01, -5.6510e-02,  8.6013e-02],\n",
              "                        [-7.7758e-02,  5.0632e-03, -8.0022e-02],\n",
              "                        [ 4.6540e-01,  1.9868e-01,  1.3990e-01]],\n",
              "              \n",
              "                       [[-1.1998e-01,  2.5699e-01, -4.1779e-01],\n",
              "                        [ 3.3007e-01,  4.1331e-01, -3.4837e-01],\n",
              "                        [-6.9809e-02,  5.1804e-02, -2.7459e-01]],\n",
              "              \n",
              "                       [[-1.3649e-01,  1.9306e-01, -2.5016e-01],\n",
              "                        [-2.6920e-02,  1.2864e-01, -8.1908e-02],\n",
              "                        [-2.3813e-01, -2.6198e-01, -2.9817e-02]],\n",
              "              \n",
              "                       [[ 9.5414e-02, -1.5432e-02, -3.6954e-01],\n",
              "                        [ 2.4991e-01,  2.0741e-01, -4.8363e-01],\n",
              "                        [ 1.1435e-01,  2.3324e-01,  1.1359e-01]],\n",
              "              \n",
              "                       [[-7.5478e-02, -1.9574e-01, -1.1626e-01],\n",
              "                        [ 9.8919e-02, -4.2431e-01, -1.5983e-01],\n",
              "                        [ 2.0489e-01, -2.7132e-01, -1.5204e-01]]],\n",
              "              \n",
              "              \n",
              "                      [[[-3.8029e-02,  2.9070e-01,  1.2760e-01],\n",
              "                        [-1.7929e-02, -1.6648e-01, -1.4275e-01],\n",
              "                        [ 9.8050e-02, -6.1067e-02,  2.9661e-02]],\n",
              "              \n",
              "                       [[-7.2682e-02,  2.2972e-03, -5.6401e-02],\n",
              "                        [ 4.2193e-02, -5.2237e-02,  6.4383e-02],\n",
              "                        [-8.1611e-02,  6.9336e-02, -7.1162e-02]],\n",
              "              \n",
              "                       [[ 5.4416e-02, -4.6768e-02,  1.7254e-04],\n",
              "                        [-2.1842e-02,  6.7910e-02,  3.6622e-02],\n",
              "                        [-9.3728e-02,  1.1441e-02, -6.8591e-02]],\n",
              "              \n",
              "                       [[ 5.0165e-02, -1.7382e-01, -5.1076e-01],\n",
              "                        [-2.5483e-01,  2.6784e-01,  9.1451e-02],\n",
              "                        [ 4.6389e-02,  3.5527e-01,  1.4384e-01]],\n",
              "              \n",
              "                       [[ 1.4596e-02, -1.4255e-01,  5.5907e-02],\n",
              "                        [-2.8223e-02, -4.7963e-02, -2.2159e-02],\n",
              "                        [ 5.8629e-02,  9.2462e-03, -3.4503e-02]],\n",
              "              \n",
              "                       [[ 2.1543e-01, -3.8328e-01, -2.3896e-01],\n",
              "                        [-4.7563e-02, -1.6278e-01, -3.1069e-01],\n",
              "                        [ 4.3137e-02,  1.9481e-02, -7.9549e-02]],\n",
              "              \n",
              "                       [[ 1.6004e-01, -8.8105e-02, -2.9313e-01],\n",
              "                        [-1.9129e-01,  5.6819e-02,  6.6211e-02],\n",
              "                        [-1.8023e-01,  1.6868e-01,  2.9228e-01]],\n",
              "              \n",
              "                       [[ 3.6214e-02, -4.0642e-02, -7.2005e-02],\n",
              "                        [-4.6468e-02, -7.9617e-02,  4.9515e-04],\n",
              "                        [-1.1663e-01,  2.3825e-02,  7.3070e-02]],\n",
              "              \n",
              "                       [[ 1.9002e-03, -1.2599e-01, -2.7491e-01],\n",
              "                        [-2.2999e-01,  9.4740e-02,  1.7541e-01],\n",
              "                        [ 5.8399e-02, -1.5837e-04,  1.5838e-01]],\n",
              "              \n",
              "                       [[ 3.1818e-01, -4.5256e-01,  1.4417e-01],\n",
              "                        [ 1.4744e-01, -1.4376e-01,  6.2450e-02],\n",
              "                        [-1.3232e-01,  5.1640e-02, -8.9047e-02]]],\n",
              "              \n",
              "              \n",
              "                      [[[-1.4271e-02, -1.2211e-01,  1.4737e-01],\n",
              "                        [ 1.2356e-01,  2.0468e-01,  2.8229e-01],\n",
              "                        [ 3.8957e-02, -2.8943e-02,  8.6195e-02]],\n",
              "              \n",
              "                       [[ 5.1796e-02,  1.8036e-02,  3.8210e-02],\n",
              "                        [-5.3799e-02,  4.3581e-02,  7.1759e-02],\n",
              "                        [ 4.2777e-02,  1.0774e-02,  1.0548e-01]],\n",
              "              \n",
              "                       [[-1.6046e-04,  2.2629e-02,  9.9605e-02],\n",
              "                        [ 1.0191e-01, -4.4107e-02,  9.4020e-02],\n",
              "                        [ 3.7134e-02, -1.2254e-02,  9.1884e-02]],\n",
              "              \n",
              "                       [[ 1.5649e-01,  3.1177e-01,  2.1143e-01],\n",
              "                        [-9.2911e-02, -5.3911e-01, -3.4611e-01],\n",
              "                        [ 2.7067e-01, -1.7132e-01,  4.6855e-03]],\n",
              "              \n",
              "                       [[ 4.6014e-02,  8.6973e-02,  2.1546e-02],\n",
              "                        [ 4.5605e-02,  3.1389e-02, -9.8270e-02],\n",
              "                        [-7.7770e-02, -4.9575e-03,  8.3571e-02]],\n",
              "              \n",
              "                       [[-9.8397e-02,  1.3611e-01,  2.0205e-02],\n",
              "                        [-2.2883e-02, -1.3141e-02,  8.8445e-02],\n",
              "                        [-3.9227e-02, -2.4132e-01, -4.8688e-02]],\n",
              "              \n",
              "                       [[ 6.3312e-02,  2.1224e-01,  7.9157e-02],\n",
              "                        [ 1.4097e-01, -4.0537e-01, -5.6810e-01],\n",
              "                        [ 1.9614e-01, -2.9583e-01, -3.4781e-01]],\n",
              "              \n",
              "                       [[-9.7529e-02,  4.7442e-02,  6.3274e-02],\n",
              "                        [-2.3084e-01, -2.9493e-01, -1.0939e-01],\n",
              "                        [-5.1202e-02, -2.0360e-01, -3.2476e-01]],\n",
              "              \n",
              "                       [[ 2.1749e-01,  2.0630e-01, -1.8853e-02],\n",
              "                        [ 4.7325e-02, -2.7995e-01, -3.0157e-01],\n",
              "                        [ 1.9629e-01, -2.0642e-01, -1.8433e-01]],\n",
              "              \n",
              "                       [[-1.0425e-01, -2.4688e-01,  9.1220e-02],\n",
              "                        [-1.7214e-01, -1.6280e-01,  2.7722e-02],\n",
              "                        [-2.1234e-01, -3.6944e-01,  9.0732e-02]]],\n",
              "              \n",
              "              \n",
              "                      [[[-1.3162e-01,  3.2304e-02, -5.5983e-03],\n",
              "                        [ 3.4859e-02,  6.8163e-02, -3.9713e-03],\n",
              "                        [ 1.3719e-01, -8.5425e-02, -5.5380e-02]],\n",
              "              \n",
              "                       [[ 7.6953e-02,  3.1476e-02, -1.4456e-02],\n",
              "                        [-2.4659e-02, -6.4655e-02,  6.4417e-02],\n",
              "                        [-3.6734e-03, -4.5006e-03,  2.5085e-02]],\n",
              "              \n",
              "                       [[ 7.7743e-02, -5.3532e-02, -3.6289e-02],\n",
              "                        [ 7.1946e-02,  5.9791e-02, -5.1809e-02],\n",
              "                        [-1.0423e-01,  1.9584e-02,  5.5512e-02]],\n",
              "              \n",
              "                       [[ 1.4599e-02,  4.1032e-02, -1.1909e-01],\n",
              "                        [ 2.0633e-02, -8.1905e-02,  3.7198e-02],\n",
              "                        [ 5.3362e-03,  3.7573e-02,  1.8967e-01]],\n",
              "              \n",
              "                       [[-6.9312e-02, -9.4752e-02, -1.0196e-01],\n",
              "                        [ 6.2477e-02,  3.4752e-02, -7.6986e-02],\n",
              "                        [ 4.5561e-02,  9.1937e-02, -1.0267e-01]],\n",
              "              \n",
              "                       [[ 8.8718e-02,  2.3895e-02,  1.7493e-03],\n",
              "                        [ 1.4653e-01,  1.1531e-01,  4.7805e-02],\n",
              "                        [ 1.3772e-01,  9.1699e-02,  5.8961e-02]],\n",
              "              \n",
              "                       [[-9.7357e-02, -1.1113e-02, -1.1764e-01],\n",
              "                        [ 1.0223e-02, -1.1104e-02, -1.9639e-03],\n",
              "                        [-1.2311e-01, -1.1118e-01,  8.6450e-02]],\n",
              "              \n",
              "                       [[ 3.4151e-02,  2.8111e-02, -5.8071e-02],\n",
              "                        [-3.5990e-02, -3.4542e-02,  4.4914e-02],\n",
              "                        [-6.6622e-02,  5.6834e-02,  5.8672e-02]],\n",
              "              \n",
              "                       [[-8.6514e-02, -8.1910e-03, -3.0003e-02],\n",
              "                        [-6.7964e-02,  8.0981e-03, -5.3029e-02],\n",
              "                        [ 5.5818e-02, -7.1469e-02,  8.3168e-02]],\n",
              "              \n",
              "                       [[-1.3831e-01, -1.0362e-01, -3.6084e-02],\n",
              "                        [ 4.5225e-02,  7.0761e-02, -1.3167e-01],\n",
              "                        [ 1.3107e-02,  1.2396e-02,  2.5921e-02]]]], device='cuda:0')),\n",
              "             ('conv_block_2.0.bias',\n",
              "              tensor([-0.1320,  0.0691, -0.0482, -0.1088, -0.0403, -0.0895,  0.2077,  0.4011,\n",
              "                       0.7446, -0.0869], device='cuda:0')),\n",
              "             ('conv_block_2.2.weight',\n",
              "              tensor([[[[ 9.4409e-03, -7.5310e-02, -6.1111e-02],\n",
              "                        [ 1.5912e-02, -5.2637e-02, -7.3893e-02],\n",
              "                        [-8.9669e-02, -2.1599e-01,  3.5221e-01]],\n",
              "              \n",
              "                       [[ 1.0608e-01, -3.5649e-01, -2.5346e-02],\n",
              "                        [-9.2502e-02, -1.3810e-02, -3.0621e-01],\n",
              "                        [ 3.0176e-01,  1.2992e-01, -8.2839e-01]],\n",
              "              \n",
              "                       [[-1.6877e-02, -1.5686e-03,  8.4535e-02],\n",
              "                        [-1.4781e-01,  6.7712e-02,  1.8225e-02],\n",
              "                        [-4.2688e-02,  8.5303e-02, -9.2735e-02]],\n",
              "              \n",
              "                       [[-8.9040e-02,  1.1325e-01, -5.5049e-02],\n",
              "                        [-4.6221e-02, -1.9564e-03, -2.7141e-02],\n",
              "                        [ 6.0690e-03, -4.1376e-02,  3.4617e-02]],\n",
              "              \n",
              "                       [[-8.1201e-02,  1.3569e-02,  9.3499e-02],\n",
              "                        [-2.2717e-02, -2.2368e-02,  6.1169e-04],\n",
              "                        [-5.1530e-02, -4.4026e-02, -1.5459e-01]],\n",
              "              \n",
              "                       [[-1.6752e-01, -1.3504e-01,  6.3265e-02],\n",
              "                        [-5.6643e-02, -4.8894e-03,  7.8628e-02],\n",
              "                        [-5.4354e-02,  5.3553e-02,  3.2303e-02]],\n",
              "              \n",
              "                       [[-3.6025e-01, -1.4050e-01, -6.6156e-01],\n",
              "                        [-2.5821e-01,  1.2001e-01,  3.1570e-01],\n",
              "                        [-3.2943e-01,  1.7418e-01,  4.7828e-01]],\n",
              "              \n",
              "                       [[ 3.1106e-01,  4.2894e-02, -2.2972e-01],\n",
              "                        [ 1.8687e-01, -5.8201e-03, -1.2227e-01],\n",
              "                        [ 1.6351e-01, -2.9150e-01, -1.7328e-02]],\n",
              "              \n",
              "                       [[ 3.8080e-01,  4.7563e-03,  1.0155e-01],\n",
              "                        [-1.2917e-01, -3.6812e-01,  1.1950e-01],\n",
              "                        [-3.9914e-01, -3.5147e-01, -8.8884e-02]],\n",
              "              \n",
              "                       [[-8.4651e-02,  3.5511e-02, -6.3196e-02],\n",
              "                        [ 1.8005e-02, -8.2272e-02, -3.2931e-02],\n",
              "                        [ 4.0923e-02, -4.7337e-02, -4.6045e-02]]],\n",
              "              \n",
              "              \n",
              "                      [[[ 1.1172e-02,  1.4888e-02, -1.2445e-01],\n",
              "                        [-1.7512e-01,  7.3530e-02, -1.0259e-01],\n",
              "                        [ 1.9341e-01, -3.2651e-02,  5.8508e-02]],\n",
              "              \n",
              "                       [[ 2.4696e-02,  1.3086e-01, -2.6789e-01],\n",
              "                        [ 1.9245e-02, -2.1407e-01,  3.6689e-01],\n",
              "                        [-1.9279e-01, -9.2234e-01,  2.6603e-01]],\n",
              "              \n",
              "                       [[-2.0521e-02, -6.8754e-02,  7.9267e-02],\n",
              "                        [ 3.2340e-02, -1.4294e-01, -2.9128e-02],\n",
              "                        [-7.0167e-02, -1.5219e-01, -2.0386e-02]],\n",
              "              \n",
              "                       [[-6.0285e-02,  8.4121e-02,  9.7431e-02],\n",
              "                        [-4.3507e-04, -7.9671e-02, -7.4825e-02],\n",
              "                        [-4.4791e-02,  2.4192e-02, -4.1815e-03]],\n",
              "              \n",
              "                       [[ 1.4772e-03,  2.6632e-02, -3.1693e-03],\n",
              "                        [-7.2335e-03, -7.8605e-02,  8.9348e-03],\n",
              "                        [ 3.4988e-02, -1.2696e-01, -1.1085e-01]],\n",
              "              \n",
              "                       [[-3.2858e-02,  3.0059e-02,  2.0948e-02],\n",
              "                        [ 6.3150e-02, -9.8252e-02,  3.7308e-02],\n",
              "                        [ 4.5311e-01,  2.0671e-01, -2.5343e-03]],\n",
              "              \n",
              "                       [[-1.0619e-01, -5.0410e-02,  2.5970e-01],\n",
              "                        [-1.4323e-01,  3.4711e-02,  1.6534e-01],\n",
              "                        [ 8.8595e-02,  1.3008e-01, -8.4511e-02]],\n",
              "              \n",
              "                       [[-4.3629e-02, -9.8860e-02,  4.8340e-02],\n",
              "                        [ 2.3571e-02, -4.1744e-01,  7.1625e-02],\n",
              "                        [ 9.6069e-02, -4.2541e-01,  2.4807e-01]],\n",
              "              \n",
              "                       [[-2.6126e-01, -2.4483e-01, -2.7944e-01],\n",
              "                        [ 1.4418e-01,  1.1159e-01, -5.0100e-01],\n",
              "                        [ 2.4180e-01,  1.3163e-01, -2.0606e-01]],\n",
              "              \n",
              "                       [[-2.1044e-02,  1.0725e-01,  1.4661e-01],\n",
              "                        [-8.3897e-02, -5.0695e-02,  8.3545e-02],\n",
              "                        [-7.0663e-03, -2.6886e-02, -8.9659e-02]]],\n",
              "              \n",
              "              \n",
              "                      [[[-7.6127e-02, -1.4035e-01,  4.5139e-02],\n",
              "                        [-7.6445e-02,  1.5158e-01, -2.2703e-01],\n",
              "                        [-5.2671e-02,  2.1658e-01, -2.6339e-02]],\n",
              "              \n",
              "                       [[-4.4512e-01, -1.9691e-01, -4.8716e-01],\n",
              "                        [-3.5548e-01,  4.8177e-01, -3.1348e-01],\n",
              "                        [-3.3871e-01,  1.9676e-01,  3.8965e-01]],\n",
              "              \n",
              "                       [[-5.7624e-02, -4.9360e-02, -5.5722e-03],\n",
              "                        [-3.6055e-02,  8.0214e-03,  6.6777e-02],\n",
              "                        [-2.2000e-02, -9.7809e-02,  6.9828e-02]],\n",
              "              \n",
              "                       [[-8.2813e-02,  8.7022e-02,  3.3076e-02],\n",
              "                        [ 2.9106e-02, -6.6036e-03, -9.8135e-02],\n",
              "                        [ 8.9711e-02, -2.3228e-02,  4.1325e-02]],\n",
              "              \n",
              "                       [[ 8.3232e-02, -1.0069e-01, -5.2090e-02],\n",
              "                        [-2.6928e-02,  5.8749e-02, -8.2118e-02],\n",
              "                        [ 9.3146e-02,  4.6164e-02,  1.0315e-01]],\n",
              "              \n",
              "                       [[ 1.8737e-01, -3.8651e-02, -3.0244e-01],\n",
              "                        [ 2.2129e-01, -8.7536e-03, -2.4611e-01],\n",
              "                        [ 2.4178e-01,  1.5701e-01, -3.0225e-01]],\n",
              "              \n",
              "                       [[-7.6313e-01, -2.0572e-01,  2.6744e-01],\n",
              "                        [-5.3648e-01,  3.2653e-02,  1.4954e-02],\n",
              "                        [-2.2980e-01,  2.7961e-01,  1.6036e-01]],\n",
              "              \n",
              "                       [[ 9.9966e-02,  4.2904e-01,  6.2870e-02],\n",
              "                        [-2.5348e-01,  2.0201e-01, -1.0575e-01],\n",
              "                        [-1.2278e-01, -2.8112e-01,  3.6220e-02]],\n",
              "              \n",
              "                       [[-8.6099e-02, -2.0515e-01,  1.6496e-01],\n",
              "                        [-5.8791e-03, -2.2573e-01,  1.0063e-02],\n",
              "                        [-3.9403e-02, -1.9056e-01, -1.7227e-01]],\n",
              "              \n",
              "                       [[ 9.4047e-02, -1.2994e-02, -1.2430e-01],\n",
              "                        [-4.0394e-02, -4.2507e-02, -6.0812e-02],\n",
              "                        [ 3.1160e-02, -1.1504e-01, -8.7619e-02]]],\n",
              "              \n",
              "              \n",
              "                      [[[-1.6246e-01, -2.7541e-02, -9.5338e-02],\n",
              "                        [-8.9254e-02,  1.1256e-02, -2.1105e-01],\n",
              "                        [-6.0571e-02, -4.0545e-02, -4.0357e-02]],\n",
              "              \n",
              "                       [[ 2.3572e-01, -4.8911e-02, -4.2630e-01],\n",
              "                        [-2.9165e-03, -2.7771e-01, -2.6464e-02],\n",
              "                        [-5.4416e-02, -3.6628e-01,  3.4647e-01]],\n",
              "              \n",
              "                       [[ 3.8821e-02, -5.7737e-02,  2.6938e-02],\n",
              "                        [ 2.0667e-02, -4.3329e-02,  1.2774e-01],\n",
              "                        [-9.3382e-02,  2.8339e-02, -5.4602e-02]],\n",
              "              \n",
              "                       [[-1.0479e-01, -2.3005e-02,  3.8130e-02],\n",
              "                        [ 7.3241e-02,  2.3700e-02, -2.2188e-02],\n",
              "                        [-6.8036e-03, -4.4076e-02, -1.8572e-02]],\n",
              "              \n",
              "                       [[ 3.0866e-02,  6.0473e-02,  3.5629e-02],\n",
              "                        [-3.0716e-02, -3.8873e-02, -1.0938e-01],\n",
              "                        [ 1.8744e-02, -1.4622e-01,  9.6157e-03]],\n",
              "              \n",
              "                       [[-1.6458e-01,  1.4675e-01,  1.0650e-01],\n",
              "                        [-1.6826e-01, -1.0848e-01,  2.3545e-02],\n",
              "                        [-1.0790e-01,  2.5459e-03, -6.2148e-02]],\n",
              "              \n",
              "                       [[-1.0674e-01,  4.2213e-03, -1.5407e-01],\n",
              "                        [-1.7511e-01, -4.2201e-02, -1.5953e-01],\n",
              "                        [-1.1904e-01, -1.8881e-01, -1.0862e-01]],\n",
              "              \n",
              "                       [[-1.6499e-01,  8.8204e-03,  1.4242e-01],\n",
              "                        [-1.4611e-01,  9.4720e-03,  1.2160e-01],\n",
              "                        [-8.8238e-02,  1.5965e-02, -1.0696e-01]],\n",
              "              \n",
              "                       [[ 2.7032e-01,  1.6769e-01, -8.7594e-03],\n",
              "                        [ 1.4149e-01, -3.4069e-02, -4.9309e-01],\n",
              "                        [ 3.5770e-01,  4.4466e-02, -3.0573e-01]],\n",
              "              \n",
              "                       [[ 6.3502e-02,  4.7741e-02,  4.7162e-02],\n",
              "                        [ 2.3384e-02, -1.2468e-01, -1.3715e-01],\n",
              "                        [-9.2577e-02,  1.6268e-02, -1.0433e-01]]],\n",
              "              \n",
              "              \n",
              "                      [[[ 7.9372e-02, -4.5031e-02, -7.5028e-02],\n",
              "                        [-5.0284e-03, -8.6601e-02, -9.2859e-02],\n",
              "                        [ 8.9696e-02, -1.4525e-02,  4.9750e-02]],\n",
              "              \n",
              "                       [[ 5.4514e-01,  5.1042e-01,  1.7808e-01],\n",
              "                        [-2.9118e-01, -4.2332e-01, -1.9508e-01],\n",
              "                        [-2.4475e-01, -6.9261e-02, -4.6143e-02]],\n",
              "              \n",
              "                       [[-1.3467e-01, -1.1988e-01, -1.9914e-02],\n",
              "                        [-5.8304e-02, -7.2746e-02, -5.3413e-02],\n",
              "                        [-1.0164e-02, -7.6200e-02, -3.0860e-02]],\n",
              "              \n",
              "                       [[-6.9210e-02, -2.0829e-02,  1.3615e-01],\n",
              "                        [ 4.2065e-02, -1.3583e-02,  1.1040e-02],\n",
              "                        [ 3.7874e-02, -7.4473e-04, -8.7501e-02]],\n",
              "              \n",
              "                       [[-4.8898e-02, -4.3228e-02, -1.9232e-02],\n",
              "                        [-9.7509e-02, -9.2747e-03, -7.6798e-02],\n",
              "                        [ 1.2623e-01,  8.8393e-02,  3.7968e-02]],\n",
              "              \n",
              "                       [[ 6.2910e-02, -1.6798e-01, -1.6036e-03],\n",
              "                        [-6.6334e-02, -7.8634e-02, -1.2663e-01],\n",
              "                        [-3.1763e-02,  9.6079e-03,  6.8873e-02]],\n",
              "              \n",
              "                       [[ 1.6522e-01, -1.4518e-01,  1.6892e-01],\n",
              "                        [-1.4525e-01, -8.1484e-02, -5.0896e-02],\n",
              "                        [ 6.0664e-02,  1.0233e-01, -1.5215e-01]],\n",
              "              \n",
              "                       [[-1.5398e-01, -7.7191e-02, -2.9229e-02],\n",
              "                        [-1.5699e-01, -5.0300e-02, -3.7777e-02],\n",
              "                        [-1.2133e-02,  1.2430e-01,  1.8475e-01]],\n",
              "              \n",
              "                       [[-8.2118e-02,  6.2459e-02, -2.3198e-02],\n",
              "                        [ 2.0026e-02,  3.9513e-02, -7.5630e-03],\n",
              "                        [ 2.3187e-02,  7.7267e-03, -2.0553e-01]],\n",
              "              \n",
              "                       [[-7.9730e-02,  4.8663e-03, -3.6256e-02],\n",
              "                        [ 9.6985e-02,  9.8946e-02,  2.8602e-02],\n",
              "                        [ 9.4619e-02, -6.1921e-02,  1.0280e-01]]],\n",
              "              \n",
              "              \n",
              "                      [[[ 1.8312e-01, -2.1759e-01, -3.5849e-01],\n",
              "                        [ 7.2420e-03, -1.5775e-01, -1.6593e-02],\n",
              "                        [-1.2456e-01, -3.6690e-02, -2.0304e-02]],\n",
              "              \n",
              "                       [[-5.2317e-01, -3.4766e-01,  2.2584e-01],\n",
              "                        [-4.1384e-01, -3.4885e-01, -3.3397e-01],\n",
              "                        [ 3.5284e-01,  5.4792e-01, -4.8996e-02]],\n",
              "              \n",
              "                       [[ 3.8738e-02, -3.7536e-02, -6.6255e-02],\n",
              "                        [ 1.0163e-02, -2.5213e-02, -1.0429e-01],\n",
              "                        [-3.8396e-02, -3.5809e-02,  8.1101e-02]],\n",
              "              \n",
              "                       [[ 5.1818e-02, -4.6582e-02, -7.0466e-02],\n",
              "                        [-1.0304e-01, -7.5669e-02, -5.0844e-02],\n",
              "                        [ 6.5522e-02,  3.9796e-02, -1.3169e-02]],\n",
              "              \n",
              "                       [[-6.1046e-02, -8.4219e-02, -1.1734e-01],\n",
              "                        [-1.0878e-01, -6.0411e-02,  3.2400e-02],\n",
              "                        [ 3.8577e-02, -1.8278e-02, -5.7856e-02]],\n",
              "              \n",
              "                       [[ 1.3939e-01, -1.2948e-01,  1.7172e-03],\n",
              "                        [-3.7943e-02,  1.0265e-01, -1.5831e-01],\n",
              "                        [ 5.7499e-03, -8.3030e-02,  3.5884e-02]],\n",
              "              \n",
              "                       [[ 3.5925e-01,  4.9631e-01, -1.7856e-01],\n",
              "                        [-3.7696e-01, -9.1117e-02, -9.1022e-02],\n",
              "                        [-2.3217e-02, -4.8092e-01, -2.4416e-03]],\n",
              "              \n",
              "                       [[-1.0115e-02, -6.4951e-02, -9.4416e-02],\n",
              "                        [-1.3558e-01,  3.2648e-01, -7.1476e-03],\n",
              "                        [-2.5172e-01, -1.1920e-01,  2.2212e-01]],\n",
              "              \n",
              "                       [[-1.0653e-01, -1.4560e-01,  3.9463e-01],\n",
              "                        [-9.7730e-02, -2.7292e-01, -1.4515e-01],\n",
              "                        [ 2.7592e-01,  1.2578e-01, -1.7394e-01]],\n",
              "              \n",
              "                       [[ 1.1496e-01,  8.8039e-02, -3.5938e-02],\n",
              "                        [-3.9374e-02, -3.4413e-02,  6.7868e-02],\n",
              "                        [ 6.5660e-02,  5.7628e-02, -7.5824e-02]]],\n",
              "              \n",
              "              \n",
              "                      [[[ 8.5193e-02, -5.9601e-02, -2.0944e-03],\n",
              "                        [-2.1654e-01, -3.6712e-01, -2.6354e-01],\n",
              "                        [ 1.9834e-01,  9.8334e-02,  2.0744e-01]],\n",
              "              \n",
              "                       [[ 1.3713e-01,  2.4105e-01,  2.1672e-01],\n",
              "                        [-1.8289e-01, -2.4161e-01, -4.7640e-01],\n",
              "                        [-2.7306e-01, -2.6798e-01,  2.1976e-02]],\n",
              "              \n",
              "                       [[-1.1915e-02, -7.9246e-02, -1.4697e-02],\n",
              "                        [-4.3998e-02,  5.1791e-02, -5.4822e-02],\n",
              "                        [-4.3203e-02, -9.9256e-02, -3.7033e-02]],\n",
              "              \n",
              "                       [[ 6.0219e-02,  5.9654e-02,  1.2836e-02],\n",
              "                        [-3.5817e-02,  1.0147e-01,  1.6497e-02],\n",
              "                        [-4.4303e-02, -4.4240e-02, -2.5775e-02]],\n",
              "              \n",
              "                       [[ 4.0539e-02,  4.3619e-02,  6.7866e-02],\n",
              "                        [-2.0510e-02,  9.2336e-02, -1.0480e-01],\n",
              "                        [-7.6638e-02, -8.3994e-02, -5.6099e-02]],\n",
              "              \n",
              "                       [[ 5.1571e-03, -9.6073e-02,  8.1356e-02],\n",
              "                        [ 5.1848e-02, -6.6097e-03, -4.3429e-02],\n",
              "                        [-1.4391e-02,  9.5451e-02, -4.1410e-02]],\n",
              "              \n",
              "                       [[ 5.0359e-02, -3.6355e-01,  7.8045e-02],\n",
              "                        [ 2.3198e-01,  2.5435e-01, -2.5033e-01],\n",
              "                        [-7.5698e-02,  1.3329e-01, -3.6778e-01]],\n",
              "              \n",
              "                       [[-2.5890e-01, -3.2957e-01, -2.0950e-01],\n",
              "                        [-2.4038e-01, -3.3794e-01,  2.3606e-01],\n",
              "                        [ 6.8892e-01,  4.4879e-01, -1.2510e-01]],\n",
              "              \n",
              "                       [[ 2.2610e-01,  2.5796e-01,  1.1397e-01],\n",
              "                        [-9.3289e-02,  1.8379e-01,  9.3437e-02],\n",
              "                        [-4.0782e-01, -7.9374e-01,  1.8201e-02]],\n",
              "              \n",
              "                       [[ 5.9366e-02, -8.3675e-02,  4.6616e-02],\n",
              "                        [ 1.9896e-02, -6.0296e-02, -3.2490e-02],\n",
              "                        [-1.6004e-02, -1.1825e-01,  6.1430e-02]]],\n",
              "              \n",
              "              \n",
              "                      [[[ 8.7045e-02, -1.9386e-02,  9.1762e-02],\n",
              "                        [-3.6155e-02,  1.4075e-02, -8.9014e-02],\n",
              "                        [-7.6893e-03,  3.1496e-02,  1.9594e-02]],\n",
              "              \n",
              "                       [[-1.8821e-01, -2.1747e-01, -1.1355e-01],\n",
              "                        [ 2.6402e-02, -2.2950e-04, -1.0834e-01],\n",
              "                        [ 6.6164e-03,  1.7884e-02,  5.8178e-02]],\n",
              "              \n",
              "                       [[ 8.6826e-03,  3.7942e-03, -5.0735e-03],\n",
              "                        [ 6.7724e-02,  9.2763e-03,  9.1048e-02],\n",
              "                        [ 6.3206e-02, -7.2870e-02, -1.0165e-03]],\n",
              "              \n",
              "                       [[-8.8388e-02, -8.2053e-02,  2.0045e-02],\n",
              "                        [ 2.5094e-02, -1.0232e-02,  9.9354e-02],\n",
              "                        [-5.3878e-02, -4.6479e-02, -1.6876e-02]],\n",
              "              \n",
              "                       [[-8.9416e-05, -9.0768e-03,  9.3451e-02],\n",
              "                        [-4.5342e-02, -5.5250e-02,  7.8774e-03],\n",
              "                        [ 7.8351e-02,  2.4872e-02,  5.6131e-02]],\n",
              "              \n",
              "                       [[-2.5108e-02,  3.3456e-02,  9.8529e-03],\n",
              "                        [ 6.3762e-02, -4.3440e-02, -1.1956e-01],\n",
              "                        [-3.2762e-02,  3.7479e-02,  6.5588e-02]],\n",
              "              \n",
              "                       [[-1.4322e-01,  1.4310e-02, -4.4857e-03],\n",
              "                        [-9.3763e-02, -4.2885e-02, -9.5915e-03],\n",
              "                        [ 1.5516e-03, -5.4898e-02,  4.9272e-02]],\n",
              "              \n",
              "                       [[-9.9599e-02, -6.4001e-02, -7.0945e-03],\n",
              "                        [ 7.6500e-02,  4.1967e-02, -4.0459e-03],\n",
              "                        [-1.4853e-01, -4.9505e-02, -1.4495e-01]],\n",
              "              \n",
              "                       [[-1.6662e-01, -5.9842e-02, -1.4053e-01],\n",
              "                        [ 4.6932e-03, -1.3077e-01, -4.6348e-02],\n",
              "                        [-2.6414e-02, -1.4541e-01, -1.8173e-02]],\n",
              "              \n",
              "                       [[-6.9815e-03,  6.7622e-02,  1.0729e-01],\n",
              "                        [-6.0267e-02, -5.3980e-02,  6.9216e-02],\n",
              "                        [-1.8075e-02, -3.4640e-02,  5.2123e-02]]],\n",
              "              \n",
              "              \n",
              "                      [[[-4.0137e-01, -1.1785e-01,  3.5634e-02],\n",
              "                        [-1.8117e-01, -1.6094e-01, -8.3685e-02],\n",
              "                        [-1.3306e-01, -6.0562e-02,  6.4573e-03]],\n",
              "              \n",
              "                       [[ 1.4956e-01, -4.9394e-01, -5.7555e-02],\n",
              "                        [ 2.6876e-01, -1.6770e-01, -1.6416e-01],\n",
              "                        [-2.5453e-01, -2.0604e-01, -3.9936e-01]],\n",
              "              \n",
              "                       [[-3.6102e-03, -3.4054e-02, -1.0170e-01],\n",
              "                        [-4.6919e-02, -1.0313e-01, -8.2848e-02],\n",
              "                        [-8.2819e-03, -1.0765e-01, -1.1658e-01]],\n",
              "              \n",
              "                       [[ 9.7297e-02,  1.6223e-02, -3.0823e-02],\n",
              "                        [ 1.0019e-02,  7.7886e-02, -8.9265e-02],\n",
              "                        [-3.9615e-02, -7.7404e-02, -1.1741e-02]],\n",
              "              \n",
              "                       [[ 1.3055e-01, -2.3941e-01,  1.4791e-01],\n",
              "                        [ 7.3510e-02,  1.3202e-01, -6.6251e-03],\n",
              "                        [ 7.6995e-02,  9.5008e-02, -4.1802e-02]],\n",
              "              \n",
              "                       [[ 4.5774e-02, -1.2636e-01,  3.8543e-02],\n",
              "                        [-1.1755e-01, -8.1395e-02,  1.2278e-01],\n",
              "                        [ 2.4194e-01, -1.2498e-01, -1.1396e-01]],\n",
              "              \n",
              "                       [[-2.7604e-01, -4.5913e-01,  1.3438e-01],\n",
              "                        [-1.7900e-01, -4.1717e-01, -3.7625e-01],\n",
              "                        [ 1.0075e-01,  1.5241e-01, -2.1965e-01]],\n",
              "              \n",
              "                       [[-1.6087e-01, -3.0580e-01, -1.4220e-01],\n",
              "                        [-1.1240e-01, -4.8094e-01,  1.8935e-02],\n",
              "                        [ 3.7971e-01, -1.0145e-01,  8.3983e-02]],\n",
              "              \n",
              "                       [[ 1.8813e-01, -5.0499e-02,  2.4009e-01],\n",
              "                        [ 2.7333e-01,  3.0745e-01,  2.5169e-01],\n",
              "                        [-1.5498e-01,  6.6562e-02,  2.6122e-01]],\n",
              "              \n",
              "                       [[ 7.4333e-02,  7.0801e-02, -7.2957e-02],\n",
              "                        [-1.7074e-02, -9.8016e-02, -5.1531e-03],\n",
              "                        [-1.0115e-01, -2.0094e-02, -6.7265e-02]]],\n",
              "              \n",
              "              \n",
              "                      [[[-8.9702e-02, -1.3850e-02, -5.0173e-02],\n",
              "                        [-1.1831e-01, -3.7685e-02, -1.0728e-01],\n",
              "                        [ 1.9363e-01,  1.1901e-01,  8.0498e-02]],\n",
              "              \n",
              "                       [[-1.7995e-01, -1.2962e-01, -1.9215e-01],\n",
              "                        [-2.4055e-01, -2.0350e-01, -1.3209e-02],\n",
              "                        [-3.3983e-01,  2.0772e-03,  3.3616e-01]],\n",
              "              \n",
              "                       [[-7.6338e-02,  3.5065e-02,  7.6397e-02],\n",
              "                        [ 2.0377e-02,  7.3390e-02,  3.8651e-02],\n",
              "                        [ 4.7984e-02, -5.4196e-02,  2.4219e-02]],\n",
              "              \n",
              "                       [[ 2.3200e-02,  6.0956e-02, -2.1389e-02],\n",
              "                        [ 7.9641e-02,  9.5215e-02, -7.1649e-02],\n",
              "                        [ 7.8854e-02, -6.0736e-02, -6.4292e-02]],\n",
              "              \n",
              "                       [[-6.4976e-02, -6.0391e-03, -9.4534e-02],\n",
              "                        [-6.3738e-02, -8.0130e-02,  1.0881e-02],\n",
              "                        [-1.7089e-01, -8.2516e-02, -2.6945e-02]],\n",
              "              \n",
              "                       [[-4.5061e-02, -4.2028e-02,  7.1469e-02],\n",
              "                        [-1.3862e-01, -1.4142e-01, -3.5766e-03],\n",
              "                        [-1.3433e-01, -1.6108e-02, -5.6358e-02]],\n",
              "              \n",
              "                       [[ 1.1515e-01, -7.0914e-02, -3.6824e-01],\n",
              "                        [ 3.2720e-01, -1.8655e-01, -3.6389e-01],\n",
              "                        [ 1.1108e-01, -1.9511e-01, -2.8470e-01]],\n",
              "              \n",
              "                       [[-2.9478e-01,  2.1825e-01,  1.2177e-01],\n",
              "                        [ 6.2556e-05,  3.1959e-01,  4.5749e-02],\n",
              "                        [ 1.8591e-01,  3.8436e-01,  1.3575e-01]],\n",
              "              \n",
              "                       [[ 3.0626e-01, -2.7138e-02, -4.5682e-01],\n",
              "                        [-7.1448e-02, -1.6148e-01, -2.6740e-01],\n",
              "                        [-5.9991e-02, -3.6944e-01, -1.5612e-01]],\n",
              "              \n",
              "                       [[-9.1400e-02, -9.7002e-02,  3.4438e-02],\n",
              "                        [-6.6698e-02, -4.5811e-02,  6.5474e-02],\n",
              "                        [-8.7700e-02, -5.1013e-02,  5.7620e-02]]]], device='cuda:0')),\n",
              "             ('conv_block_2.2.bias',\n",
              "              tensor([ 0.1936, -0.2697,  0.3521,  0.0531,  0.0249,  0.2237,  0.1420, -0.0934,\n",
              "                      -0.0428, -0.0358], device='cuda:0')),\n",
              "             ('classifier.1.weight',\n",
              "              tensor([[ 0.0133, -0.1191,  0.1154,  ...,  0.0145, -0.0139, -0.0111],\n",
              "                      [ 0.0068,  0.1236,  0.0187,  ..., -0.0276,  0.0363,  0.0405],\n",
              "                      [-0.0302,  0.1304,  0.0756,  ...,  0.0322, -0.0306,  0.0697],\n",
              "                      ...,\n",
              "                      [-0.0590, -0.0884, -0.0971,  ...,  0.0236, -0.0022, -0.0081],\n",
              "                      [ 0.0947,  0.2835,  0.1307,  ...,  0.0027,  0.0369, -0.0143],\n",
              "                      [-0.0539, -0.1050, -0.0784,  ..., -0.0119, -0.0336,  0.0213]],\n",
              "                     device='cuda:0')),\n",
              "             ('classifier.1.bias',\n",
              "              tensor([ 0.0412, -0.1687,  0.4336, -0.0280, -0.3809, -0.1598,  0.2012, -0.0174,\n",
              "                       0.1771, -0.1353], device='cuda:0'))])"
            ]
          },
          "metadata": {},
          "execution_count": 252
        }
      ],
      "source": [
        "# what we're trying to optimizer is... (weights of the kernels + biases)\n",
        "model_2.state_dict()"
      ]
    },
    {
      "cell_type": "markdown",
      "id": "fe42f488-b139-47d7-8931-5fe409ed64bd",
      "metadata": {
        "id": "fe42f488-b139-47d7-8931-5fe409ed64bd"
      },
      "source": [
        "### 6.4 Training and testing model_2 using our training and testing functions"
      ]
    },
    {
      "cell_type": "code",
      "execution_count": 223,
      "id": "980ec2ee-1a70-439c-af45-1330638489f3",
      "metadata": {
        "id": "980ec2ee-1a70-439c-af45-1330638489f3",
        "colab": {
          "base_uri": "https://localhost:8080/"
        },
        "outputId": "8da89d7e-eddf-4d97-b7aa-ec5c71103793"
      },
      "outputs": [
        {
          "output_type": "stream",
          "name": "stdout",
          "text": [
            "Epoch: 0\n",
            "-------\n",
            "\n",
            "Train loss: 0.5970 | Train acc: 78.35%\n",
            "\n",
            "Test loss: 0.3991 | Test acc: 85.51%\n",
            "\n",
            "Epoch: 1\n",
            "-------\n",
            "\n",
            "Train loss: 0.3614 | Train acc: 87.03%\n",
            "\n",
            "Test loss: 0.3526 | Test acc: 86.87%\n",
            "\n",
            "Epoch: 2\n",
            "-------\n",
            "\n",
            "Train loss: 0.3247 | Train acc: 88.19%\n",
            "\n",
            "Test loss: 0.3249 | Test acc: 88.24%\n",
            "\n",
            "Train time on cuda: 37.475 seconds\n"
          ]
        }
      ],
      "source": [
        "# Now, using the functions for training/testing you created earlier but this time with model_2\n",
        "# make sure you comment the print statements inside the forward pass!!\n",
        "\n",
        "torch.manual_seed(42)\n",
        "\n",
        "# Measure time\n",
        "from timeit import default_timer as timer\n",
        "train_time_start_model_2 = timer()\n",
        "\n",
        "# Train and test model\n",
        "epoch = 3\n",
        "for epoch in range(epochs):\n",
        "    print(f\"Epoch: {epoch}\\n-------\")\n",
        "    train_step(model=model_2,\n",
        "              data_loader= train_dataloader,\n",
        "              loss_fn=loss_fn,\n",
        "               optimizer=optimizer,\n",
        "               accuracy_fn=accuracy_fn,\n",
        "               device=device)\n",
        "    test_step(model=model_2,\n",
        "             data_loader=test_dataloader,\n",
        "             loss_fn=loss_fn,\n",
        "             accuracy_fn=accuracy_fn,\n",
        "             device=device)\n",
        "\n",
        "train_time_end_model_2 = timer()\n",
        "total_train_time_model_2 = print_train_time(start = train_time_start_model_2,\n",
        "                                           end = train_time_end_model_2,\n",
        "                                            device = device)\n"
      ]
    },
    {
      "cell_type": "code",
      "execution_count": 224,
      "id": "555288b0-40eb-4640-9bd3-f0151d9f7aca",
      "metadata": {
        "id": "555288b0-40eb-4640-9bd3-f0151d9f7aca",
        "colab": {
          "base_uri": "https://localhost:8080/",
          "height": 102,
          "referenced_widgets": [
            "9609ed8ca9ae4b12ba42ac771701c6ae",
            "fcca7e4b95f745e1b024affccbe547be",
            "9c999425eb2d4768b884074125f21bcd",
            "8950cd45eb04458487e9943a3e77ed1a",
            "53f702b858024d48990f450c8d0d0982",
            "7af5841ed01149799ca85898f89ab1f1",
            "b2bcfb449c444a2aa51253a1c9ae788b",
            "c084d279b2b84c17b5985b7c52622834",
            "35c8613e2ae34dd3834bd9caa8a9d97e",
            "c6efcc28238f441a86469ff3f04c2df8",
            "d8455e5f18734bdcbe56588e39153f2c"
          ]
        },
        "outputId": "b79f267d-f938-40f1-faea-428dd412fc76"
      },
      "outputs": [
        {
          "output_type": "display_data",
          "data": {
            "text/plain": [
              "  0%|          | 0/313 [00:00<?, ?it/s]"
            ],
            "application/vnd.jupyter.widget-view+json": {
              "version_major": 2,
              "version_minor": 0,
              "model_id": "9609ed8ca9ae4b12ba42ac771701c6ae"
            }
          },
          "metadata": {}
        },
        {
          "output_type": "execute_result",
          "data": {
            "text/plain": [
              "{'model_name': 'FashionMNISTModelV2',\n",
              " 'model_loss': 0.3248998820781708,\n",
              " 'model_accuracy': 88.2388178913738}"
            ]
          },
          "metadata": {},
          "execution_count": 224
        }
      ],
      "source": [
        "# get model_2 results\n",
        "model_2_results = eval_model(\n",
        "    model=model_2,\n",
        "    data_loader=test_dataloader,\n",
        "    loss_fn=loss_fn,\n",
        "    accuracy_fn=accuracy_fn,\n",
        "    device=device\n",
        ")\n",
        "\n",
        "model_2_results"
      ]
    },
    {
      "cell_type": "code",
      "execution_count": 225,
      "id": "e96b2b88-ed65-4d70-ab5b-d5ff97b68138",
      "metadata": {
        "id": "e96b2b88-ed65-4d70-ab5b-d5ff97b68138",
        "colab": {
          "base_uri": "https://localhost:8080/"
        },
        "outputId": "2a4a2e50-8389-413c-9e4a-eed7d514318f"
      },
      "outputs": [
        {
          "output_type": "execute_result",
          "data": {
            "text/plain": [
              "{'model_name': 'FashionMNISTModelV0',\n",
              " 'model_loss': 0.47663888335227966,\n",
              " 'model_accuracy': 83.42651757188499}"
            ]
          },
          "metadata": {},
          "execution_count": 225
        }
      ],
      "source": [
        "model_0_results"
      ]
    },
    {
      "cell_type": "code",
      "execution_count": 226,
      "id": "0yf5ZZsJtjVr",
      "metadata": {
        "id": "0yf5ZZsJtjVr",
        "colab": {
          "base_uri": "https://localhost:8080/"
        },
        "outputId": "f9506411-3d8b-4f0b-d8ff-97445afda77d"
      },
      "outputs": [
        {
          "output_type": "execute_result",
          "data": {
            "text/plain": [
              "{'model_name': 'FashionMNISTModelV1',\n",
              " 'model_loss': 0.6850008964538574,\n",
              " 'model_accuracy': 75.01996805111821}"
            ]
          },
          "metadata": {},
          "execution_count": 226
        }
      ],
      "source": [
        "model_1_results"
      ]
    },
    {
      "cell_type": "markdown",
      "id": "bbe1cbee-1dcf-49da-8aed-3cb21a1e84fb",
      "metadata": {
        "id": "bbe1cbee-1dcf-49da-8aed-3cb21a1e84fb"
      },
      "source": [
        "## 7. Compare all results from the three different models you developed!\n",
        "\n",
        "* Remember that the first one (model_0) was a feedforard network with no nonlinearity (no activation function)\n",
        "* The second model (model_1) was exactly the same as the first one but with added nonlinearity (Relu activation function).\n",
        "* The third model (model_2) was a Convolutional Neural Network"
      ]
    },
    {
      "cell_type": "code",
      "execution_count": 227,
      "id": "588cc975-6327-44fe-977a-9777f4a9f23a",
      "metadata": {
        "id": "588cc975-6327-44fe-977a-9777f4a9f23a",
        "colab": {
          "base_uri": "https://localhost:8080/",
          "height": 143
        },
        "outputId": "3ab8bfba-ae13-4bf2-f59b-eee1efbe7ddf"
      },
      "outputs": [
        {
          "output_type": "execute_result",
          "data": {
            "text/plain": [
              "            model_name  model_loss  model_accuracy\n",
              "1  FashionMNISTModelV1    0.685001       75.019968\n",
              "0  FashionMNISTModelV0    0.476639       83.426518\n",
              "2  FashionMNISTModelV2    0.324900       88.238818"
            ],
            "text/html": [
              "\n",
              "  <div id=\"df-7d07650a-bea6-4587-8e34-af4fdba4e891\" class=\"colab-df-container\">\n",
              "    <div>\n",
              "<style scoped>\n",
              "    .dataframe tbody tr th:only-of-type {\n",
              "        vertical-align: middle;\n",
              "    }\n",
              "\n",
              "    .dataframe tbody tr th {\n",
              "        vertical-align: top;\n",
              "    }\n",
              "\n",
              "    .dataframe thead th {\n",
              "        text-align: right;\n",
              "    }\n",
              "</style>\n",
              "<table border=\"1\" class=\"dataframe\">\n",
              "  <thead>\n",
              "    <tr style=\"text-align: right;\">\n",
              "      <th></th>\n",
              "      <th>model_name</th>\n",
              "      <th>model_loss</th>\n",
              "      <th>model_accuracy</th>\n",
              "    </tr>\n",
              "  </thead>\n",
              "  <tbody>\n",
              "    <tr>\n",
              "      <th>1</th>\n",
              "      <td>FashionMNISTModelV1</td>\n",
              "      <td>0.685001</td>\n",
              "      <td>75.019968</td>\n",
              "    </tr>\n",
              "    <tr>\n",
              "      <th>0</th>\n",
              "      <td>FashionMNISTModelV0</td>\n",
              "      <td>0.476639</td>\n",
              "      <td>83.426518</td>\n",
              "    </tr>\n",
              "    <tr>\n",
              "      <th>2</th>\n",
              "      <td>FashionMNISTModelV2</td>\n",
              "      <td>0.324900</td>\n",
              "      <td>88.238818</td>\n",
              "    </tr>\n",
              "  </tbody>\n",
              "</table>\n",
              "</div>\n",
              "    <div class=\"colab-df-buttons\">\n",
              "\n",
              "  <div class=\"colab-df-container\">\n",
              "    <button class=\"colab-df-convert\" onclick=\"convertToInteractive('df-7d07650a-bea6-4587-8e34-af4fdba4e891')\"\n",
              "            title=\"Convert this dataframe to an interactive table.\"\n",
              "            style=\"display:none;\">\n",
              "\n",
              "  <svg xmlns=\"http://www.w3.org/2000/svg\" height=\"24px\" viewBox=\"0 -960 960 960\">\n",
              "    <path d=\"M120-120v-720h720v720H120Zm60-500h600v-160H180v160Zm220 220h160v-160H400v160Zm0 220h160v-160H400v160ZM180-400h160v-160H180v160Zm440 0h160v-160H620v160ZM180-180h160v-160H180v160Zm440 0h160v-160H620v160Z\"/>\n",
              "  </svg>\n",
              "    </button>\n",
              "\n",
              "  <style>\n",
              "    .colab-df-container {\n",
              "      display:flex;\n",
              "      gap: 12px;\n",
              "    }\n",
              "\n",
              "    .colab-df-convert {\n",
              "      background-color: #E8F0FE;\n",
              "      border: none;\n",
              "      border-radius: 50%;\n",
              "      cursor: pointer;\n",
              "      display: none;\n",
              "      fill: #1967D2;\n",
              "      height: 32px;\n",
              "      padding: 0 0 0 0;\n",
              "      width: 32px;\n",
              "    }\n",
              "\n",
              "    .colab-df-convert:hover {\n",
              "      background-color: #E2EBFA;\n",
              "      box-shadow: 0px 1px 2px rgba(60, 64, 67, 0.3), 0px 1px 3px 1px rgba(60, 64, 67, 0.15);\n",
              "      fill: #174EA6;\n",
              "    }\n",
              "\n",
              "    .colab-df-buttons div {\n",
              "      margin-bottom: 4px;\n",
              "    }\n",
              "\n",
              "    [theme=dark] .colab-df-convert {\n",
              "      background-color: #3B4455;\n",
              "      fill: #D2E3FC;\n",
              "    }\n",
              "\n",
              "    [theme=dark] .colab-df-convert:hover {\n",
              "      background-color: #434B5C;\n",
              "      box-shadow: 0px 1px 3px 1px rgba(0, 0, 0, 0.15);\n",
              "      filter: drop-shadow(0px 1px 2px rgba(0, 0, 0, 0.3));\n",
              "      fill: #FFFFFF;\n",
              "    }\n",
              "  </style>\n",
              "\n",
              "    <script>\n",
              "      const buttonEl =\n",
              "        document.querySelector('#df-7d07650a-bea6-4587-8e34-af4fdba4e891 button.colab-df-convert');\n",
              "      buttonEl.style.display =\n",
              "        google.colab.kernel.accessAllowed ? 'block' : 'none';\n",
              "\n",
              "      async function convertToInteractive(key) {\n",
              "        const element = document.querySelector('#df-7d07650a-bea6-4587-8e34-af4fdba4e891');\n",
              "        const dataTable =\n",
              "          await google.colab.kernel.invokeFunction('convertToInteractive',\n",
              "                                                    [key], {});\n",
              "        if (!dataTable) return;\n",
              "\n",
              "        const docLinkHtml = 'Like what you see? Visit the ' +\n",
              "          '<a target=\"_blank\" href=https://colab.research.google.com/notebooks/data_table.ipynb>data table notebook</a>'\n",
              "          + ' to learn more about interactive tables.';\n",
              "        element.innerHTML = '';\n",
              "        dataTable['output_type'] = 'display_data';\n",
              "        await google.colab.output.renderOutput(dataTable, element);\n",
              "        const docLink = document.createElement('div');\n",
              "        docLink.innerHTML = docLinkHtml;\n",
              "        element.appendChild(docLink);\n",
              "      }\n",
              "    </script>\n",
              "  </div>\n",
              "\n",
              "\n",
              "<div id=\"df-73af015d-78c9-4844-95a2-ec51ce1b7e65\">\n",
              "  <button class=\"colab-df-quickchart\" onclick=\"quickchart('df-73af015d-78c9-4844-95a2-ec51ce1b7e65')\"\n",
              "            title=\"Suggest charts\"\n",
              "            style=\"display:none;\">\n",
              "\n",
              "<svg xmlns=\"http://www.w3.org/2000/svg\" height=\"24px\"viewBox=\"0 0 24 24\"\n",
              "     width=\"24px\">\n",
              "    <g>\n",
              "        <path d=\"M19 3H5c-1.1 0-2 .9-2 2v14c0 1.1.9 2 2 2h14c1.1 0 2-.9 2-2V5c0-1.1-.9-2-2-2zM9 17H7v-7h2v7zm4 0h-2V7h2v10zm4 0h-2v-4h2v4z\"/>\n",
              "    </g>\n",
              "</svg>\n",
              "  </button>\n",
              "\n",
              "<style>\n",
              "  .colab-df-quickchart {\n",
              "      --bg-color: #E8F0FE;\n",
              "      --fill-color: #1967D2;\n",
              "      --hover-bg-color: #E2EBFA;\n",
              "      --hover-fill-color: #174EA6;\n",
              "      --disabled-fill-color: #AAA;\n",
              "      --disabled-bg-color: #DDD;\n",
              "  }\n",
              "\n",
              "  [theme=dark] .colab-df-quickchart {\n",
              "      --bg-color: #3B4455;\n",
              "      --fill-color: #D2E3FC;\n",
              "      --hover-bg-color: #434B5C;\n",
              "      --hover-fill-color: #FFFFFF;\n",
              "      --disabled-bg-color: #3B4455;\n",
              "      --disabled-fill-color: #666;\n",
              "  }\n",
              "\n",
              "  .colab-df-quickchart {\n",
              "    background-color: var(--bg-color);\n",
              "    border: none;\n",
              "    border-radius: 50%;\n",
              "    cursor: pointer;\n",
              "    display: none;\n",
              "    fill: var(--fill-color);\n",
              "    height: 32px;\n",
              "    padding: 0;\n",
              "    width: 32px;\n",
              "  }\n",
              "\n",
              "  .colab-df-quickchart:hover {\n",
              "    background-color: var(--hover-bg-color);\n",
              "    box-shadow: 0 1px 2px rgba(60, 64, 67, 0.3), 0 1px 3px 1px rgba(60, 64, 67, 0.15);\n",
              "    fill: var(--button-hover-fill-color);\n",
              "  }\n",
              "\n",
              "  .colab-df-quickchart-complete:disabled,\n",
              "  .colab-df-quickchart-complete:disabled:hover {\n",
              "    background-color: var(--disabled-bg-color);\n",
              "    fill: var(--disabled-fill-color);\n",
              "    box-shadow: none;\n",
              "  }\n",
              "\n",
              "  .colab-df-spinner {\n",
              "    border: 2px solid var(--fill-color);\n",
              "    border-color: transparent;\n",
              "    border-bottom-color: var(--fill-color);\n",
              "    animation:\n",
              "      spin 1s steps(1) infinite;\n",
              "  }\n",
              "\n",
              "  @keyframes spin {\n",
              "    0% {\n",
              "      border-color: transparent;\n",
              "      border-bottom-color: var(--fill-color);\n",
              "      border-left-color: var(--fill-color);\n",
              "    }\n",
              "    20% {\n",
              "      border-color: transparent;\n",
              "      border-left-color: var(--fill-color);\n",
              "      border-top-color: var(--fill-color);\n",
              "    }\n",
              "    30% {\n",
              "      border-color: transparent;\n",
              "      border-left-color: var(--fill-color);\n",
              "      border-top-color: var(--fill-color);\n",
              "      border-right-color: var(--fill-color);\n",
              "    }\n",
              "    40% {\n",
              "      border-color: transparent;\n",
              "      border-right-color: var(--fill-color);\n",
              "      border-top-color: var(--fill-color);\n",
              "    }\n",
              "    60% {\n",
              "      border-color: transparent;\n",
              "      border-right-color: var(--fill-color);\n",
              "    }\n",
              "    80% {\n",
              "      border-color: transparent;\n",
              "      border-right-color: var(--fill-color);\n",
              "      border-bottom-color: var(--fill-color);\n",
              "    }\n",
              "    90% {\n",
              "      border-color: transparent;\n",
              "      border-bottom-color: var(--fill-color);\n",
              "    }\n",
              "  }\n",
              "</style>\n",
              "\n",
              "  <script>\n",
              "    async function quickchart(key) {\n",
              "      const quickchartButtonEl =\n",
              "        document.querySelector('#' + key + ' button');\n",
              "      quickchartButtonEl.disabled = true;  // To prevent multiple clicks.\n",
              "      quickchartButtonEl.classList.add('colab-df-spinner');\n",
              "      try {\n",
              "        const charts = await google.colab.kernel.invokeFunction(\n",
              "            'suggestCharts', [key], {});\n",
              "      } catch (error) {\n",
              "        console.error('Error during call to suggestCharts:', error);\n",
              "      }\n",
              "      quickchartButtonEl.classList.remove('colab-df-spinner');\n",
              "      quickchartButtonEl.classList.add('colab-df-quickchart-complete');\n",
              "    }\n",
              "    (() => {\n",
              "      let quickchartButtonEl =\n",
              "        document.querySelector('#df-73af015d-78c9-4844-95a2-ec51ce1b7e65 button');\n",
              "      quickchartButtonEl.style.display =\n",
              "        google.colab.kernel.accessAllowed ? 'block' : 'none';\n",
              "    })();\n",
              "  </script>\n",
              "</div>\n",
              "\n",
              "    </div>\n",
              "  </div>\n"
            ],
            "application/vnd.google.colaboratory.intrinsic+json": {
              "type": "dataframe",
              "summary": "{\n  \"name\": \"compare_results\",\n  \"rows\": 3,\n  \"fields\": [\n    {\n      \"column\": \"model_name\",\n      \"properties\": {\n        \"dtype\": \"string\",\n        \"num_unique_values\": 3,\n        \"samples\": [\n          \"FashionMNISTModelV1\",\n          \"FashionMNISTModelV0\",\n          \"FashionMNISTModelV2\"\n        ],\n        \"semantic_type\": \"\",\n        \"description\": \"\"\n      }\n    },\n    {\n      \"column\": \"model_loss\",\n      \"properties\": {\n        \"dtype\": \"number\",\n        \"std\": 0.18079094444772603,\n        \"min\": 0.3248998820781708,\n        \"max\": 0.6850008964538574,\n        \"num_unique_values\": 3,\n        \"samples\": [\n          0.6850008964538574,\n          0.47663888335227966,\n          0.3248998820781708\n        ],\n        \"semantic_type\": \"\",\n        \"description\": \"\"\n      }\n    },\n    {\n      \"column\": \"model_accuracy\",\n      \"properties\": {\n        \"dtype\": \"number\",\n        \"std\": 6.690369948780627,\n        \"min\": 75.01996805111821,\n        \"max\": 88.2388178913738,\n        \"num_unique_values\": 3,\n        \"samples\": [\n          75.01996805111821,\n          83.42651757188499,\n          88.2388178913738\n        ],\n        \"semantic_type\": \"\",\n        \"description\": \"\"\n      }\n    }\n  ]\n}"
            }
          },
          "metadata": {},
          "execution_count": 227
        }
      ],
      "source": [
        "# A good way is to combine the results into one data structure. A pandas DataFrame is a very convenient way to do that:\n",
        "import pandas as pd\n",
        "compare_results = pd.DataFrame([model_0_results,\n",
        "                               model_1_results,\n",
        "                               model_2_results])\n",
        "\n",
        "compare_results.sort_values(\"model_accuracy\") # ranks based on accuracy"
      ]
    },
    {
      "cell_type": "markdown",
      "id": "56ec0f8a-0f40-4e06-827f-e558b5a096ab",
      "metadata": {
        "id": "56ec0f8a-0f40-4e06-827f-e558b5a096ab"
      },
      "source": [
        "## 8. Questions to ponder:\n",
        "* Why do you think model_1 was the worst performing? What can you do to make it better? Which hyperparameters would you modify?\n",
        "* Conversly, why do you think model_2 was the best performing? Is there way to make it even better?\n",
        "* Expirement with increasing the epochs (ie training time), how does that affect model performanec overall?\n"
      ]
    },
    {
      "cell_type": "code",
      "execution_count": 228,
      "id": "c01675e0-db7e-4c72-a418-9adc274d42e5",
      "metadata": {
        "id": "c01675e0-db7e-4c72-a418-9adc274d42e5",
        "colab": {
          "base_uri": "https://localhost:8080/",
          "height": 143
        },
        "outputId": "b32b3d46-2524-4d3b-8c42-b87dc0a93e62"
      },
      "outputs": [
        {
          "output_type": "execute_result",
          "data": {
            "text/plain": [
              "            model_name  model_loss  model_accuracy  training_time\n",
              "0  FashionMNISTModelV0    0.476639       83.426518      38.077797\n",
              "1  FashionMNISTModelV1    0.685001       75.019968      34.997409\n",
              "2  FashionMNISTModelV2    0.324900       88.238818      37.474911"
            ],
            "text/html": [
              "\n",
              "  <div id=\"df-9be6311a-d20c-4cbf-8f18-e540318b171f\" class=\"colab-df-container\">\n",
              "    <div>\n",
              "<style scoped>\n",
              "    .dataframe tbody tr th:only-of-type {\n",
              "        vertical-align: middle;\n",
              "    }\n",
              "\n",
              "    .dataframe tbody tr th {\n",
              "        vertical-align: top;\n",
              "    }\n",
              "\n",
              "    .dataframe thead th {\n",
              "        text-align: right;\n",
              "    }\n",
              "</style>\n",
              "<table border=\"1\" class=\"dataframe\">\n",
              "  <thead>\n",
              "    <tr style=\"text-align: right;\">\n",
              "      <th></th>\n",
              "      <th>model_name</th>\n",
              "      <th>model_loss</th>\n",
              "      <th>model_accuracy</th>\n",
              "      <th>training_time</th>\n",
              "    </tr>\n",
              "  </thead>\n",
              "  <tbody>\n",
              "    <tr>\n",
              "      <th>0</th>\n",
              "      <td>FashionMNISTModelV0</td>\n",
              "      <td>0.476639</td>\n",
              "      <td>83.426518</td>\n",
              "      <td>38.077797</td>\n",
              "    </tr>\n",
              "    <tr>\n",
              "      <th>1</th>\n",
              "      <td>FashionMNISTModelV1</td>\n",
              "      <td>0.685001</td>\n",
              "      <td>75.019968</td>\n",
              "      <td>34.997409</td>\n",
              "    </tr>\n",
              "    <tr>\n",
              "      <th>2</th>\n",
              "      <td>FashionMNISTModelV2</td>\n",
              "      <td>0.324900</td>\n",
              "      <td>88.238818</td>\n",
              "      <td>37.474911</td>\n",
              "    </tr>\n",
              "  </tbody>\n",
              "</table>\n",
              "</div>\n",
              "    <div class=\"colab-df-buttons\">\n",
              "\n",
              "  <div class=\"colab-df-container\">\n",
              "    <button class=\"colab-df-convert\" onclick=\"convertToInteractive('df-9be6311a-d20c-4cbf-8f18-e540318b171f')\"\n",
              "            title=\"Convert this dataframe to an interactive table.\"\n",
              "            style=\"display:none;\">\n",
              "\n",
              "  <svg xmlns=\"http://www.w3.org/2000/svg\" height=\"24px\" viewBox=\"0 -960 960 960\">\n",
              "    <path d=\"M120-120v-720h720v720H120Zm60-500h600v-160H180v160Zm220 220h160v-160H400v160Zm0 220h160v-160H400v160ZM180-400h160v-160H180v160Zm440 0h160v-160H620v160ZM180-180h160v-160H180v160Zm440 0h160v-160H620v160Z\"/>\n",
              "  </svg>\n",
              "    </button>\n",
              "\n",
              "  <style>\n",
              "    .colab-df-container {\n",
              "      display:flex;\n",
              "      gap: 12px;\n",
              "    }\n",
              "\n",
              "    .colab-df-convert {\n",
              "      background-color: #E8F0FE;\n",
              "      border: none;\n",
              "      border-radius: 50%;\n",
              "      cursor: pointer;\n",
              "      display: none;\n",
              "      fill: #1967D2;\n",
              "      height: 32px;\n",
              "      padding: 0 0 0 0;\n",
              "      width: 32px;\n",
              "    }\n",
              "\n",
              "    .colab-df-convert:hover {\n",
              "      background-color: #E2EBFA;\n",
              "      box-shadow: 0px 1px 2px rgba(60, 64, 67, 0.3), 0px 1px 3px 1px rgba(60, 64, 67, 0.15);\n",
              "      fill: #174EA6;\n",
              "    }\n",
              "\n",
              "    .colab-df-buttons div {\n",
              "      margin-bottom: 4px;\n",
              "    }\n",
              "\n",
              "    [theme=dark] .colab-df-convert {\n",
              "      background-color: #3B4455;\n",
              "      fill: #D2E3FC;\n",
              "    }\n",
              "\n",
              "    [theme=dark] .colab-df-convert:hover {\n",
              "      background-color: #434B5C;\n",
              "      box-shadow: 0px 1px 3px 1px rgba(0, 0, 0, 0.15);\n",
              "      filter: drop-shadow(0px 1px 2px rgba(0, 0, 0, 0.3));\n",
              "      fill: #FFFFFF;\n",
              "    }\n",
              "  </style>\n",
              "\n",
              "    <script>\n",
              "      const buttonEl =\n",
              "        document.querySelector('#df-9be6311a-d20c-4cbf-8f18-e540318b171f button.colab-df-convert');\n",
              "      buttonEl.style.display =\n",
              "        google.colab.kernel.accessAllowed ? 'block' : 'none';\n",
              "\n",
              "      async function convertToInteractive(key) {\n",
              "        const element = document.querySelector('#df-9be6311a-d20c-4cbf-8f18-e540318b171f');\n",
              "        const dataTable =\n",
              "          await google.colab.kernel.invokeFunction('convertToInteractive',\n",
              "                                                    [key], {});\n",
              "        if (!dataTable) return;\n",
              "\n",
              "        const docLinkHtml = 'Like what you see? Visit the ' +\n",
              "          '<a target=\"_blank\" href=https://colab.research.google.com/notebooks/data_table.ipynb>data table notebook</a>'\n",
              "          + ' to learn more about interactive tables.';\n",
              "        element.innerHTML = '';\n",
              "        dataTable['output_type'] = 'display_data';\n",
              "        await google.colab.output.renderOutput(dataTable, element);\n",
              "        const docLink = document.createElement('div');\n",
              "        docLink.innerHTML = docLinkHtml;\n",
              "        element.appendChild(docLink);\n",
              "      }\n",
              "    </script>\n",
              "  </div>\n",
              "\n",
              "\n",
              "<div id=\"df-a0fcad19-75c6-40e0-b83c-f2429635fee2\">\n",
              "  <button class=\"colab-df-quickchart\" onclick=\"quickchart('df-a0fcad19-75c6-40e0-b83c-f2429635fee2')\"\n",
              "            title=\"Suggest charts\"\n",
              "            style=\"display:none;\">\n",
              "\n",
              "<svg xmlns=\"http://www.w3.org/2000/svg\" height=\"24px\"viewBox=\"0 0 24 24\"\n",
              "     width=\"24px\">\n",
              "    <g>\n",
              "        <path d=\"M19 3H5c-1.1 0-2 .9-2 2v14c0 1.1.9 2 2 2h14c1.1 0 2-.9 2-2V5c0-1.1-.9-2-2-2zM9 17H7v-7h2v7zm4 0h-2V7h2v10zm4 0h-2v-4h2v4z\"/>\n",
              "    </g>\n",
              "</svg>\n",
              "  </button>\n",
              "\n",
              "<style>\n",
              "  .colab-df-quickchart {\n",
              "      --bg-color: #E8F0FE;\n",
              "      --fill-color: #1967D2;\n",
              "      --hover-bg-color: #E2EBFA;\n",
              "      --hover-fill-color: #174EA6;\n",
              "      --disabled-fill-color: #AAA;\n",
              "      --disabled-bg-color: #DDD;\n",
              "  }\n",
              "\n",
              "  [theme=dark] .colab-df-quickchart {\n",
              "      --bg-color: #3B4455;\n",
              "      --fill-color: #D2E3FC;\n",
              "      --hover-bg-color: #434B5C;\n",
              "      --hover-fill-color: #FFFFFF;\n",
              "      --disabled-bg-color: #3B4455;\n",
              "      --disabled-fill-color: #666;\n",
              "  }\n",
              "\n",
              "  .colab-df-quickchart {\n",
              "    background-color: var(--bg-color);\n",
              "    border: none;\n",
              "    border-radius: 50%;\n",
              "    cursor: pointer;\n",
              "    display: none;\n",
              "    fill: var(--fill-color);\n",
              "    height: 32px;\n",
              "    padding: 0;\n",
              "    width: 32px;\n",
              "  }\n",
              "\n",
              "  .colab-df-quickchart:hover {\n",
              "    background-color: var(--hover-bg-color);\n",
              "    box-shadow: 0 1px 2px rgba(60, 64, 67, 0.3), 0 1px 3px 1px rgba(60, 64, 67, 0.15);\n",
              "    fill: var(--button-hover-fill-color);\n",
              "  }\n",
              "\n",
              "  .colab-df-quickchart-complete:disabled,\n",
              "  .colab-df-quickchart-complete:disabled:hover {\n",
              "    background-color: var(--disabled-bg-color);\n",
              "    fill: var(--disabled-fill-color);\n",
              "    box-shadow: none;\n",
              "  }\n",
              "\n",
              "  .colab-df-spinner {\n",
              "    border: 2px solid var(--fill-color);\n",
              "    border-color: transparent;\n",
              "    border-bottom-color: var(--fill-color);\n",
              "    animation:\n",
              "      spin 1s steps(1) infinite;\n",
              "  }\n",
              "\n",
              "  @keyframes spin {\n",
              "    0% {\n",
              "      border-color: transparent;\n",
              "      border-bottom-color: var(--fill-color);\n",
              "      border-left-color: var(--fill-color);\n",
              "    }\n",
              "    20% {\n",
              "      border-color: transparent;\n",
              "      border-left-color: var(--fill-color);\n",
              "      border-top-color: var(--fill-color);\n",
              "    }\n",
              "    30% {\n",
              "      border-color: transparent;\n",
              "      border-left-color: var(--fill-color);\n",
              "      border-top-color: var(--fill-color);\n",
              "      border-right-color: var(--fill-color);\n",
              "    }\n",
              "    40% {\n",
              "      border-color: transparent;\n",
              "      border-right-color: var(--fill-color);\n",
              "      border-top-color: var(--fill-color);\n",
              "    }\n",
              "    60% {\n",
              "      border-color: transparent;\n",
              "      border-right-color: var(--fill-color);\n",
              "    }\n",
              "    80% {\n",
              "      border-color: transparent;\n",
              "      border-right-color: var(--fill-color);\n",
              "      border-bottom-color: var(--fill-color);\n",
              "    }\n",
              "    90% {\n",
              "      border-color: transparent;\n",
              "      border-bottom-color: var(--fill-color);\n",
              "    }\n",
              "  }\n",
              "</style>\n",
              "\n",
              "  <script>\n",
              "    async function quickchart(key) {\n",
              "      const quickchartButtonEl =\n",
              "        document.querySelector('#' + key + ' button');\n",
              "      quickchartButtonEl.disabled = true;  // To prevent multiple clicks.\n",
              "      quickchartButtonEl.classList.add('colab-df-spinner');\n",
              "      try {\n",
              "        const charts = await google.colab.kernel.invokeFunction(\n",
              "            'suggestCharts', [key], {});\n",
              "      } catch (error) {\n",
              "        console.error('Error during call to suggestCharts:', error);\n",
              "      }\n",
              "      quickchartButtonEl.classList.remove('colab-df-spinner');\n",
              "      quickchartButtonEl.classList.add('colab-df-quickchart-complete');\n",
              "    }\n",
              "    (() => {\n",
              "      let quickchartButtonEl =\n",
              "        document.querySelector('#df-a0fcad19-75c6-40e0-b83c-f2429635fee2 button');\n",
              "      quickchartButtonEl.style.display =\n",
              "        google.colab.kernel.accessAllowed ? 'block' : 'none';\n",
              "    })();\n",
              "  </script>\n",
              "</div>\n",
              "\n",
              "  <div id=\"id_e79102b8-9800-43c3-90e4-4e464b8a2708\">\n",
              "    <style>\n",
              "      .colab-df-generate {\n",
              "        background-color: #E8F0FE;\n",
              "        border: none;\n",
              "        border-radius: 50%;\n",
              "        cursor: pointer;\n",
              "        display: none;\n",
              "        fill: #1967D2;\n",
              "        height: 32px;\n",
              "        padding: 0 0 0 0;\n",
              "        width: 32px;\n",
              "      }\n",
              "\n",
              "      .colab-df-generate:hover {\n",
              "        background-color: #E2EBFA;\n",
              "        box-shadow: 0px 1px 2px rgba(60, 64, 67, 0.3), 0px 1px 3px 1px rgba(60, 64, 67, 0.15);\n",
              "        fill: #174EA6;\n",
              "      }\n",
              "\n",
              "      [theme=dark] .colab-df-generate {\n",
              "        background-color: #3B4455;\n",
              "        fill: #D2E3FC;\n",
              "      }\n",
              "\n",
              "      [theme=dark] .colab-df-generate:hover {\n",
              "        background-color: #434B5C;\n",
              "        box-shadow: 0px 1px 3px 1px rgba(0, 0, 0, 0.15);\n",
              "        filter: drop-shadow(0px 1px 2px rgba(0, 0, 0, 0.3));\n",
              "        fill: #FFFFFF;\n",
              "      }\n",
              "    </style>\n",
              "    <button class=\"colab-df-generate\" onclick=\"generateWithVariable('compare_results')\"\n",
              "            title=\"Generate code using this dataframe.\"\n",
              "            style=\"display:none;\">\n",
              "\n",
              "  <svg xmlns=\"http://www.w3.org/2000/svg\" height=\"24px\"viewBox=\"0 0 24 24\"\n",
              "       width=\"24px\">\n",
              "    <path d=\"M7,19H8.4L18.45,9,17,7.55,7,17.6ZM5,21V16.75L18.45,3.32a2,2,0,0,1,2.83,0l1.4,1.43a1.91,1.91,0,0,1,.58,1.4,1.91,1.91,0,0,1-.58,1.4L9.25,21ZM18.45,9,17,7.55Zm-12,3A5.31,5.31,0,0,0,4.9,8.1,5.31,5.31,0,0,0,1,6.5,5.31,5.31,0,0,0,4.9,4.9,5.31,5.31,0,0,0,6.5,1,5.31,5.31,0,0,0,8.1,4.9,5.31,5.31,0,0,0,12,6.5,5.46,5.46,0,0,0,6.5,12Z\"/>\n",
              "  </svg>\n",
              "    </button>\n",
              "    <script>\n",
              "      (() => {\n",
              "      const buttonEl =\n",
              "        document.querySelector('#id_e79102b8-9800-43c3-90e4-4e464b8a2708 button.colab-df-generate');\n",
              "      buttonEl.style.display =\n",
              "        google.colab.kernel.accessAllowed ? 'block' : 'none';\n",
              "\n",
              "      buttonEl.onclick = () => {\n",
              "        google.colab.notebook.generateWithVariable('compare_results');\n",
              "      }\n",
              "      })();\n",
              "    </script>\n",
              "  </div>\n",
              "\n",
              "    </div>\n",
              "  </div>\n"
            ],
            "application/vnd.google.colaboratory.intrinsic+json": {
              "type": "dataframe",
              "variable_name": "compare_results",
              "summary": "{\n  \"name\": \"compare_results\",\n  \"rows\": 3,\n  \"fields\": [\n    {\n      \"column\": \"model_name\",\n      \"properties\": {\n        \"dtype\": \"string\",\n        \"num_unique_values\": 3,\n        \"samples\": [\n          \"FashionMNISTModelV0\",\n          \"FashionMNISTModelV1\",\n          \"FashionMNISTModelV2\"\n        ],\n        \"semantic_type\": \"\",\n        \"description\": \"\"\n      }\n    },\n    {\n      \"column\": \"model_loss\",\n      \"properties\": {\n        \"dtype\": \"number\",\n        \"std\": 0.18079094444772603,\n        \"min\": 0.3248998820781708,\n        \"max\": 0.6850008964538574,\n        \"num_unique_values\": 3,\n        \"samples\": [\n          0.47663888335227966,\n          0.6850008964538574,\n          0.3248998820781708\n        ],\n        \"semantic_type\": \"\",\n        \"description\": \"\"\n      }\n    },\n    {\n      \"column\": \"model_accuracy\",\n      \"properties\": {\n        \"dtype\": \"number\",\n        \"std\": 6.690369948780627,\n        \"min\": 75.01996805111821,\n        \"max\": 88.2388178913738,\n        \"num_unique_values\": 3,\n        \"samples\": [\n          83.42651757188499,\n          75.01996805111821,\n          88.2388178913738\n        ],\n        \"semantic_type\": \"\",\n        \"description\": \"\"\n      }\n    },\n    {\n      \"column\": \"training_time\",\n      \"properties\": {\n        \"dtype\": \"number\",\n        \"std\": 1.6324972860984803,\n        \"min\": 34.99740861000009,\n        \"max\": 38.07779706300062,\n        \"num_unique_values\": 3,\n        \"samples\": [\n          38.07779706300062,\n          34.99740861000009,\n          37.47491143099978\n        ],\n        \"semantic_type\": \"\",\n        \"description\": \"\"\n      }\n    }\n  ]\n}"
            }
          },
          "metadata": {},
          "execution_count": 228
        }
      ],
      "source": [
        "# We'll now add one more column to include training time to the results\n",
        "compare_results[\"training_time\"] = [total_train_time_model_0,\n",
        "                                    total_train_time_model_1,\n",
        "                                    total_train_time_model_2]\n",
        "compare_results"
      ]
    },
    {
      "cell_type": "markdown",
      "id": "ba59fab6-3bf0-4c29-8e15-31f601f41de2",
      "metadata": {
        "id": "ba59fab6-3bf0-4c29-8e15-31f601f41de2"
      },
      "source": [
        "* Now that you have factored in training time, what do you notice?\n",
        "* Are the few seconds extra spent on training model_2 worth the added extra few percentages in accuracy? When training very large models such minute differences can mean significant costs incurred or saved."
      ]
    },
    {
      "cell_type": "code",
      "execution_count": 229,
      "id": "8bc1b2bf-4e85-45c5-b74b-de6e4c154208",
      "metadata": {
        "id": "8bc1b2bf-4e85-45c5-b74b-de6e4c154208",
        "colab": {
          "base_uri": "https://localhost:8080/",
          "height": 449
        },
        "outputId": "3caba40e-008a-430d-c992-f8ed963fac9e"
      },
      "outputs": [
        {
          "output_type": "display_data",
          "data": {
            "text/plain": [
              "<Figure size 640x480 with 1 Axes>"
            ],
            "image/png": "[encoded data removed]"
          },
          "metadata": {}
        }
      ],
      "source": [
        "# Visualize our model results\n",
        "compare_results.set_index(\"model_name\")[\"model_accuracy\"].plot(kind=\"barh\")\n",
        "plt.xlabel(\"accuracy (%)\")\n",
        "plt.ylabel(\"model\");"
      ]
    },
    {
      "cell_type": "markdown",
      "id": "023eab89-b0dc-4f56-83f3-317a80eb9480",
      "metadata": {
        "id": "023eab89-b0dc-4f56-83f3-317a80eb9480"
      },
      "source": [
        "## 9. Make and evaluate random predictions with best model"
      ]
    },
    {
      "cell_type": "code",
      "execution_count": 230,
      "id": "aca3098b-3afd-4ff1-bb5e-ae795548ea55",
      "metadata": {
        "id": "aca3098b-3afd-4ff1-bb5e-ae795548ea55"
      },
      "outputs": [],
      "source": [
        "# We want to give the model (any model of type nn.Module) some data, and then have the model\n",
        "# return predictions for the data we gave it. In other words, we'll give the model\n",
        "# some photos and ask it to tell us what they are (jacket, dress, shoes...etc). You can expirement of doing this with models you developed BEFORE and AFTER training\n",
        "# and observe the change in performance.\n",
        "def make_predictions(model: torch.nn.Module, data: list, device: torch.device = device):\n",
        "    pred_probs = []\n",
        "    model.to(device)\n",
        "    model.eval()\n",
        "    with torch.inference_mode():\n",
        "        for sample in data:\n",
        "            # Prepare sample\n",
        "            sample = torch.unsqueeze(sample, dim=0).to(device) # Add an extra dimension and send sample to device\n",
        "\n",
        "            # Forward pass (model outputs raw logit)\n",
        "            pred_logit = model(sample)\n",
        "\n",
        "            # Get prediction probability (logit -> prediction probability)\n",
        "            pred_prob = torch.softmax(pred_logit.squeeze(), dim=0)\n",
        "\n",
        "            # Get pred_prob off GPU for further calculations\n",
        "            pred_probs.append(pred_prob.cpu())\n",
        "\n",
        "    # Stack the pred_probs to turn list into a tensor\n",
        "    return torch.stack(pred_probs)"
      ]
    },
    {
      "cell_type": "code",
      "execution_count": 231,
      "id": "e09d0a6b-4d55-4394-82b8-5b7fb67859cc",
      "metadata": {
        "id": "e09d0a6b-4d55-4394-82b8-5b7fb67859cc",
        "colab": {
          "base_uri": "https://localhost:8080/"
        },
        "outputId": "294d2f40-7ea6-49e1-c364-18267fada80d"
      },
      "outputs": [
        {
          "output_type": "execute_result",
          "data": {
            "text/plain": [
              "(torch.Size([1, 28, 28]), 9)"
            ]
          },
          "metadata": {},
          "execution_count": 231
        }
      ],
      "source": [
        "img, label = test_data[0][:10]\n",
        "img.shape, label"
      ]
    },
    {
      "cell_type": "code",
      "execution_count": 232,
      "id": "f82ebc91-0cd9-4472-a481-327e03bf5f90",
      "metadata": {
        "id": "f82ebc91-0cd9-4472-a481-327e03bf5f90",
        "colab": {
          "base_uri": "https://localhost:8080/"
        },
        "outputId": "14d59705-5809-40a9-de7a-37936efcc9d1"
      },
      "outputs": [
        {
          "output_type": "stream",
          "name": "stdout",
          "text": [
            "Test sample image shape: torch.Size([1, 28, 28])\n",
            "Test sample label: 5 (Sandal)\n"
          ]
        }
      ],
      "source": [
        "import random\n",
        "random.seed(42)\n",
        "test_samples = []\n",
        "test_labels = []\n",
        "for sample, label in random.sample(list(test_data), k=16):\n",
        "    test_samples.append(sample)\n",
        "    test_labels.append(label)\n",
        "\n",
        "# View the first test sample shape and label\n",
        "print(f\"Test sample image shape: {test_samples[0].shape}\\nTest sample label: {test_labels[0]} ({class_names[test_labels[0]]})\")"
      ]
    },
    {
      "cell_type": "code",
      "execution_count": 233,
      "id": "a9cd7ff3-248e-4642-8c84-c76e73614f85",
      "metadata": {
        "id": "a9cd7ff3-248e-4642-8c84-c76e73614f85",
        "colab": {
          "base_uri": "https://localhost:8080/",
          "height": 470
        },
        "outputId": "cba201ae-b79d-4d76-a7eb-6f57914aa341"
      },
      "outputs": [
        {
          "output_type": "execute_result",
          "data": {
            "text/plain": [
              "Text(0.5, 1.0, 'Sandal')"
            ]
          },
          "metadata": {},
          "execution_count": 233
        },
        {
          "output_type": "display_data",
          "data": {
            "text/plain": [
              "<Figure size 640x480 with 1 Axes>"
            ],
            "image/png": "[encoded data removed]"
          },
          "metadata": {}
        }
      ],
      "source": [
        "plt.imshow(test_samples[0].squeeze(), cmap=\"gray\")\n",
        "plt.title(class_names[test_labels[0]])"
      ]
    },
    {
      "cell_type": "code",
      "execution_count": 234,
      "id": "8deb06ba-575c-4c1d-976b-1abea6553a57",
      "metadata": {
        "id": "8deb06ba-575c-4c1d-976b-1abea6553a57",
        "colab": {
          "base_uri": "https://localhost:8080/"
        },
        "outputId": "79041f85-68a4-4f8c-b578-fe967ffd3564"
      },
      "outputs": [
        {
          "output_type": "execute_result",
          "data": {
            "text/plain": [
              "tensor([[4.1444e-08, 7.3063e-09, 1.2048e-08, 3.6400e-08, 2.5135e-09, 9.9997e-01,\n",
              "         6.9210e-08, 1.8633e-06, 1.2697e-05, 1.8360e-05],\n",
              "        [1.7406e-02, 7.5098e-01, 1.5706e-03, 1.1070e-01, 5.0096e-02, 8.9212e-05,\n",
              "         6.8728e-02, 9.7824e-05, 9.9277e-05, 2.3499e-04]])"
            ]
          },
          "metadata": {},
          "execution_count": 234
        }
      ],
      "source": [
        "# Make predictions\n",
        "pred_probs = make_predictions(model=model_2,\n",
        "                              data=test_samples)\n",
        "\n",
        "# View first two prediction probabilities\n",
        "# Could you make sense of these probabilities? Remember, each index is a probability of a label!\n",
        "pred_probs[:2]"
      ]
    },
    {
      "cell_type": "code",
      "execution_count": 235,
      "id": "7477fc3f-0936-403c-9039-9c2cec7b54a6",
      "metadata": {
        "id": "7477fc3f-0936-403c-9039-9c2cec7b54a6",
        "colab": {
          "base_uri": "https://localhost:8080/"
        },
        "outputId": "1a3f6008-c28a-4eb7-86b9-9ca1253fb1e9"
      },
      "outputs": [
        {
          "output_type": "execute_result",
          "data": {
            "text/plain": [
              "tensor([5, 1, 7, 4, 3, 0, 4, 7, 1, 9, 7, 2, 0, 1, 0, 3])"
            ]
          },
          "metadata": {},
          "execution_count": 235
        }
      ],
      "source": [
        "# Convert prediction probabilities to labels\n",
        "pred_classes = pred_probs.argmax(dim=1)\n",
        "pred_classes"
      ]
    },
    {
      "cell_type": "code",
      "execution_count": 236,
      "id": "b5472337-1c9e-4d0c-b8f2-899e730b434b",
      "metadata": {
        "id": "b5472337-1c9e-4d0c-b8f2-899e730b434b",
        "colab": {
          "base_uri": "https://localhost:8080/"
        },
        "outputId": "35e6e43a-c66e-4113-b588-7747b9c211fe"
      },
      "outputs": [
        {
          "output_type": "execute_result",
          "data": {
            "text/plain": [
              "[5, 1, 7, 4, 3, 0, 4, 7, 1, 9, 7, 2, 0, 1, 0, 4]"
            ]
          },
          "metadata": {},
          "execution_count": 236
        }
      ],
      "source": [
        "# Are the pred_classes in the same format as the test labels?\n",
        "test_labels"
      ]
    },
    {
      "cell_type": "code",
      "execution_count": 237,
      "id": "89dcda2a-5fee-4779-a021-38d6d3c193c7",
      "metadata": {
        "id": "89dcda2a-5fee-4779-a021-38d6d3c193c7",
        "colab": {
          "base_uri": "https://localhost:8080/",
          "height": 1000
        },
        "outputId": "ca86cc2d-53ed-4392-b9ef-37c14233ef68"
      },
      "outputs": [
        {
          "output_type": "display_data",
          "data": {
            "text/plain": [
              "<Figure size 1600x1600 with 16 Axes>"
            ],
            "image/png": "[encoded data removed]"
          },
          "metadata": {}
        }
      ],
      "source": [
        "# Plot predictions\n",
        "import matplotlib.pyplot as plt\n",
        "\n",
        "plt.figure(figsize=(16, 16))\n",
        "\n",
        "nrows = 4\n",
        "ncols = 4\n",
        "for i, sample in enumerate(test_samples):\n",
        "  # Create subplot\n",
        "  plt.subplot(nrows, ncols, i+1)\n",
        "\n",
        "  # Plot the target image\n",
        "  plt.imshow(sample.squeeze(), cmap=\"gray\")\n",
        "\n",
        "  # Find the prediction (in text form, e.g \"Sandal\")\n",
        "  pred_label = class_names[pred_classes[i]]\n",
        "\n",
        "  # Get the truth label (in text form)\n",
        "  truth_label = class_names[test_labels[i]]\n",
        "\n",
        "  # Create a title for the plot\n",
        "  title_text = f\"Pred: {pred_label} | Truth: {truth_label}\"\n",
        "\n",
        "  # Check for equality between pred and truth and change color of title text\n",
        "  if pred_label == truth_label:\n",
        "    plt.title(title_text, fontsize=11, c=\"g\") # green text if prediction same as truth\n",
        "  else:\n",
        "    plt.title(title_text, fontsize=11, c=\"r\")\n",
        "\n",
        "  plt.axis(False);"
      ]
    },
    {
      "cell_type": "markdown",
      "id": "97fa8680-8670-4768-8a35-d557eebd54d8",
      "metadata": {
        "id": "97fa8680-8670-4768-8a35-d557eebd54d8"
      },
      "source": [
        "* if you see any mistakes in the model's predictions, could inuit as to why this was difficult for the model for that particular image?"
      ]
    },
    {
      "cell_type": "markdown",
      "id": "7886b82b-da82-4499-951e-12f8f847f0e3",
      "metadata": {
        "id": "7886b82b-da82-4499-951e-12f8f847f0e3"
      },
      "source": [
        "## 10. Making a confusion matrix for further prediction evaluation\n",
        "\n",
        "A confusion matrix is a fantastic way of evaluating your classification models visually: https://www.learnpytorch.io/02_pytorch_classification/#9-more-classification-evaluation-metrics\n",
        "\n",
        "1. Make predictions with our trained model on the test dataset\n",
        "2. Make a confusion matrix [`torchmetrics.ConfusionMatrix`](https://torchmetrics.readthedocs.io/en/stable/classification/confusion_matrix.html)\n",
        "3. Plot the confusion matrix using [`mlxtend.plotting.plot_confusion_matrix()`](http://rasbt.github.io/mlxtend/user_guide/plotting/plot_confusion_matrix/)"
      ]
    },
    {
      "cell_type": "code",
      "execution_count": 253,
      "id": "2c9aeeb2-d0d2-49ee-934d-da458346ac3f",
      "metadata": {
        "id": "2c9aeeb2-d0d2-49ee-934d-da458346ac3f",
        "colab": {
          "base_uri": "https://localhost:8080/",
          "height": 67,
          "referenced_widgets": [
            "c95710f87dd145598b57933a42a071a0",
            "44217474e56947ed8a65c78ab2321fdb",
            "68285f950e6e43f89af5b28264eb109e",
            "6d3f92d6e87041199e636ea4fb2abfed",
            "a4e99d39bf1d4faaa0ba7c566bb36331",
            "19c62d511e9b4635b48b95fe1902b577",
            "7cbc0de10ca442b79360dffd887952b6",
            "adfbea6171fe44c3bf714d8c183bb727",
            "b2b72175f0284d3ba3804f2e7a618a39",
            "daff569293d241e1b516f7e6f43fe80a",
            "377db7dd349f43728bb8eb85bf4a3dd7"
          ]
        },
        "outputId": "3ab34953-9d0a-46c5-9952-6ef4f66e66bd"
      },
      "outputs": [
        {
          "output_type": "display_data",
          "data": {
            "text/plain": [
              "Making predictions...:   0%|          | 0/313 [00:00<?, ?it/s]"
            ],
            "application/vnd.jupyter.widget-view+json": {
              "version_major": 2,
              "version_minor": 0,
              "model_id": "c95710f87dd145598b57933a42a071a0"
            }
          },
          "metadata": {}
        },
        {
          "output_type": "execute_result",
          "data": {
            "text/plain": [
              "tensor([9, 2, 1,  ..., 8, 1, 5])"
            ]
          },
          "metadata": {},
          "execution_count": 253
        }
      ],
      "source": [
        "# Import tqdm.auto\n",
        "from tqdm.auto import tqdm\n",
        "\n",
        "# 1. Make predictions with trained model\n",
        "y_preds = []\n",
        "model_2.eval()\n",
        "with torch.inference_mode():\n",
        "  for X, y in tqdm(test_dataloader, desc=\"Making predictions...\"): #check the docs for tqdm\n",
        "    # Send the data and targets to target device\n",
        "    X, y = X.to(device), y.to(device)\n",
        "    # Do the forward pass\n",
        "    y_logit = model_2(X)\n",
        "#     print(y_logit.shape) # result: torch.Size([32, 10])\n",
        "    # Turn predictions from logits -> prediction probabilities -> prediction labels\n",
        "#     print(y_logit.squeeze().shape) # result: torch.Size([32, 10])\n",
        "    y_pred = torch.softmax(y_logit, dim=1).argmax(dim=1)\n",
        "    # Put prediction on CPU for evaluation\n",
        "    y_preds.append(y_pred.cpu())\n",
        "#     break\n",
        "# Concatenate list of predictions into a tensor\n",
        "# print(y_preds)\n",
        "y_pred_tensor = torch.cat(y_preds)\n",
        "y_pred_tensor\n"
      ]
    },
    {
      "cell_type": "code",
      "execution_count": 239,
      "id": "2991ccbf-831b-4070-b542-5064b6927fe0",
      "metadata": {
        "id": "2991ccbf-831b-4070-b542-5064b6927fe0",
        "colab": {
          "base_uri": "https://localhost:8080/"
        },
        "outputId": "806497e0-87a6-44be-d4ae-4c3baf32be2f"
      },
      "outputs": [
        {
          "output_type": "execute_result",
          "data": {
            "text/plain": [
              "torch.Size([16])"
            ]
          },
          "metadata": {},
          "execution_count": 239
        }
      ],
      "source": [
        "# len(y_pred) # this will yield 16 not the expected batch size of 32, Can you guess why?\n",
        "y_pred.shape"
      ]
    },
    {
      "cell_type": "code",
      "execution_count": 240,
      "id": "13KCY9iUJK9l",
      "metadata": {
        "id": "13KCY9iUJK9l",
        "colab": {
          "base_uri": "https://localhost:8080/"
        },
        "outputId": "bf3c95f4-286a-4187-b8fd-e8e157d097a6"
      },
      "outputs": [
        {
          "output_type": "stream",
          "name": "stdout",
          "text": [
            "mlxtend version: 0.23.1\n"
          ]
        }
      ],
      "source": [
        "# See if torchmetrics exists, if not, install the correct version\n",
        "try:\n",
        "    import torchmetrics, mlxtend\n",
        "    print(f\"mlxtend version: {mlxtend.__version__}\")\n",
        "    assert int(mlxtend.__version__.split(\".\")[1]) >= 19, \"mlxtend verison should be 0.19.0 or higher\"\n",
        "except:\n",
        "    !pip install -q torchmetrics -U mlxtend # <- Note: If you're using Google Colab, this may require restarting the runtime\n",
        "    import torchmetrics, mlxtend\n",
        "    print(f\"mlxtend version: {mlxtend.__version__}\")"
      ]
    },
    {
      "cell_type": "markdown",
      "id": "e1f6babd-c756-4e59-b9fa-cbeffa190c22",
      "metadata": {
        "id": "e1f6babd-c756-4e59-b9fa-cbeffa190c22"
      },
      "source": [
        "Now we've got predictions, let's go through steps 2 & 3:\n",
        "2. Make a confusion matrix using [`torchmetrics.ConfusionMatrix`](https://torchmetrics.readthedocs.io/en/latest/references/modules.html?highlight=confusion#confusionmatrix).\n",
        "3. Plot the confusion matrix using [`mlxtend.plotting.plot_confusion_matrix()`](http://rasbt.github.io/mlxtend/user_guide/plotting/plot_confusion_matrix/).\n",
        "\n",
        "First we'll need to make sure we've got `torchmetrics` and `mlxtend` installed (these two libraries will help us make and visual a confusion matrix).\n",
        "\n",
        "> **Note:** If you're using Google Colab, the default version of `mlxtend` installed is 0.14.0 (as of March 2022), however, for the parameters of the `plot_confusion_matrix()` function we'd like use, we need 0.19.0 or higher."
      ]
    },
    {
      "cell_type": "code",
      "execution_count": 241,
      "id": "GLAS3Mb4KY6J",
      "metadata": {
        "id": "GLAS3Mb4KY6J",
        "colab": {
          "base_uri": "https://localhost:8080/"
        },
        "outputId": "e4b2d3ea-d931-4d52-f3a0-6453137ffbe3"
      },
      "outputs": [
        {
          "output_type": "stream",
          "name": "stdout",
          "text": [
            "0.23.1\n"
          ]
        }
      ],
      "source": [
        "# Import mlxtend upgraded version\n",
        "import mlxtend\n",
        "print(mlxtend.__version__)\n",
        "assert int(mlxtend.__version__.split(\".\")[1]) >= 19 # should be version 0.19.0 or higher"
      ]
    },
    {
      "cell_type": "code",
      "execution_count": 242,
      "id": "6f5de719-f2b8-418d-a30e-b1083a645f8b",
      "metadata": {
        "id": "6f5de719-f2b8-418d-a30e-b1083a645f8b",
        "colab": {
          "base_uri": "https://localhost:8080/",
          "height": 1000
        },
        "outputId": "b68fd8f0-47e1-4489-d818-27ebe38ed711"
      },
      "outputs": [
        {
          "output_type": "display_data",
          "data": {
            "text/plain": [
              "<Figure size 1400x1400 with 1 Axes>"
            ],
            "image/png": "[encoded data removed]"
          },
          "metadata": {}
        }
      ],
      "source": [
        "from torchmetrics import ConfusionMatrix\n",
        "from mlxtend.plotting import plot_confusion_matrix\n",
        "\n",
        "# 2. Setup confusion matrix instance and compare predictions to targets\n",
        "confmat = ConfusionMatrix(num_classes=len(class_names), task='multiclass')\n",
        "confmat_tensor = confmat(preds=y_pred_tensor,\n",
        "                         target=test_data.targets)\n",
        "\n",
        "# 3. Plot the confusion matrix\n",
        "fig, ax = plot_confusion_matrix(\n",
        "    conf_mat=confmat_tensor.numpy(), # matplotlib likes working with NumPy\n",
        "    class_names=class_names, # turn the row and column labels into class names\n",
        "    figsize=(14, 14)\n",
        ");"
      ]
    },
    {
      "cell_type": "markdown",
      "id": "7848bbf1-2a36-4f72-b579-a1156f09cfc5",
      "metadata": {
        "id": "7848bbf1-2a36-4f72-b579-a1156f09cfc5"
      },
      "source": [
        "### A few questions:\n",
        "1. Where do you think the model gets most 'confused'? What objects to tend fool the model into mislabelling them?\n",
        "2. What are the implications of this? Can you think in terms of recall vs precision\n",
        "\n",
        "> **Exercise:** Use the trained `model_2` to make predictions on the test FashionMNIST dataset. Then plot some predictions where the model was wrong alongside what the label of the image should've been. After visualing these predictions do you think it's more of a modelling error or a data error? As in, could the model do better or are the labels of the data too close to each other (e.g. a \"Shirt\" label is too close to \"T-shirt/top\")?"
      ]
    },
    {
      "cell_type": "markdown",
      "id": "2a46fcbc-aaf5-402e-b46a-413afc6a54e4",
      "metadata": {
        "id": "2a46fcbc-aaf5-402e-b46a-413afc6a54e4"
      },
      "source": [
        "## 11. Save and load best performing model\n",
        "\n",
        "Let's finish this section off by saving and loading in our best performing model.\n",
        "\n",
        "We can save and load a PyTorch model using a combination of:\n",
        "* `torch.save` - a function to save a whole PyTorch model or a model's `state_dict()`.\n",
        "* `torch.load` - a function to load in a saved PyTorch object.\n",
        "* `torch.nn.Module.load_state_dict()` - a function to load a saved `state_dict()` into an existing model instance.\n",
        "\n",
        "You can see more of these three in the [PyTorch saving and loading models documentation](https://pytorch.org/tutorials/beginner/saving_loading_models.html).\n",
        "\n",
        "For now, let's save our `model_2`'s `state_dict()` then load it back in and evaluate it to make sure the save and load went correctly."
      ]
    },
    {
      "cell_type": "code",
      "execution_count": 254,
      "id": "70e0eb11-2f43-4a03-a086-473f76e72fc9",
      "metadata": {
        "id": "70e0eb11-2f43-4a03-a086-473f76e72fc9",
        "colab": {
          "base_uri": "https://localhost:8080/"
        },
        "outputId": "57e893d6-6f5d-4e03-d858-d34d9a1f06c5"
      },
      "outputs": [
        {
          "output_type": "stream",
          "name": "stdout",
          "text": [
            "Saving model to: models/Fundamentals_of_Machine_Learning_FashionMNIST_model_2.pth\n"
          ]
        }
      ],
      "source": [
        "from pathlib import Path\n",
        "\n",
        "# Create models directory (if it doesn't already exist), see: https://docs.python.org/3/library/pathlib.html#pathlib.Path.mkdir\n",
        "MODEL_PATH = Path(\"models\")\n",
        "MODEL_PATH.mkdir(parents=True, # create parent directories if needed\n",
        "                 exist_ok=True # if models directory already exists, don't error\n",
        ")\n",
        "\n",
        "# Create model save path\n",
        "MODEL_NAME = \"Fundamentals_of_Machine_Learning_FashionMNIST_model_2.pth\"\n",
        "MODEL_SAVE_PATH = MODEL_PATH / MODEL_NAME\n",
        "\n",
        "# Save the model state dict\n",
        "print(f\"Saving model to: {MODEL_SAVE_PATH}\")\n",
        "torch.save(obj=model_2.state_dict(), # only saving the state_dict() only saves the learned parameters\n",
        "           f=MODEL_SAVE_PATH)"
      ]
    },
    {
      "cell_type": "markdown",
      "id": "DHawEijvIBVF",
      "metadata": {
        "id": "DHawEijvIBVF"
      },
      "source": [
        "Now we've got a saved model `state_dict()` we can load it back in using a combination of `load_state_dict()` and `torch.load()`.\n",
        "\n",
        "Since we're using `load_state_dict()`, we'll need to create a new instance of `FashionMNISTModelV2()` with the same input parameters as our saved model `state_dict()`."
      ]
    },
    {
      "cell_type": "code",
      "execution_count": 255,
      "id": "1f09d7c0-1c97-4177-8d7a-90ecf7bb3395",
      "metadata": {
        "id": "1f09d7c0-1c97-4177-8d7a-90ecf7bb3395",
        "colab": {
          "base_uri": "https://localhost:8080/"
        },
        "outputId": "2f344f1e-94ca-40f7-a039-df883f58a966"
      },
      "outputs": [
        {
          "output_type": "stream",
          "name": "stderr",
          "text": [
            "<ipython-input-255-92c510e6e18c>:8: FutureWarning: You are using `torch.load` with `weights_only=False` (the current default value), which uses the default pickle module implicitly. It is possible to construct malicious pickle data which will execute arbitrary code during unpickling (See https://github.com/pytorch/pytorch/blob/main/SECURITY.md#untrusted-models for more details). In a future release, the default value for `weights_only` will be flipped to `True`. This limits the functions that could be executed during unpickling. Arbitrary objects will no longer be allowed to be loaded via this mode unless they are explicitly allowlisted by the user via `torch.serialization.add_safe_globals`. We recommend you start setting `weights_only=True` for any use case where you don't have full control of the loaded file. Please open an issue on GitHub for any issues related to this experimental feature.\n",
            "  loaded_model_2.load_state_dict(torch.load(f=MODEL_SAVE_PATH))\n"
          ]
        }
      ],
      "source": [
        "# Create a new instance of FashionMNISTModelV2 (the same class as our saved state_dict())\n",
        "# Note: loading model will produce an error if the shapes here aren't the same as the saved version This is a notable difference between PyTorch and Tensorflow. PyTorch usually needs both the weights/params of model + the architecture\n",
        "loaded_model_2 = FashionMNISTModelV2(input_shape=1,\n",
        "                                    hidden_units=10, # try changing this to 128 and seeing what happens\n",
        "                                    output_shape=10)\n",
        "\n",
        "# Load in the saved state_dict()\n",
        "loaded_model_2.load_state_dict(torch.load(f=MODEL_SAVE_PATH))\n",
        "\n",
        "# Send model to GPU\n",
        "loaded_model_2 = loaded_model_2.to(device)"
      ]
    },
    {
      "cell_type": "markdown",
      "id": "HPyge0nVIGvv",
      "metadata": {
        "id": "HPyge0nVIGvv"
      },
      "source": [
        "And now we've got a loaded model we can evaluate it with `eval_model()` to make sure its parameters work similarly to `model_2` prior to saving."
      ]
    },
    {
      "cell_type": "code",
      "execution_count": 256,
      "id": "319915c0-f1a6-48d1-8d05-85035512cfd0",
      "metadata": {
        "id": "319915c0-f1a6-48d1-8d05-85035512cfd0",
        "colab": {
          "base_uri": "https://localhost:8080/",
          "height": 102,
          "referenced_widgets": [
            "7f9ff60bd07045c9934b91701a9caa8a",
            "a54455ed7cce48609230ceac8cd19543",
            "eacfb677660b4b14bac2e527de83b790",
            "a9ef24c63b724cd9a8f999944834d7fd",
            "0ac8c7c262134ea0a24add7e861e8dcb",
            "05946eb968b04961a9aa9c98b3af6d21",
            "c31c3b1fdd324b6da2db99bdd17e9d73",
            "0cb2a5dae82d4fadacfd032f3c77b7de",
            "07f03d23f51b4682a0bc7c935bdc3949",
            "4eaae36173bd4d1a99265e476e6cbe09",
            "250c4bdeb3924b04b96265dc770a1bea"
          ]
        },
        "outputId": "c3957a03-1f21-4fdf-b15d-fba24c6ca9d8"
      },
      "outputs": [
        {
          "output_type": "display_data",
          "data": {
            "text/plain": [
              "  0%|          | 0/313 [00:00<?, ?it/s]"
            ],
            "application/vnd.jupyter.widget-view+json": {
              "version_major": 2,
              "version_minor": 0,
              "model_id": "7f9ff60bd07045c9934b91701a9caa8a"
            }
          },
          "metadata": {}
        },
        {
          "output_type": "execute_result",
          "data": {
            "text/plain": [
              "{'model_name': 'FashionMNISTModelV2',\n",
              " 'model_loss': 0.3248998820781708,\n",
              " 'model_accuracy': 88.2388178913738}"
            ]
          },
          "metadata": {},
          "execution_count": 256
        }
      ],
      "source": [
        "# Evaluate loaded model\n",
        "torch.manual_seed(42)\n",
        "\n",
        "loaded_model_2_results = eval_model(\n",
        "    model=loaded_model_2,\n",
        "    data_loader=test_dataloader,\n",
        "    loss_fn=loss_fn,\n",
        "    accuracy_fn=accuracy_fn\n",
        ")\n",
        "\n",
        "loaded_model_2_results"
      ]
    },
    {
      "cell_type": "markdown",
      "id": "bMKfYdBOILCl",
      "metadata": {
        "id": "bMKfYdBOILCl"
      },
      "source": [
        "Do these results look the same as `model_2_results`?\n"
      ]
    },
    {
      "cell_type": "code",
      "execution_count": 246,
      "id": "7IJGO-2_yjBX",
      "metadata": {
        "id": "7IJGO-2_yjBX",
        "colab": {
          "base_uri": "https://localhost:8080/"
        },
        "outputId": "52ebe4b7-4c32-456f-dac2-72e7f22e1be0"
      },
      "outputs": [
        {
          "output_type": "execute_result",
          "data": {
            "text/plain": [
              "{'model_name': 'FashionMNISTModelV2',\n",
              " 'model_loss': 0.3248998820781708,\n",
              " 'model_accuracy': 88.2388178913738}"
            ]
          },
          "metadata": {},
          "execution_count": 246
        }
      ],
      "source": [
        "model_2_results"
      ]
    },
    {
      "cell_type": "markdown",
      "id": "NvvLfzfLIQjF",
      "metadata": {
        "id": "NvvLfzfLIQjF"
      },
      "source": [
        "We can find out if two tensors are close to each other using `torch.isclose()` and passing in a tolerance level of closeness via the parameters `atol` (absolute tolerance) and `rtol` (relative tolerance).\n",
        "\n",
        "If our model's results are close, the output of `torch.isclose()` should be true."
      ]
    },
    {
      "cell_type": "code",
      "execution_count": 257,
      "id": "8TXfVQh4yjkV",
      "metadata": {
        "id": "8TXfVQh4yjkV",
        "colab": {
          "base_uri": "https://localhost:8080/"
        },
        "outputId": "a84b206d-5627-4c2f-f7b0-4360c9c8cd7a"
      },
      "outputs": [
        {
          "output_type": "execute_result",
          "data": {
            "text/plain": [
              "tensor(True)"
            ]
          },
          "metadata": {},
          "execution_count": 257
        }
      ],
      "source": [
        "# Check to see if results are close to each other (if they are very far away, there may be an error)\n",
        "torch.isclose(torch.tensor(model_2_results[\"model_loss\"]),\n",
        "              torch.tensor(loaded_model_2_results[\"model_loss\"]),\n",
        "              atol=1e-08, # absolute tolerance\n",
        "              rtol=0.0001) # relative tolerance"
      ]
    },
    {
      "cell_type": "markdown",
      "id": "eL5GHP9Cyx8c",
      "metadata": {
        "id": "eL5GHP9Cyx8c"
      },
      "source": [
        "## Exercises\n",
        "\n",
        "All of the exercises are focused on practicing the code in the sections above.\n",
        "\n",
        "You should be able to complete them by referencing each section or by following the resource(s) linked.\n",
        "\n",
        "All exercises should be completed using [device-agnostic code](https://pytorch.org/docs/stable/notes/cuda.html#device-agnostic-code).\n",
        "\n",
        "\n",
        "1. Spend 20-minutes reading and clicking through the [CNN Explainer website](https://poloclub.github.io/cnn-explainer/).\n",
        "    * Upload your own example image using the \"upload\" button and see what happens in each layer of a CNN as your image passes through it.\n",
        "2. Load the [`torchvision.datasets.MNIST()`](https://pytorch.org/vision/stable/generated/torchvision.datasets.MNIST.html#torchvision.datasets.MNIST) train and test datasets.\n",
        "3. Visualize at least 5 different samples of the MNIST training dataset.\n",
        "4. Turn the MNIST train and test datasets into dataloaders using `torch.utils.data.DataLoader`, set the `batch_size=32`.\n",
        "5. Recreate `model_2` used in this notebook (the same model from the [CNN Explainer website](https://poloclub.github.io/cnn-explainer/), also known as TinyVGG) capable of fitting on the MNIST dataset.\n",
        "6. Train the model you built in the previous step. on CPU and GPU and see how long it takes on each.\n",
        "7. Make predictions using your trained model and visualize at least 5 of them comparing the prediciton to the target label.\n",
        "8. Plot a confusion matrix comparing your model's predictions to the truth labels.\n",
        "9. Create a random tensor of shape `[1, 3, 64, 64]` and pass it through a `nn.Conv2d()` layer with various hyperparameter settings (these can be any settings you choose), what do you notice if the `kernel_size` parameter goes up and down?\n",
        "10. Use a model similar to the trained `model_2` from this notebook to make predictions on the test [`torchvision.datasets.FashionMNIST`](https://pytorch.org/vision/main/generated/torchvision.datasets.FashionMNIST.html) dataset.\n",
        "    * Then plot some predictions where the model was wrong alongside what the label of the image should've been.\n",
        "    * After visualing these predictions do you think it's more of a modelling error or a data error?\n",
        "    * As in, could the model do better or are the labels of the data too close to each other (e.g. a \"Shirt\" label is too close to \"T-shirt/top\")?\n",
        "\n",
        "\n"
      ]
    },
    {
      "cell_type": "markdown",
      "id": "Nu5sFA3EvO5b",
      "metadata": {
        "id": "Nu5sFA3EvO5b"
      },
      "source": [
        "## Extra-curriculum\n",
        "* **Watch:** [MIT's Introduction to Deep Computer Vision](https://www.youtube.com/watch?v=7sB052Pz0sQ&list=PLtBw6njQRU-rwp5__7C0oIVt26ZgjG9NI) lectures. This will give you a great intuition behind convolutional neural networks.\n",
        "* Spend 10-minutes clicking thorugh the different options of the [PyTorch vision library](https://pytorch.org/vision/stable/index.html), what different modules are available?\n",
        "* Lookup \"most common convolutional neural networks\", what architectures do you find? Are any of them contained within the [`torchvision.models`](https://pytorch.org/vision/stable/models.html) library? What do you think you could do with these?\n",
        "* For a large number of pretrained PyTorch computer vision models as well as many different extensions to PyTorch's computer vision functionalities check out the [PyTorch Image Models library `timm`](https://github.com/rwightman/pytorch-image-models/) (Torch Image Models) by Ross Wightman.\n",
        "\n",
        "* Using what you learned in this notebook, could you build a pipeline to to solve [CIFAR10](https://pytorch.org/vision/stable/generated/torchvision.datasets.CIFAR10.html#torchvision.datasets.CIFAR10)? How would you change model_2 to accomodate the extra complexity of CIFAR10? At what point do you reaching diminishing returns in terms of model complexity vs training time vs over-fitting ?\n",
        "\n",
        "* Generative Deep Learning is a thriving and very active area of research. Recent models such as DALL-E, Midjounrney, Stable Diffusion, and Imagen recently made headlines around the world. The most recent models use a recently developed approach called [Diffiusion](https://jalammar.github.io/illustrated-stable-diffusion/). However, it could be argued that the real interest in generative AI began in 2014 with Ian Goodfellow's landmark [paper](https://dl.acm.org/doi/abs/10.1145/3422622) which introduced Generative adversarial networks (GAN). This is a good broad introduction to the [topic](https://www.youtube.com/watch?v=QcLlc9lj2hk&list=PLtBw6njQRU-rwp5__7C0oIVt26ZgjG9NI&index=4).\n",
        "    * What do you think the ethical and societal implications of Generative AI technology? How do you think such advances should be (if any) regulated?\n",
        "    * Can you come up with a few examples of using GANs to solve real world problems?\n",
        "\n",
        "* If you broadly understand the concept behind GANs, you may want to expirement with this (repo)[https://github.com/valerija-h/CS551G-Assignment-1.git]. It uses a [Conditional GANs](https://arxiv.org/abs/1411.1784) approach to solve a data generation problem:\n",
        "    * Clone the repo including the x-ray data\n",
        "    * Read the associated pdf document that explains the problem\n",
        "    * Run the code on your machine/Colab, you should be able to generate x-ray images!\n",
        "    * Experiment with modifying the hyperparameters, what do you notice? Try decreasing or increasing the size of the latent space, what do you notice?\n",
        "    * Are there ways where you can modify the code to achieve faster training time? Why is GAN training notoriously unstable? Read more about here [GANs](https://lilianweng.github.io/posts/2017-08-20-gan/). Which parameters do you think the owener of the repo used to achieve stable training? Remember that in GANs we aim for a loss of 0.5, not zero!\n",
        "    * For an interesting example of GANs in action, check: https://this-person-does-not-exist.com/en\n"
      ]
    }
  ],
  "metadata": {
    "accelerator": "GPU",
    "colab": {
      "provenance": []
    },
    "gpuClass": "standard",
    "kernelspec": {
      "display_name": "Python 3 (ipykernel)",
      "language": "python",
      "name": "python3"
    },
    "language_info": {
      "codemirror_mode": {
        "name": "ipython",
        "version": 3
      },
      "file_extension": ".py",
      "mimetype": "text/x-python",
      "name": "python",
      "nbconvert_exporter": "python",
      "pygments_lexer": "ipython3",
      "version": "3.9.5"
    },
    "widgets": {
      "application/vnd.jupyter.widget-state+json": {
        "96fc4defca4247f49fa452b04434aac1": {
          "model_module": "@jupyter-widgets/controls",
          "model_name": "HBoxModel",
          "model_module_version": "1.5.0",
          "state": {
            "_dom_classes": [],
            "_model_module": "@jupyter-widgets/controls",
            "_model_module_version": "1.5.0",
            "_model_name": "HBoxModel",
            "_view_count": null,
            "_view_module": "@jupyter-widgets/controls",
            "_view_module_version": "1.5.0",
            "_view_name": "HBoxView",
            "box_style": "",
            "children": [
              "IPY_MODEL_0d74f3610d6b40a9bc5c744662624d54",
              "IPY_MODEL_1a00bc93edb2454c808fae24580c89bb",
              "IPY_MODEL_ef6adb9742d042f7a5178063885800f7"
            ],
            "layout": "IPY_MODEL_16f35dcc680e409a8d5f5dc287cdda2a"
          }
        },
        "0d74f3610d6b40a9bc5c744662624d54": {
          "model_module": "@jupyter-widgets/controls",
          "model_name": "HTMLModel",
          "model_module_version": "1.5.0",
          "state": {
            "_dom_classes": [],
            "_model_module": "@jupyter-widgets/controls",
            "_model_module_version": "1.5.0",
            "_model_name": "HTMLModel",
            "_view_count": null,
            "_view_module": "@jupyter-widgets/controls",
            "_view_module_version": "1.5.0",
            "_view_name": "HTMLView",
            "description": "",
            "description_tooltip": null,
            "layout": "IPY_MODEL_ae1b529efe6b4845ab97f701bc7b6a59",
            "placeholder": "​",
            "style": "IPY_MODEL_cbc647d408e247b39df552bae2d5afc5",
            "value": "100%"
          }
        },
        "1a00bc93edb2454c808fae24580c89bb": {
          "model_module": "@jupyter-widgets/controls",
          "model_name": "FloatProgressModel",
          "model_module_version": "1.5.0",
          "state": {
            "_dom_classes": [],
            "_model_module": "@jupyter-widgets/controls",
            "_model_module_version": "1.5.0",
            "_model_name": "FloatProgressModel",
            "_view_count": null,
            "_view_module": "@jupyter-widgets/controls",
            "_view_module_version": "1.5.0",
            "_view_name": "ProgressView",
            "bar_style": "success",
            "description": "",
            "description_tooltip": null,
            "layout": "IPY_MODEL_893641d68a934632abff164264ea4a4a",
            "max": 3,
            "min": 0,
            "orientation": "horizontal",
            "style": "IPY_MODEL_dab5296480d7423bbe7d8fc36d742c26",
            "value": 3
          }
        },
        "ef6adb9742d042f7a5178063885800f7": {
          "model_module": "@jupyter-widgets/controls",
          "model_name": "HTMLModel",
          "model_module_version": "1.5.0",
          "state": {
            "_dom_classes": [],
            "_model_module": "@jupyter-widgets/controls",
            "_model_module_version": "1.5.0",
            "_model_name": "HTMLModel",
            "_view_count": null,
            "_view_module": "@jupyter-widgets/controls",
            "_view_module_version": "1.5.0",
            "_view_name": "HTMLView",
            "description": "",
            "description_tooltip": null,
            "layout": "IPY_MODEL_3dc15e46e99842878c3d868ba031393a",
            "placeholder": "​",
            "style": "IPY_MODEL_a414ec1d3da04bd99cf3209596406046",
            "value": " 3/3 [00:38&lt;00:00, 11.55s/it]"
          }
        },
        "16f35dcc680e409a8d5f5dc287cdda2a": {
          "model_module": "@jupyter-widgets/base",
          "model_name": "LayoutModel",
          "model_module_version": "1.2.0",
          "state": {
            "_model_module": "@jupyter-widgets/base",
            "_model_module_version": "1.2.0",
            "_model_name": "LayoutModel",
            "_view_count": null,
            "_view_module": "@jupyter-widgets/base",
            "_view_module_version": "1.2.0",
            "_view_name": "LayoutView",
            "align_content": null,
            "align_items": null,
            "align_self": null,
            "border": null,
            "bottom": null,
            "display": null,
            "flex": null,
            "flex_flow": null,
            "grid_area": null,
            "grid_auto_columns": null,
            "grid_auto_flow": null,
            "grid_auto_rows": null,
            "grid_column": null,
            "grid_gap": null,
            "grid_row": null,
            "grid_template_areas": null,
            "grid_template_columns": null,
            "grid_template_rows": null,
            "height": null,
            "justify_content": null,
            "justify_items": null,
            "left": null,
            "margin": null,
            "max_height": null,
            "max_width": null,
            "min_height": null,
            "min_width": null,
            "object_fit": null,
            "object_position": null,
            "order": null,
            "overflow": null,
            "overflow_x": null,
            "overflow_y": null,
            "padding": null,
            "right": null,
            "top": null,
            "visibility": null,
            "width": null
          }
        },
        "ae1b529efe6b4845ab97f701bc7b6a59": {
          "model_module": "@jupyter-widgets/base",
          "model_name": "LayoutModel",
          "model_module_version": "1.2.0",
          "state": {
            "_model_module": "@jupyter-widgets/base",
            "_model_module_version": "1.2.0",
            "_model_name": "LayoutModel",
            "_view_count": null,
            "_view_module": "@jupyter-widgets/base",
            "_view_module_version": "1.2.0",
            "_view_name": "LayoutView",
            "align_content": null,
            "align_items": null,
            "align_self": null,
            "border": null,
            "bottom": null,
            "display": null,
            "flex": null,
            "flex_flow": null,
            "grid_area": null,
            "grid_auto_columns": null,
            "grid_auto_flow": null,
            "grid_auto_rows": null,
            "grid_column": null,
            "grid_gap": null,
            "grid_row": null,
            "grid_template_areas": null,
            "grid_template_columns": null,
            "grid_template_rows": null,
            "height": null,
            "justify_content": null,
            "justify_items": null,
            "left": null,
            "margin": null,
            "max_height": null,
            "max_width": null,
            "min_height": null,
            "min_width": null,
            "object_fit": null,
            "object_position": null,
            "order": null,
            "overflow": null,
            "overflow_x": null,
            "overflow_y": null,
            "padding": null,
            "right": null,
            "top": null,
            "visibility": null,
            "width": null
          }
        },
        "cbc647d408e247b39df552bae2d5afc5": {
          "model_module": "@jupyter-widgets/controls",
          "model_name": "DescriptionStyleModel",
          "model_module_version": "1.5.0",
          "state": {
            "_model_module": "@jupyter-widgets/controls",
            "_model_module_version": "1.5.0",
            "_model_name": "DescriptionStyleModel",
            "_view_count": null,
            "_view_module": "@jupyter-widgets/base",
            "_view_module_version": "1.2.0",
            "_view_name": "StyleView",
            "description_width": ""
          }
        },
        "893641d68a934632abff164264ea4a4a": {
          "model_module": "@jupyter-widgets/base",
          "model_name": "LayoutModel",
          "model_module_version": "1.2.0",
          "state": {
            "_model_module": "@jupyter-widgets/base",
            "_model_module_version": "1.2.0",
            "_model_name": "LayoutModel",
            "_view_count": null,
            "_view_module": "@jupyter-widgets/base",
            "_view_module_version": "1.2.0",
            "_view_name": "LayoutView",
            "align_content": null,
            "align_items": null,
            "align_self": null,
            "border": null,
            "bottom": null,
            "display": null,
            "flex": null,
            "flex_flow": null,
            "grid_area": null,
            "grid_auto_columns": null,
            "grid_auto_flow": null,
            "grid_auto_rows": null,
            "grid_column": null,
            "grid_gap": null,
            "grid_row": null,
            "grid_template_areas": null,
            "grid_template_columns": null,
            "grid_template_rows": null,
            "height": null,
            "justify_content": null,
            "justify_items": null,
            "left": null,
            "margin": null,
            "max_height": null,
            "max_width": null,
            "min_height": null,
            "min_width": null,
            "object_fit": null,
            "object_position": null,
            "order": null,
            "overflow": null,
            "overflow_x": null,
            "overflow_y": null,
            "padding": null,
            "right": null,
            "top": null,
            "visibility": null,
            "width": null
          }
        },
        "dab5296480d7423bbe7d8fc36d742c26": {
          "model_module": "@jupyter-widgets/controls",
          "model_name": "ProgressStyleModel",
          "model_module_version": "1.5.0",
          "state": {
            "_model_module": "@jupyter-widgets/controls",
            "_model_module_version": "1.5.0",
            "_model_name": "ProgressStyleModel",
            "_view_count": null,
            "_view_module": "@jupyter-widgets/base",
            "_view_module_version": "1.2.0",
            "_view_name": "StyleView",
            "bar_color": null,
            "description_width": ""
          }
        },
        "3dc15e46e99842878c3d868ba031393a": {
          "model_module": "@jupyter-widgets/base",
          "model_name": "LayoutModel",
          "model_module_version": "1.2.0",
          "state": {
            "_model_module": "@jupyter-widgets/base",
            "_model_module_version": "1.2.0",
            "_model_name": "LayoutModel",
            "_view_count": null,
            "_view_module": "@jupyter-widgets/base",
            "_view_module_version": "1.2.0",
            "_view_name": "LayoutView",
            "align_content": null,
            "align_items": null,
            "align_self": null,
            "border": null,
            "bottom": null,
            "display": null,
            "flex": null,
            "flex_flow": null,
            "grid_area": null,
            "grid_auto_columns": null,
            "grid_auto_flow": null,
            "grid_auto_rows": null,
            "grid_column": null,
            "grid_gap": null,
            "grid_row": null,
            "grid_template_areas": null,
            "grid_template_columns": null,
            "grid_template_rows": null,
            "height": null,
            "justify_content": null,
            "justify_items": null,
            "left": null,
            "margin": null,
            "max_height": null,
            "max_width": null,
            "min_height": null,
            "min_width": null,
            "object_fit": null,
            "object_position": null,
            "order": null,
            "overflow": null,
            "overflow_x": null,
            "overflow_y": null,
            "padding": null,
            "right": null,
            "top": null,
            "visibility": null,
            "width": null
          }
        },
        "a414ec1d3da04bd99cf3209596406046": {
          "model_module": "@jupyter-widgets/controls",
          "model_name": "DescriptionStyleModel",
          "model_module_version": "1.5.0",
          "state": {
            "_model_module": "@jupyter-widgets/controls",
            "_model_module_version": "1.5.0",
            "_model_name": "DescriptionStyleModel",
            "_view_count": null,
            "_view_module": "@jupyter-widgets/base",
            "_view_module_version": "1.2.0",
            "_view_name": "StyleView",
            "description_width": ""
          }
        },
        "ea99406ad0af42809c622bf9f9d41229": {
          "model_module": "@jupyter-widgets/controls",
          "model_name": "HBoxModel",
          "model_module_version": "1.5.0",
          "state": {
            "_dom_classes": [],
            "_model_module": "@jupyter-widgets/controls",
            "_model_module_version": "1.5.0",
            "_model_name": "HBoxModel",
            "_view_count": null,
            "_view_module": "@jupyter-widgets/controls",
            "_view_module_version": "1.5.0",
            "_view_name": "HBoxView",
            "box_style": "",
            "children": [
              "IPY_MODEL_8c57f0467d224dd8ae71438c4b5b8924",
              "IPY_MODEL_b51f88645f90429b93f1a6572f2c66ba",
              "IPY_MODEL_b79e972cd44649b885536a0c53af3692"
            ],
            "layout": "IPY_MODEL_498cccdd21d146efa14dd3cd64179c05"
          }
        },
        "8c57f0467d224dd8ae71438c4b5b8924": {
          "model_module": "@jupyter-widgets/controls",
          "model_name": "HTMLModel",
          "model_module_version": "1.5.0",
          "state": {
            "_dom_classes": [],
            "_model_module": "@jupyter-widgets/controls",
            "_model_module_version": "1.5.0",
            "_model_name": "HTMLModel",
            "_view_count": null,
            "_view_module": "@jupyter-widgets/controls",
            "_view_module_version": "1.5.0",
            "_view_name": "HTMLView",
            "description": "",
            "description_tooltip": null,
            "layout": "IPY_MODEL_cc239d06962f4cc6b3f7aed0ca7cbbbc",
            "placeholder": "​",
            "style": "IPY_MODEL_1a23319104c04f698fdba9b9ef0567a5",
            "value": "100%"
          }
        },
        "b51f88645f90429b93f1a6572f2c66ba": {
          "model_module": "@jupyter-widgets/controls",
          "model_name": "FloatProgressModel",
          "model_module_version": "1.5.0",
          "state": {
            "_dom_classes": [],
            "_model_module": "@jupyter-widgets/controls",
            "_model_module_version": "1.5.0",
            "_model_name": "FloatProgressModel",
            "_view_count": null,
            "_view_module": "@jupyter-widgets/controls",
            "_view_module_version": "1.5.0",
            "_view_name": "ProgressView",
            "bar_style": "success",
            "description": "",
            "description_tooltip": null,
            "layout": "IPY_MODEL_5f9a5ffaf7804914b435dafda7cfd66e",
            "max": 313,
            "min": 0,
            "orientation": "horizontal",
            "style": "IPY_MODEL_648d8a80b2614c41943605e836746b7f",
            "value": 313
          }
        },
        "b79e972cd44649b885536a0c53af3692": {
          "model_module": "@jupyter-widgets/controls",
          "model_name": "HTMLModel",
          "model_module_version": "1.5.0",
          "state": {
            "_dom_classes": [],
            "_model_module": "@jupyter-widgets/controls",
            "_model_module_version": "1.5.0",
            "_model_name": "HTMLModel",
            "_view_count": null,
            "_view_module": "@jupyter-widgets/controls",
            "_view_module_version": "1.5.0",
            "_view_name": "HTMLView",
            "description": "",
            "description_tooltip": null,
            "layout": "IPY_MODEL_2c938228e4334de389bb31a80de71389",
            "placeholder": "​",
            "style": "IPY_MODEL_4d0ccfb7f4a04da590d181cb709075f7",
            "value": " 313/313 [00:01&lt;00:00, 260.80it/s]"
          }
        },
        "498cccdd21d146efa14dd3cd64179c05": {
          "model_module": "@jupyter-widgets/base",
          "model_name": "LayoutModel",
          "model_module_version": "1.2.0",
          "state": {
            "_model_module": "@jupyter-widgets/base",
            "_model_module_version": "1.2.0",
            "_model_name": "LayoutModel",
            "_view_count": null,
            "_view_module": "@jupyter-widgets/base",
            "_view_module_version": "1.2.0",
            "_view_name": "LayoutView",
            "align_content": null,
            "align_items": null,
            "align_self": null,
            "border": null,
            "bottom": null,
            "display": null,
            "flex": null,
            "flex_flow": null,
            "grid_area": null,
            "grid_auto_columns": null,
            "grid_auto_flow": null,
            "grid_auto_rows": null,
            "grid_column": null,
            "grid_gap": null,
            "grid_row": null,
            "grid_template_areas": null,
            "grid_template_columns": null,
            "grid_template_rows": null,
            "height": null,
            "justify_content": null,
            "justify_items": null,
            "left": null,
            "margin": null,
            "max_height": null,
            "max_width": null,
            "min_height": null,
            "min_width": null,
            "object_fit": null,
            "object_position": null,
            "order": null,
            "overflow": null,
            "overflow_x": null,
            "overflow_y": null,
            "padding": null,
            "right": null,
            "top": null,
            "visibility": null,
            "width": null
          }
        },
        "cc239d06962f4cc6b3f7aed0ca7cbbbc": {
          "model_module": "@jupyter-widgets/base",
          "model_name": "LayoutModel",
          "model_module_version": "1.2.0",
          "state": {
            "_model_module": "@jupyter-widgets/base",
            "_model_module_version": "1.2.0",
            "_model_name": "LayoutModel",
            "_view_count": null,
            "_view_module": "@jupyter-widgets/base",
            "_view_module_version": "1.2.0",
            "_view_name": "LayoutView",
            "align_content": null,
            "align_items": null,
            "align_self": null,
            "border": null,
            "bottom": null,
            "display": null,
            "flex": null,
            "flex_flow": null,
            "grid_area": null,
            "grid_auto_columns": null,
            "grid_auto_flow": null,
            "grid_auto_rows": null,
            "grid_column": null,
            "grid_gap": null,
            "grid_row": null,
            "grid_template_areas": null,
            "grid_template_columns": null,
            "grid_template_rows": null,
            "height": null,
            "justify_content": null,
            "justify_items": null,
            "left": null,
            "margin": null,
            "max_height": null,
            "max_width": null,
            "min_height": null,
            "min_width": null,
            "object_fit": null,
            "object_position": null,
            "order": null,
            "overflow": null,
            "overflow_x": null,
            "overflow_y": null,
            "padding": null,
            "right": null,
            "top": null,
            "visibility": null,
            "width": null
          }
        },
        "1a23319104c04f698fdba9b9ef0567a5": {
          "model_module": "@jupyter-widgets/controls",
          "model_name": "DescriptionStyleModel",
          "model_module_version": "1.5.0",
          "state": {
            "_model_module": "@jupyter-widgets/controls",
            "_model_module_version": "1.5.0",
            "_model_name": "DescriptionStyleModel",
            "_view_count": null,
            "_view_module": "@jupyter-widgets/base",
            "_view_module_version": "1.2.0",
            "_view_name": "StyleView",
            "description_width": ""
          }
        },
        "5f9a5ffaf7804914b435dafda7cfd66e": {
          "model_module": "@jupyter-widgets/base",
          "model_name": "LayoutModel",
          "model_module_version": "1.2.0",
          "state": {
            "_model_module": "@jupyter-widgets/base",
            "_model_module_version": "1.2.0",
            "_model_name": "LayoutModel",
            "_view_count": null,
            "_view_module": "@jupyter-widgets/base",
            "_view_module_version": "1.2.0",
            "_view_name": "LayoutView",
            "align_content": null,
            "align_items": null,
            "align_self": null,
            "border": null,
            "bottom": null,
            "display": null,
            "flex": null,
            "flex_flow": null,
            "grid_area": null,
            "grid_auto_columns": null,
            "grid_auto_flow": null,
            "grid_auto_rows": null,
            "grid_column": null,
            "grid_gap": null,
            "grid_row": null,
            "grid_template_areas": null,
            "grid_template_columns": null,
            "grid_template_rows": null,
            "height": null,
            "justify_content": null,
            "justify_items": null,
            "left": null,
            "margin": null,
            "max_height": null,
            "max_width": null,
            "min_height": null,
            "min_width": null,
            "object_fit": null,
            "object_position": null,
            "order": null,
            "overflow": null,
            "overflow_x": null,
            "overflow_y": null,
            "padding": null,
            "right": null,
            "top": null,
            "visibility": null,
            "width": null
          }
        },
        "648d8a80b2614c41943605e836746b7f": {
          "model_module": "@jupyter-widgets/controls",
          "model_name": "ProgressStyleModel",
          "model_module_version": "1.5.0",
          "state": {
            "_model_module": "@jupyter-widgets/controls",
            "_model_module_version": "1.5.0",
            "_model_name": "ProgressStyleModel",
            "_view_count": null,
            "_view_module": "@jupyter-widgets/base",
            "_view_module_version": "1.2.0",
            "_view_name": "StyleView",
            "bar_color": null,
            "description_width": ""
          }
        },
        "2c938228e4334de389bb31a80de71389": {
          "model_module": "@jupyter-widgets/base",
          "model_name": "LayoutModel",
          "model_module_version": "1.2.0",
          "state": {
            "_model_module": "@jupyter-widgets/base",
            "_model_module_version": "1.2.0",
            "_model_name": "LayoutModel",
            "_view_count": null,
            "_view_module": "@jupyter-widgets/base",
            "_view_module_version": "1.2.0",
            "_view_name": "LayoutView",
            "align_content": null,
            "align_items": null,
            "align_self": null,
            "border": null,
            "bottom": null,
            "display": null,
            "flex": null,
            "flex_flow": null,
            "grid_area": null,
            "grid_auto_columns": null,
            "grid_auto_flow": null,
            "grid_auto_rows": null,
            "grid_column": null,
            "grid_gap": null,
            "grid_row": null,
            "grid_template_areas": null,
            "grid_template_columns": null,
            "grid_template_rows": null,
            "height": null,
            "justify_content": null,
            "justify_items": null,
            "left": null,
            "margin": null,
            "max_height": null,
            "max_width": null,
            "min_height": null,
            "min_width": null,
            "object_fit": null,
            "object_position": null,
            "order": null,
            "overflow": null,
            "overflow_x": null,
            "overflow_y": null,
            "padding": null,
            "right": null,
            "top": null,
            "visibility": null,
            "width": null
          }
        },
        "4d0ccfb7f4a04da590d181cb709075f7": {
          "model_module": "@jupyter-widgets/controls",
          "model_name": "DescriptionStyleModel",
          "model_module_version": "1.5.0",
          "state": {
            "_model_module": "@jupyter-widgets/controls",
            "_model_module_version": "1.5.0",
            "_model_name": "DescriptionStyleModel",
            "_view_count": null,
            "_view_module": "@jupyter-widgets/base",
            "_view_module_version": "1.2.0",
            "_view_name": "StyleView",
            "description_width": ""
          }
        },
        "e927b5d841c840c0953edeb0bd20cdb8": {
          "model_module": "@jupyter-widgets/controls",
          "model_name": "HBoxModel",
          "model_module_version": "1.5.0",
          "state": {
            "_dom_classes": [],
            "_model_module": "@jupyter-widgets/controls",
            "_model_module_version": "1.5.0",
            "_model_name": "HBoxModel",
            "_view_count": null,
            "_view_module": "@jupyter-widgets/controls",
            "_view_module_version": "1.5.0",
            "_view_name": "HBoxView",
            "box_style": "",
            "children": [
              "IPY_MODEL_a9eecad1dbc44cf78257dec14d714449",
              "IPY_MODEL_db38ea553bad42928a137993430dd087",
              "IPY_MODEL_0e60ac9ddbe5447ea717328dc22b3705"
            ],
            "layout": "IPY_MODEL_ea64b87a8c0545c1a4d37d79e6040641"
          }
        },
        "a9eecad1dbc44cf78257dec14d714449": {
          "model_module": "@jupyter-widgets/controls",
          "model_name": "HTMLModel",
          "model_module_version": "1.5.0",
          "state": {
            "_dom_classes": [],
            "_model_module": "@jupyter-widgets/controls",
            "_model_module_version": "1.5.0",
            "_model_name": "HTMLModel",
            "_view_count": null,
            "_view_module": "@jupyter-widgets/controls",
            "_view_module_version": "1.5.0",
            "_view_name": "HTMLView",
            "description": "",
            "description_tooltip": null,
            "layout": "IPY_MODEL_89be7f12b5b44218a84e910a248dd960",
            "placeholder": "​",
            "style": "IPY_MODEL_0d8844adc2ed4691baee93ad6696dbc2",
            "value": "100%"
          }
        },
        "db38ea553bad42928a137993430dd087": {
          "model_module": "@jupyter-widgets/controls",
          "model_name": "FloatProgressModel",
          "model_module_version": "1.5.0",
          "state": {
            "_dom_classes": [],
            "_model_module": "@jupyter-widgets/controls",
            "_model_module_version": "1.5.0",
            "_model_name": "FloatProgressModel",
            "_view_count": null,
            "_view_module": "@jupyter-widgets/controls",
            "_view_module_version": "1.5.0",
            "_view_name": "ProgressView",
            "bar_style": "success",
            "description": "",
            "description_tooltip": null,
            "layout": "IPY_MODEL_1b08c1ef9625461d8191ec8211538a1c",
            "max": 3,
            "min": 0,
            "orientation": "horizontal",
            "style": "IPY_MODEL_31fd488fa5c7416bb3c12b43af8d5ac4",
            "value": 3
          }
        },
        "0e60ac9ddbe5447ea717328dc22b3705": {
          "model_module": "@jupyter-widgets/controls",
          "model_name": "HTMLModel",
          "model_module_version": "1.5.0",
          "state": {
            "_dom_classes": [],
            "_model_module": "@jupyter-widgets/controls",
            "_model_module_version": "1.5.0",
            "_model_name": "HTMLModel",
            "_view_count": null,
            "_view_module": "@jupyter-widgets/controls",
            "_view_module_version": "1.5.0",
            "_view_name": "HTMLView",
            "description": "",
            "description_tooltip": null,
            "layout": "IPY_MODEL_677300092126456193fc98b4dff8bcee",
            "placeholder": "​",
            "style": "IPY_MODEL_fe06289c846c4b4e88724ffa32e5a6eb",
            "value": " 3/3 [00:34&lt;00:00, 12.14s/it]"
          }
        },
        "ea64b87a8c0545c1a4d37d79e6040641": {
          "model_module": "@jupyter-widgets/base",
          "model_name": "LayoutModel",
          "model_module_version": "1.2.0",
          "state": {
            "_model_module": "@jupyter-widgets/base",
            "_model_module_version": "1.2.0",
            "_model_name": "LayoutModel",
            "_view_count": null,
            "_view_module": "@jupyter-widgets/base",
            "_view_module_version": "1.2.0",
            "_view_name": "LayoutView",
            "align_content": null,
            "align_items": null,
            "align_self": null,
            "border": null,
            "bottom": null,
            "display": null,
            "flex": null,
            "flex_flow": null,
            "grid_area": null,
            "grid_auto_columns": null,
            "grid_auto_flow": null,
            "grid_auto_rows": null,
            "grid_column": null,
            "grid_gap": null,
            "grid_row": null,
            "grid_template_areas": null,
            "grid_template_columns": null,
            "grid_template_rows": null,
            "height": null,
            "justify_content": null,
            "justify_items": null,
            "left": null,
            "margin": null,
            "max_height": null,
            "max_width": null,
            "min_height": null,
            "min_width": null,
            "object_fit": null,
            "object_position": null,
            "order": null,
            "overflow": null,
            "overflow_x": null,
            "overflow_y": null,
            "padding": null,
            "right": null,
            "top": null,
            "visibility": null,
            "width": null
          }
        },
        "89be7f12b5b44218a84e910a248dd960": {
          "model_module": "@jupyter-widgets/base",
          "model_name": "LayoutModel",
          "model_module_version": "1.2.0",
          "state": {
            "_model_module": "@jupyter-widgets/base",
            "_model_module_version": "1.2.0",
            "_model_name": "LayoutModel",
            "_view_count": null,
            "_view_module": "@jupyter-widgets/base",
            "_view_module_version": "1.2.0",
            "_view_name": "LayoutView",
            "align_content": null,
            "align_items": null,
            "align_self": null,
            "border": null,
            "bottom": null,
            "display": null,
            "flex": null,
            "flex_flow": null,
            "grid_area": null,
            "grid_auto_columns": null,
            "grid_auto_flow": null,
            "grid_auto_rows": null,
            "grid_column": null,
            "grid_gap": null,
            "grid_row": null,
            "grid_template_areas": null,
            "grid_template_columns": null,
            "grid_template_rows": null,
            "height": null,
            "justify_content": null,
            "justify_items": null,
            "left": null,
            "margin": null,
            "max_height": null,
            "max_width": null,
            "min_height": null,
            "min_width": null,
            "object_fit": null,
            "object_position": null,
            "order": null,
            "overflow": null,
            "overflow_x": null,
            "overflow_y": null,
            "padding": null,
            "right": null,
            "top": null,
            "visibility": null,
            "width": null
          }
        },
        "0d8844adc2ed4691baee93ad6696dbc2": {
          "model_module": "@jupyter-widgets/controls",
          "model_name": "DescriptionStyleModel",
          "model_module_version": "1.5.0",
          "state": {
            "_model_module": "@jupyter-widgets/controls",
            "_model_module_version": "1.5.0",
            "_model_name": "DescriptionStyleModel",
            "_view_count": null,
            "_view_module": "@jupyter-widgets/base",
            "_view_module_version": "1.2.0",
            "_view_name": "StyleView",
            "description_width": ""
          }
        },
        "1b08c1ef9625461d8191ec8211538a1c": {
          "model_module": "@jupyter-widgets/base",
          "model_name": "LayoutModel",
          "model_module_version": "1.2.0",
          "state": {
            "_model_module": "@jupyter-widgets/base",
            "_model_module_version": "1.2.0",
            "_model_name": "LayoutModel",
            "_view_count": null,
            "_view_module": "@jupyter-widgets/base",
            "_view_module_version": "1.2.0",
            "_view_name": "LayoutView",
            "align_content": null,
            "align_items": null,
            "align_self": null,
            "border": null,
            "bottom": null,
            "display": null,
            "flex": null,
            "flex_flow": null,
            "grid_area": null,
            "grid_auto_columns": null,
            "grid_auto_flow": null,
            "grid_auto_rows": null,
            "grid_column": null,
            "grid_gap": null,
            "grid_row": null,
            "grid_template_areas": null,
            "grid_template_columns": null,
            "grid_template_rows": null,
            "height": null,
            "justify_content": null,
            "justify_items": null,
            "left": null,
            "margin": null,
            "max_height": null,
            "max_width": null,
            "min_height": null,
            "min_width": null,
            "object_fit": null,
            "object_position": null,
            "order": null,
            "overflow": null,
            "overflow_x": null,
            "overflow_y": null,
            "padding": null,
            "right": null,
            "top": null,
            "visibility": null,
            "width": null
          }
        },
        "31fd488fa5c7416bb3c12b43af8d5ac4": {
          "model_module": "@jupyter-widgets/controls",
          "model_name": "ProgressStyleModel",
          "model_module_version": "1.5.0",
          "state": {
            "_model_module": "@jupyter-widgets/controls",
            "_model_module_version": "1.5.0",
            "_model_name": "ProgressStyleModel",
            "_view_count": null,
            "_view_module": "@jupyter-widgets/base",
            "_view_module_version": "1.2.0",
            "_view_name": "StyleView",
            "bar_color": null,
            "description_width": ""
          }
        },
        "677300092126456193fc98b4dff8bcee": {
          "model_module": "@jupyter-widgets/base",
          "model_name": "LayoutModel",
          "model_module_version": "1.2.0",
          "state": {
            "_model_module": "@jupyter-widgets/base",
            "_model_module_version": "1.2.0",
            "_model_name": "LayoutModel",
            "_view_count": null,
            "_view_module": "@jupyter-widgets/base",
            "_view_module_version": "1.2.0",
            "_view_name": "LayoutView",
            "align_content": null,
            "align_items": null,
            "align_self": null,
            "border": null,
            "bottom": null,
            "display": null,
            "flex": null,
            "flex_flow": null,
            "grid_area": null,
            "grid_auto_columns": null,
            "grid_auto_flow": null,
            "grid_auto_rows": null,
            "grid_column": null,
            "grid_gap": null,
            "grid_row": null,
            "grid_template_areas": null,
            "grid_template_columns": null,
            "grid_template_rows": null,
            "height": null,
            "justify_content": null,
            "justify_items": null,
            "left": null,
            "margin": null,
            "max_height": null,
            "max_width": null,
            "min_height": null,
            "min_width": null,
            "object_fit": null,
            "object_position": null,
            "order": null,
            "overflow": null,
            "overflow_x": null,
            "overflow_y": null,
            "padding": null,
            "right": null,
            "top": null,
            "visibility": null,
            "width": null
          }
        },
        "fe06289c846c4b4e88724ffa32e5a6eb": {
          "model_module": "@jupyter-widgets/controls",
          "model_name": "DescriptionStyleModel",
          "model_module_version": "1.5.0",
          "state": {
            "_model_module": "@jupyter-widgets/controls",
            "_model_module_version": "1.5.0",
            "_model_name": "DescriptionStyleModel",
            "_view_count": null,
            "_view_module": "@jupyter-widgets/base",
            "_view_module_version": "1.2.0",
            "_view_name": "StyleView",
            "description_width": ""
          }
        },
        "17cb44b8cbb94446beceac644aa1400a": {
          "model_module": "@jupyter-widgets/controls",
          "model_name": "HBoxModel",
          "model_module_version": "1.5.0",
          "state": {
            "_dom_classes": [],
            "_model_module": "@jupyter-widgets/controls",
            "_model_module_version": "1.5.0",
            "_model_name": "HBoxModel",
            "_view_count": null,
            "_view_module": "@jupyter-widgets/controls",
            "_view_module_version": "1.5.0",
            "_view_name": "HBoxView",
            "box_style": "",
            "children": [
              "IPY_MODEL_a57b4e078ea54dbca8bb970f7ff8e56a",
              "IPY_MODEL_7d12a4df767a439b8d22e2c29987184e",
              "IPY_MODEL_b3041b5d88de49458aaf21958b14020f"
            ],
            "layout": "IPY_MODEL_61187f6f545e4bff8a0a60d29637565b"
          }
        },
        "a57b4e078ea54dbca8bb970f7ff8e56a": {
          "model_module": "@jupyter-widgets/controls",
          "model_name": "HTMLModel",
          "model_module_version": "1.5.0",
          "state": {
            "_dom_classes": [],
            "_model_module": "@jupyter-widgets/controls",
            "_model_module_version": "1.5.0",
            "_model_name": "HTMLModel",
            "_view_count": null,
            "_view_module": "@jupyter-widgets/controls",
            "_view_module_version": "1.5.0",
            "_view_name": "HTMLView",
            "description": "",
            "description_tooltip": null,
            "layout": "IPY_MODEL_bd6160c1702e463d8468f484050c9bc3",
            "placeholder": "​",
            "style": "IPY_MODEL_99e60c52973841aeb9a7ef22db0e7558",
            "value": "100%"
          }
        },
        "7d12a4df767a439b8d22e2c29987184e": {
          "model_module": "@jupyter-widgets/controls",
          "model_name": "FloatProgressModel",
          "model_module_version": "1.5.0",
          "state": {
            "_dom_classes": [],
            "_model_module": "@jupyter-widgets/controls",
            "_model_module_version": "1.5.0",
            "_model_name": "FloatProgressModel",
            "_view_count": null,
            "_view_module": "@jupyter-widgets/controls",
            "_view_module_version": "1.5.0",
            "_view_name": "ProgressView",
            "bar_style": "success",
            "description": "",
            "description_tooltip": null,
            "layout": "IPY_MODEL_7ce85c718f4d45c3966b5d2fc6a0f24a",
            "max": 313,
            "min": 0,
            "orientation": "horizontal",
            "style": "IPY_MODEL_cd5d56a6e84341f291f5267f31678a5d",
            "value": 313
          }
        },
        "b3041b5d88de49458aaf21958b14020f": {
          "model_module": "@jupyter-widgets/controls",
          "model_name": "HTMLModel",
          "model_module_version": "1.5.0",
          "state": {
            "_dom_classes": [],
            "_model_module": "@jupyter-widgets/controls",
            "_model_module_version": "1.5.0",
            "_model_name": "HTMLModel",
            "_view_count": null,
            "_view_module": "@jupyter-widgets/controls",
            "_view_module_version": "1.5.0",
            "_view_name": "HTMLView",
            "description": "",
            "description_tooltip": null,
            "layout": "IPY_MODEL_0d2fd09943d1461795c1766d27fb52d2",
            "placeholder": "​",
            "style": "IPY_MODEL_1e00eb16b0bd41608f5eeaf663627e7e",
            "value": " 313/313 [00:01&lt;00:00, 257.66it/s]"
          }
        },
        "61187f6f545e4bff8a0a60d29637565b": {
          "model_module": "@jupyter-widgets/base",
          "model_name": "LayoutModel",
          "model_module_version": "1.2.0",
          "state": {
            "_model_module": "@jupyter-widgets/base",
            "_model_module_version": "1.2.0",
            "_model_name": "LayoutModel",
            "_view_count": null,
            "_view_module": "@jupyter-widgets/base",
            "_view_module_version": "1.2.0",
            "_view_name": "LayoutView",
            "align_content": null,
            "align_items": null,
            "align_self": null,
            "border": null,
            "bottom": null,
            "display": null,
            "flex": null,
            "flex_flow": null,
            "grid_area": null,
            "grid_auto_columns": null,
            "grid_auto_flow": null,
            "grid_auto_rows": null,
            "grid_column": null,
            "grid_gap": null,
            "grid_row": null,
            "grid_template_areas": null,
            "grid_template_columns": null,
            "grid_template_rows": null,
            "height": null,
            "justify_content": null,
            "justify_items": null,
            "left": null,
            "margin": null,
            "max_height": null,
            "max_width": null,
            "min_height": null,
            "min_width": null,
            "object_fit": null,
            "object_position": null,
            "order": null,
            "overflow": null,
            "overflow_x": null,
            "overflow_y": null,
            "padding": null,
            "right": null,
            "top": null,
            "visibility": null,
            "width": null
          }
        },
        "bd6160c1702e463d8468f484050c9bc3": {
          "model_module": "@jupyter-widgets/base",
          "model_name": "LayoutModel",
          "model_module_version": "1.2.0",
          "state": {
            "_model_module": "@jupyter-widgets/base",
            "_model_module_version": "1.2.0",
            "_model_name": "LayoutModel",
            "_view_count": null,
            "_view_module": "@jupyter-widgets/base",
            "_view_module_version": "1.2.0",
            "_view_name": "LayoutView",
            "align_content": null,
            "align_items": null,
            "align_self": null,
            "border": null,
            "bottom": null,
            "display": null,
            "flex": null,
            "flex_flow": null,
            "grid_area": null,
            "grid_auto_columns": null,
            "grid_auto_flow": null,
            "grid_auto_rows": null,
            "grid_column": null,
            "grid_gap": null,
            "grid_row": null,
            "grid_template_areas": null,
            "grid_template_columns": null,
            "grid_template_rows": null,
            "height": null,
            "justify_content": null,
            "justify_items": null,
            "left": null,
            "margin": null,
            "max_height": null,
            "max_width": null,
            "min_height": null,
            "min_width": null,
            "object_fit": null,
            "object_position": null,
            "order": null,
            "overflow": null,
            "overflow_x": null,
            "overflow_y": null,
            "padding": null,
            "right": null,
            "top": null,
            "visibility": null,
            "width": null
          }
        },
        "99e60c52973841aeb9a7ef22db0e7558": {
          "model_module": "@jupyter-widgets/controls",
          "model_name": "DescriptionStyleModel",
          "model_module_version": "1.5.0",
          "state": {
            "_model_module": "@jupyter-widgets/controls",
            "_model_module_version": "1.5.0",
            "_model_name": "DescriptionStyleModel",
            "_view_count": null,
            "_view_module": "@jupyter-widgets/base",
            "_view_module_version": "1.2.0",
            "_view_name": "StyleView",
            "description_width": ""
          }
        },
        "7ce85c718f4d45c3966b5d2fc6a0f24a": {
          "model_module": "@jupyter-widgets/base",
          "model_name": "LayoutModel",
          "model_module_version": "1.2.0",
          "state": {
            "_model_module": "@jupyter-widgets/base",
            "_model_module_version": "1.2.0",
            "_model_name": "LayoutModel",
            "_view_count": null,
            "_view_module": "@jupyter-widgets/base",
            "_view_module_version": "1.2.0",
            "_view_name": "LayoutView",
            "align_content": null,
            "align_items": null,
            "align_self": null,
            "border": null,
            "bottom": null,
            "display": null,
            "flex": null,
            "flex_flow": null,
            "grid_area": null,
            "grid_auto_columns": null,
            "grid_auto_flow": null,
            "grid_auto_rows": null,
            "grid_column": null,
            "grid_gap": null,
            "grid_row": null,
            "grid_template_areas": null,
            "grid_template_columns": null,
            "grid_template_rows": null,
            "height": null,
            "justify_content": null,
            "justify_items": null,
            "left": null,
            "margin": null,
            "max_height": null,
            "max_width": null,
            "min_height": null,
            "min_width": null,
            "object_fit": null,
            "object_position": null,
            "order": null,
            "overflow": null,
            "overflow_x": null,
            "overflow_y": null,
            "padding": null,
            "right": null,
            "top": null,
            "visibility": null,
            "width": null
          }
        },
        "cd5d56a6e84341f291f5267f31678a5d": {
          "model_module": "@jupyter-widgets/controls",
          "model_name": "ProgressStyleModel",
          "model_module_version": "1.5.0",
          "state": {
            "_model_module": "@jupyter-widgets/controls",
            "_model_module_version": "1.5.0",
            "_model_name": "ProgressStyleModel",
            "_view_count": null,
            "_view_module": "@jupyter-widgets/base",
            "_view_module_version": "1.2.0",
            "_view_name": "StyleView",
            "bar_color": null,
            "description_width": ""
          }
        },
        "0d2fd09943d1461795c1766d27fb52d2": {
          "model_module": "@jupyter-widgets/base",
          "model_name": "LayoutModel",
          "model_module_version": "1.2.0",
          "state": {
            "_model_module": "@jupyter-widgets/base",
            "_model_module_version": "1.2.0",
            "_model_name": "LayoutModel",
            "_view_count": null,
            "_view_module": "@jupyter-widgets/base",
            "_view_module_version": "1.2.0",
            "_view_name": "LayoutView",
            "align_content": null,
            "align_items": null,
            "align_self": null,
            "border": null,
            "bottom": null,
            "display": null,
            "flex": null,
            "flex_flow": null,
            "grid_area": null,
            "grid_auto_columns": null,
            "grid_auto_flow": null,
            "grid_auto_rows": null,
            "grid_column": null,
            "grid_gap": null,
            "grid_row": null,
            "grid_template_areas": null,
            "grid_template_columns": null,
            "grid_template_rows": null,
            "height": null,
            "justify_content": null,
            "justify_items": null,
            "left": null,
            "margin": null,
            "max_height": null,
            "max_width": null,
            "min_height": null,
            "min_width": null,
            "object_fit": null,
            "object_position": null,
            "order": null,
            "overflow": null,
            "overflow_x": null,
            "overflow_y": null,
            "padding": null,
            "right": null,
            "top": null,
            "visibility": null,
            "width": null
          }
        },
        "1e00eb16b0bd41608f5eeaf663627e7e": {
          "model_module": "@jupyter-widgets/controls",
          "model_name": "DescriptionStyleModel",
          "model_module_version": "1.5.0",
          "state": {
            "_model_module": "@jupyter-widgets/controls",
            "_model_module_version": "1.5.0",
            "_model_name": "DescriptionStyleModel",
            "_view_count": null,
            "_view_module": "@jupyter-widgets/base",
            "_view_module_version": "1.2.0",
            "_view_name": "StyleView",
            "description_width": ""
          }
        },
        "9609ed8ca9ae4b12ba42ac771701c6ae": {
          "model_module": "@jupyter-widgets/controls",
          "model_name": "HBoxModel",
          "model_module_version": "1.5.0",
          "state": {
            "_dom_classes": [],
            "_model_module": "@jupyter-widgets/controls",
            "_model_module_version": "1.5.0",
            "_model_name": "HBoxModel",
            "_view_count": null,
            "_view_module": "@jupyter-widgets/controls",
            "_view_module_version": "1.5.0",
            "_view_name": "HBoxView",
            "box_style": "",
            "children": [
              "IPY_MODEL_fcca7e4b95f745e1b024affccbe547be",
              "IPY_MODEL_9c999425eb2d4768b884074125f21bcd",
              "IPY_MODEL_8950cd45eb04458487e9943a3e77ed1a"
            ],
            "layout": "IPY_MODEL_53f702b858024d48990f450c8d0d0982"
          }
        },
        "fcca7e4b95f745e1b024affccbe547be": {
          "model_module": "@jupyter-widgets/controls",
          "model_name": "HTMLModel",
          "model_module_version": "1.5.0",
          "state": {
            "_dom_classes": [],
            "_model_module": "@jupyter-widgets/controls",
            "_model_module_version": "1.5.0",
            "_model_name": "HTMLModel",
            "_view_count": null,
            "_view_module": "@jupyter-widgets/controls",
            "_view_module_version": "1.5.0",
            "_view_name": "HTMLView",
            "description": "",
            "description_tooltip": null,
            "layout": "IPY_MODEL_7af5841ed01149799ca85898f89ab1f1",
            "placeholder": "​",
            "style": "IPY_MODEL_b2bcfb449c444a2aa51253a1c9ae788b",
            "value": "100%"
          }
        },
        "9c999425eb2d4768b884074125f21bcd": {
          "model_module": "@jupyter-widgets/controls",
          "model_name": "FloatProgressModel",
          "model_module_version": "1.5.0",
          "state": {
            "_dom_classes": [],
            "_model_module": "@jupyter-widgets/controls",
            "_model_module_version": "1.5.0",
            "_model_name": "FloatProgressModel",
            "_view_count": null,
            "_view_module": "@jupyter-widgets/controls",
            "_view_module_version": "1.5.0",
            "_view_name": "ProgressView",
            "bar_style": "success",
            "description": "",
            "description_tooltip": null,
            "layout": "IPY_MODEL_c084d279b2b84c17b5985b7c52622834",
            "max": 313,
            "min": 0,
            "orientation": "horizontal",
            "style": "IPY_MODEL_35c8613e2ae34dd3834bd9caa8a9d97e",
            "value": 313
          }
        },
        "8950cd45eb04458487e9943a3e77ed1a": {
          "model_module": "@jupyter-widgets/controls",
          "model_name": "HTMLModel",
          "model_module_version": "1.5.0",
          "state": {
            "_dom_classes": [],
            "_model_module": "@jupyter-widgets/controls",
            "_model_module_version": "1.5.0",
            "_model_name": "HTMLModel",
            "_view_count": null,
            "_view_module": "@jupyter-widgets/controls",
            "_view_module_version": "1.5.0",
            "_view_name": "HTMLView",
            "description": "",
            "description_tooltip": null,
            "layout": "IPY_MODEL_c6efcc28238f441a86469ff3f04c2df8",
            "placeholder": "​",
            "style": "IPY_MODEL_d8455e5f18734bdcbe56588e39153f2c",
            "value": " 313/313 [00:01&lt;00:00, 234.21it/s]"
          }
        },
        "53f702b858024d48990f450c8d0d0982": {
          "model_module": "@jupyter-widgets/base",
          "model_name": "LayoutModel",
          "model_module_version": "1.2.0",
          "state": {
            "_model_module": "@jupyter-widgets/base",
            "_model_module_version": "1.2.0",
            "_model_name": "LayoutModel",
            "_view_count": null,
            "_view_module": "@jupyter-widgets/base",
            "_view_module_version": "1.2.0",
            "_view_name": "LayoutView",
            "align_content": null,
            "align_items": null,
            "align_self": null,
            "border": null,
            "bottom": null,
            "display": null,
            "flex": null,
            "flex_flow": null,
            "grid_area": null,
            "grid_auto_columns": null,
            "grid_auto_flow": null,
            "grid_auto_rows": null,
            "grid_column": null,
            "grid_gap": null,
            "grid_row": null,
            "grid_template_areas": null,
            "grid_template_columns": null,
            "grid_template_rows": null,
            "height": null,
            "justify_content": null,
            "justify_items": null,
            "left": null,
            "margin": null,
            "max_height": null,
            "max_width": null,
            "min_height": null,
            "min_width": null,
            "object_fit": null,
            "object_position": null,
            "order": null,
            "overflow": null,
            "overflow_x": null,
            "overflow_y": null,
            "padding": null,
            "right": null,
            "top": null,
            "visibility": null,
            "width": null
          }
        },
        "7af5841ed01149799ca85898f89ab1f1": {
          "model_module": "@jupyter-widgets/base",
          "model_name": "LayoutModel",
          "model_module_version": "1.2.0",
          "state": {
            "_model_module": "@jupyter-widgets/base",
            "_model_module_version": "1.2.0",
            "_model_name": "LayoutModel",
            "_view_count": null,
            "_view_module": "@jupyter-widgets/base",
            "_view_module_version": "1.2.0",
            "_view_name": "LayoutView",
            "align_content": null,
            "align_items": null,
            "align_self": null,
            "border": null,
            "bottom": null,
            "display": null,
            "flex": null,
            "flex_flow": null,
            "grid_area": null,
            "grid_auto_columns": null,
            "grid_auto_flow": null,
            "grid_auto_rows": null,
            "grid_column": null,
            "grid_gap": null,
            "grid_row": null,
            "grid_template_areas": null,
            "grid_template_columns": null,
            "grid_template_rows": null,
            "height": null,
            "justify_content": null,
            "justify_items": null,
            "left": null,
            "margin": null,
            "max_height": null,
            "max_width": null,
            "min_height": null,
            "min_width": null,
            "object_fit": null,
            "object_position": null,
            "order": null,
            "overflow": null,
            "overflow_x": null,
            "overflow_y": null,
            "padding": null,
            "right": null,
            "top": null,
            "visibility": null,
            "width": null
          }
        },
        "b2bcfb449c444a2aa51253a1c9ae788b": {
          "model_module": "@jupyter-widgets/controls",
          "model_name": "DescriptionStyleModel",
          "model_module_version": "1.5.0",
          "state": {
            "_model_module": "@jupyter-widgets/controls",
            "_model_module_version": "1.5.0",
            "_model_name": "DescriptionStyleModel",
            "_view_count": null,
            "_view_module": "@jupyter-widgets/base",
            "_view_module_version": "1.2.0",
            "_view_name": "StyleView",
            "description_width": ""
          }
        },
        "c084d279b2b84c17b5985b7c52622834": {
          "model_module": "@jupyter-widgets/base",
          "model_name": "LayoutModel",
          "model_module_version": "1.2.0",
          "state": {
            "_model_module": "@jupyter-widgets/base",
            "_model_module_version": "1.2.0",
            "_model_name": "LayoutModel",
            "_view_count": null,
            "_view_module": "@jupyter-widgets/base",
            "_view_module_version": "1.2.0",
            "_view_name": "LayoutView",
            "align_content": null,
            "align_items": null,
            "align_self": null,
            "border": null,
            "bottom": null,
            "display": null,
            "flex": null,
            "flex_flow": null,
            "grid_area": null,
            "grid_auto_columns": null,
            "grid_auto_flow": null,
            "grid_auto_rows": null,
            "grid_column": null,
            "grid_gap": null,
            "grid_row": null,
            "grid_template_areas": null,
            "grid_template_columns": null,
            "grid_template_rows": null,
            "height": null,
            "justify_content": null,
            "justify_items": null,
            "left": null,
            "margin": null,
            "max_height": null,
            "max_width": null,
            "min_height": null,
            "min_width": null,
            "object_fit": null,
            "object_position": null,
            "order": null,
            "overflow": null,
            "overflow_x": null,
            "overflow_y": null,
            "padding": null,
            "right": null,
            "top": null,
            "visibility": null,
            "width": null
          }
        },
        "35c8613e2ae34dd3834bd9caa8a9d97e": {
          "model_module": "@jupyter-widgets/controls",
          "model_name": "ProgressStyleModel",
          "model_module_version": "1.5.0",
          "state": {
            "_model_module": "@jupyter-widgets/controls",
            "_model_module_version": "1.5.0",
            "_model_name": "ProgressStyleModel",
            "_view_count": null,
            "_view_module": "@jupyter-widgets/base",
            "_view_module_version": "1.2.0",
            "_view_name": "StyleView",
            "bar_color": null,
            "description_width": ""
          }
        },
        "c6efcc28238f441a86469ff3f04c2df8": {
          "model_module": "@jupyter-widgets/base",
          "model_name": "LayoutModel",
          "model_module_version": "1.2.0",
          "state": {
            "_model_module": "@jupyter-widgets/base",
            "_model_module_version": "1.2.0",
            "_model_name": "LayoutModel",
            "_view_count": null,
            "_view_module": "@jupyter-widgets/base",
            "_view_module_version": "1.2.0",
            "_view_name": "LayoutView",
            "align_content": null,
            "align_items": null,
            "align_self": null,
            "border": null,
            "bottom": null,
            "display": null,
            "flex": null,
            "flex_flow": null,
            "grid_area": null,
            "grid_auto_columns": null,
            "grid_auto_flow": null,
            "grid_auto_rows": null,
            "grid_column": null,
            "grid_gap": null,
            "grid_row": null,
            "grid_template_areas": null,
            "grid_template_columns": null,
            "grid_template_rows": null,
            "height": null,
            "justify_content": null,
            "justify_items": null,
            "left": null,
            "margin": null,
            "max_height": null,
            "max_width": null,
            "min_height": null,
            "min_width": null,
            "object_fit": null,
            "object_position": null,
            "order": null,
            "overflow": null,
            "overflow_x": null,
            "overflow_y": null,
            "padding": null,
            "right": null,
            "top": null,
            "visibility": null,
            "width": null
          }
        },
        "d8455e5f18734bdcbe56588e39153f2c": {
          "model_module": "@jupyter-widgets/controls",
          "model_name": "DescriptionStyleModel",
          "model_module_version": "1.5.0",
          "state": {
            "_model_module": "@jupyter-widgets/controls",
            "_model_module_version": "1.5.0",
            "_model_name": "DescriptionStyleModel",
            "_view_count": null,
            "_view_module": "@jupyter-widgets/base",
            "_view_module_version": "1.2.0",
            "_view_name": "StyleView",
            "description_width": ""
          }
        },
        "c95710f87dd145598b57933a42a071a0": {
          "model_module": "@jupyter-widgets/controls",
          "model_name": "HBoxModel",
          "model_module_version": "1.5.0",
          "state": {
            "_dom_classes": [],
            "_model_module": "@jupyter-widgets/controls",
            "_model_module_version": "1.5.0",
            "_model_name": "HBoxModel",
            "_view_count": null,
            "_view_module": "@jupyter-widgets/controls",
            "_view_module_version": "1.5.0",
            "_view_name": "HBoxView",
            "box_style": "",
            "children": [
              "IPY_MODEL_44217474e56947ed8a65c78ab2321fdb",
              "IPY_MODEL_68285f950e6e43f89af5b28264eb109e",
              "IPY_MODEL_6d3f92d6e87041199e636ea4fb2abfed"
            ],
            "layout": "IPY_MODEL_a4e99d39bf1d4faaa0ba7c566bb36331"
          }
        },
        "44217474e56947ed8a65c78ab2321fdb": {
          "model_module": "@jupyter-widgets/controls",
          "model_name": "HTMLModel",
          "model_module_version": "1.5.0",
          "state": {
            "_dom_classes": [],
            "_model_module": "@jupyter-widgets/controls",
            "_model_module_version": "1.5.0",
            "_model_name": "HTMLModel",
            "_view_count": null,
            "_view_module": "@jupyter-widgets/controls",
            "_view_module_version": "1.5.0",
            "_view_name": "HTMLView",
            "description": "",
            "description_tooltip": null,
            "layout": "IPY_MODEL_19c62d511e9b4635b48b95fe1902b577",
            "placeholder": "​",
            "style": "IPY_MODEL_7cbc0de10ca442b79360dffd887952b6",
            "value": "Making predictions...: 100%"
          }
        },
        "68285f950e6e43f89af5b28264eb109e": {
          "model_module": "@jupyter-widgets/controls",
          "model_name": "FloatProgressModel",
          "model_module_version": "1.5.0",
          "state": {
            "_dom_classes": [],
            "_model_module": "@jupyter-widgets/controls",
            "_model_module_version": "1.5.0",
            "_model_name": "FloatProgressModel",
            "_view_count": null,
            "_view_module": "@jupyter-widgets/controls",
            "_view_module_version": "1.5.0",
            "_view_name": "ProgressView",
            "bar_style": "success",
            "description": "",
            "description_tooltip": null,
            "layout": "IPY_MODEL_adfbea6171fe44c3bf714d8c183bb727",
            "max": 313,
            "min": 0,
            "orientation": "horizontal",
            "style": "IPY_MODEL_b2b72175f0284d3ba3804f2e7a618a39",
            "value": 313
          }
        },
        "6d3f92d6e87041199e636ea4fb2abfed": {
          "model_module": "@jupyter-widgets/controls",
          "model_name": "HTMLModel",
          "model_module_version": "1.5.0",
          "state": {
            "_dom_classes": [],
            "_model_module": "@jupyter-widgets/controls",
            "_model_module_version": "1.5.0",
            "_model_name": "HTMLModel",
            "_view_count": null,
            "_view_module": "@jupyter-widgets/controls",
            "_view_module_version": "1.5.0",
            "_view_name": "HTMLView",
            "description": "",
            "description_tooltip": null,
            "layout": "IPY_MODEL_daff569293d241e1b516f7e6f43fe80a",
            "placeholder": "​",
            "style": "IPY_MODEL_377db7dd349f43728bb8eb85bf4a3dd7",
            "value": " 313/313 [00:02&lt;00:00, 210.27it/s]"
          }
        },
        "a4e99d39bf1d4faaa0ba7c566bb36331": {
          "model_module": "@jupyter-widgets/base",
          "model_name": "LayoutModel",
          "model_module_version": "1.2.0",
          "state": {
            "_model_module": "@jupyter-widgets/base",
            "_model_module_version": "1.2.0",
            "_model_name": "LayoutModel",
            "_view_count": null,
            "_view_module": "@jupyter-widgets/base",
            "_view_module_version": "1.2.0",
            "_view_name": "LayoutView",
            "align_content": null,
            "align_items": null,
            "align_self": null,
            "border": null,
            "bottom": null,
            "display": null,
            "flex": null,
            "flex_flow": null,
            "grid_area": null,
            "grid_auto_columns": null,
            "grid_auto_flow": null,
            "grid_auto_rows": null,
            "grid_column": null,
            "grid_gap": null,
            "grid_row": null,
            "grid_template_areas": null,
            "grid_template_columns": null,
            "grid_template_rows": null,
            "height": null,
            "justify_content": null,
            "justify_items": null,
            "left": null,
            "margin": null,
            "max_height": null,
            "max_width": null,
            "min_height": null,
            "min_width": null,
            "object_fit": null,
            "object_position": null,
            "order": null,
            "overflow": null,
            "overflow_x": null,
            "overflow_y": null,
            "padding": null,
            "right": null,
            "top": null,
            "visibility": null,
            "width": null
          }
        },
        "19c62d511e9b4635b48b95fe1902b577": {
          "model_module": "@jupyter-widgets/base",
          "model_name": "LayoutModel",
          "model_module_version": "1.2.0",
          "state": {
            "_model_module": "@jupyter-widgets/base",
            "_model_module_version": "1.2.0",
            "_model_name": "LayoutModel",
            "_view_count": null,
            "_view_module": "@jupyter-widgets/base",
            "_view_module_version": "1.2.0",
            "_view_name": "LayoutView",
            "align_content": null,
            "align_items": null,
            "align_self": null,
            "border": null,
            "bottom": null,
            "display": null,
            "flex": null,
            "flex_flow": null,
            "grid_area": null,
            "grid_auto_columns": null,
            "grid_auto_flow": null,
            "grid_auto_rows": null,
            "grid_column": null,
            "grid_gap": null,
            "grid_row": null,
            "grid_template_areas": null,
            "grid_template_columns": null,
            "grid_template_rows": null,
            "height": null,
            "justify_content": null,
            "justify_items": null,
            "left": null,
            "margin": null,
            "max_height": null,
            "max_width": null,
            "min_height": null,
            "min_width": null,
            "object_fit": null,
            "object_position": null,
            "order": null,
            "overflow": null,
            "overflow_x": null,
            "overflow_y": null,
            "padding": null,
            "right": null,
            "top": null,
            "visibility": null,
            "width": null
          }
        },
        "7cbc0de10ca442b79360dffd887952b6": {
          "model_module": "@jupyter-widgets/controls",
          "model_name": "DescriptionStyleModel",
          "model_module_version": "1.5.0",
          "state": {
            "_model_module": "@jupyter-widgets/controls",
            "_model_module_version": "1.5.0",
            "_model_name": "DescriptionStyleModel",
            "_view_count": null,
            "_view_module": "@jupyter-widgets/base",
            "_view_module_version": "1.2.0",
            "_view_name": "StyleView",
            "description_width": ""
          }
        },
        "adfbea6171fe44c3bf714d8c183bb727": {
          "model_module": "@jupyter-widgets/base",
          "model_name": "LayoutModel",
          "model_module_version": "1.2.0",
          "state": {
            "_model_module": "@jupyter-widgets/base",
            "_model_module_version": "1.2.0",
            "_model_name": "LayoutModel",
            "_view_count": null,
            "_view_module": "@jupyter-widgets/base",
            "_view_module_version": "1.2.0",
            "_view_name": "LayoutView",
            "align_content": null,
            "align_items": null,
            "align_self": null,
            "border": null,
            "bottom": null,
            "display": null,
            "flex": null,
            "flex_flow": null,
            "grid_area": null,
            "grid_auto_columns": null,
            "grid_auto_flow": null,
            "grid_auto_rows": null,
            "grid_column": null,
            "grid_gap": null,
            "grid_row": null,
            "grid_template_areas": null,
            "grid_template_columns": null,
            "grid_template_rows": null,
            "height": null,
            "justify_content": null,
            "justify_items": null,
            "left": null,
            "margin": null,
            "max_height": null,
            "max_width": null,
            "min_height": null,
            "min_width": null,
            "object_fit": null,
            "object_position": null,
            "order": null,
            "overflow": null,
            "overflow_x": null,
            "overflow_y": null,
            "padding": null,
            "right": null,
            "top": null,
            "visibility": null,
            "width": null
          }
        },
        "b2b72175f0284d3ba3804f2e7a618a39": {
          "model_module": "@jupyter-widgets/controls",
          "model_name": "ProgressStyleModel",
          "model_module_version": "1.5.0",
          "state": {
            "_model_module": "@jupyter-widgets/controls",
            "_model_module_version": "1.5.0",
            "_model_name": "ProgressStyleModel",
            "_view_count": null,
            "_view_module": "@jupyter-widgets/base",
            "_view_module_version": "1.2.0",
            "_view_name": "StyleView",
            "bar_color": null,
            "description_width": ""
          }
        },
        "daff569293d241e1b516f7e6f43fe80a": {
          "model_module": "@jupyter-widgets/base",
          "model_name": "LayoutModel",
          "model_module_version": "1.2.0",
          "state": {
            "_model_module": "@jupyter-widgets/base",
            "_model_module_version": "1.2.0",
            "_model_name": "LayoutModel",
            "_view_count": null,
            "_view_module": "@jupyter-widgets/base",
            "_view_module_version": "1.2.0",
            "_view_name": "LayoutView",
            "align_content": null,
            "align_items": null,
            "align_self": null,
            "border": null,
            "bottom": null,
            "display": null,
            "flex": null,
            "flex_flow": null,
            "grid_area": null,
            "grid_auto_columns": null,
            "grid_auto_flow": null,
            "grid_auto_rows": null,
            "grid_column": null,
            "grid_gap": null,
            "grid_row": null,
            "grid_template_areas": null,
            "grid_template_columns": null,
            "grid_template_rows": null,
            "height": null,
            "justify_content": null,
            "justify_items": null,
            "left": null,
            "margin": null,
            "max_height": null,
            "max_width": null,
            "min_height": null,
            "min_width": null,
            "object_fit": null,
            "object_position": null,
            "order": null,
            "overflow": null,
            "overflow_x": null,
            "overflow_y": null,
            "padding": null,
            "right": null,
            "top": null,
            "visibility": null,
            "width": null
          }
        },
        "377db7dd349f43728bb8eb85bf4a3dd7": {
          "model_module": "@jupyter-widgets/controls",
          "model_name": "DescriptionStyleModel",
          "model_module_version": "1.5.0",
          "state": {
            "_model_module": "@jupyter-widgets/controls",
            "_model_module_version": "1.5.0",
            "_model_name": "DescriptionStyleModel",
            "_view_count": null,
            "_view_module": "@jupyter-widgets/base",
            "_view_module_version": "1.2.0",
            "_view_name": "StyleView",
            "description_width": ""
          }
        },
        "7f9ff60bd07045c9934b91701a9caa8a": {
          "model_module": "@jupyter-widgets/controls",
          "model_name": "HBoxModel",
          "model_module_version": "1.5.0",
          "state": {
            "_dom_classes": [],
            "_model_module": "@jupyter-widgets/controls",
            "_model_module_version": "1.5.0",
            "_model_name": "HBoxModel",
            "_view_count": null,
            "_view_module": "@jupyter-widgets/controls",
            "_view_module_version": "1.5.0",
            "_view_name": "HBoxView",
            "box_style": "",
            "children": [
              "IPY_MODEL_a54455ed7cce48609230ceac8cd19543",
              "IPY_MODEL_eacfb677660b4b14bac2e527de83b790",
              "IPY_MODEL_a9ef24c63b724cd9a8f999944834d7fd"
            ],
            "layout": "IPY_MODEL_0ac8c7c262134ea0a24add7e861e8dcb"
          }
        },
        "a54455ed7cce48609230ceac8cd19543": {
          "model_module": "@jupyter-widgets/controls",
          "model_name": "HTMLModel",
          "model_module_version": "1.5.0",
          "state": {
            "_dom_classes": [],
            "_model_module": "@jupyter-widgets/controls",
            "_model_module_version": "1.5.0",
            "_model_name": "HTMLModel",
            "_view_count": null,
            "_view_module": "@jupyter-widgets/controls",
            "_view_module_version": "1.5.0",
            "_view_name": "HTMLView",
            "description": "",
            "description_tooltip": null,
            "layout": "IPY_MODEL_05946eb968b04961a9aa9c98b3af6d21",
            "placeholder": "​",
            "style": "IPY_MODEL_c31c3b1fdd324b6da2db99bdd17e9d73",
            "value": "100%"
          }
        },
        "eacfb677660b4b14bac2e527de83b790": {
          "model_module": "@jupyter-widgets/controls",
          "model_name": "FloatProgressModel",
          "model_module_version": "1.5.0",
          "state": {
            "_dom_classes": [],
            "_model_module": "@jupyter-widgets/controls",
            "_model_module_version": "1.5.0",
            "_model_name": "FloatProgressModel",
            "_view_count": null,
            "_view_module": "@jupyter-widgets/controls",
            "_view_module_version": "1.5.0",
            "_view_name": "ProgressView",
            "bar_style": "success",
            "description": "",
            "description_tooltip": null,
            "layout": "IPY_MODEL_0cb2a5dae82d4fadacfd032f3c77b7de",
            "max": 313,
            "min": 0,
            "orientation": "horizontal",
            "style": "IPY_MODEL_07f03d23f51b4682a0bc7c935bdc3949",
            "value": 313
          }
        },
        "a9ef24c63b724cd9a8f999944834d7fd": {
          "model_module": "@jupyter-widgets/controls",
          "model_name": "HTMLModel",
          "model_module_version": "1.5.0",
          "state": {
            "_dom_classes": [],
            "_model_module": "@jupyter-widgets/controls",
            "_model_module_version": "1.5.0",
            "_model_name": "HTMLModel",
            "_view_count": null,
            "_view_module": "@jupyter-widgets/controls",
            "_view_module_version": "1.5.0",
            "_view_name": "HTMLView",
            "description": "",
            "description_tooltip": null,
            "layout": "IPY_MODEL_4eaae36173bd4d1a99265e476e6cbe09",
            "placeholder": "​",
            "style": "IPY_MODEL_250c4bdeb3924b04b96265dc770a1bea",
            "value": " 313/313 [00:03&lt;00:00, 100.96it/s]"
          }
        },
        "0ac8c7c262134ea0a24add7e861e8dcb": {
          "model_module": "@jupyter-widgets/base",
          "model_name": "LayoutModel",
          "model_module_version": "1.2.0",
          "state": {
            "_model_module": "@jupyter-widgets/base",
            "_model_module_version": "1.2.0",
            "_model_name": "LayoutModel",
            "_view_count": null,
            "_view_module": "@jupyter-widgets/base",
            "_view_module_version": "1.2.0",
            "_view_name": "LayoutView",
            "align_content": null,
            "align_items": null,
            "align_self": null,
            "border": null,
            "bottom": null,
            "display": null,
            "flex": null,
            "flex_flow": null,
            "grid_area": null,
            "grid_auto_columns": null,
            "grid_auto_flow": null,
            "grid_auto_rows": null,
            "grid_column": null,
            "grid_gap": null,
            "grid_row": null,
            "grid_template_areas": null,
            "grid_template_columns": null,
            "grid_template_rows": null,
            "height": null,
            "justify_content": null,
            "justify_items": null,
            "left": null,
            "margin": null,
            "max_height": null,
            "max_width": null,
            "min_height": null,
            "min_width": null,
            "object_fit": null,
            "object_position": null,
            "order": null,
            "overflow": null,
            "overflow_x": null,
            "overflow_y": null,
            "padding": null,
            "right": null,
            "top": null,
            "visibility": null,
            "width": null
          }
        },
        "05946eb968b04961a9aa9c98b3af6d21": {
          "model_module": "@jupyter-widgets/base",
          "model_name": "LayoutModel",
          "model_module_version": "1.2.0",
          "state": {
            "_model_module": "@jupyter-widgets/base",
            "_model_module_version": "1.2.0",
            "_model_name": "LayoutModel",
            "_view_count": null,
            "_view_module": "@jupyter-widgets/base",
            "_view_module_version": "1.2.0",
            "_view_name": "LayoutView",
            "align_content": null,
            "align_items": null,
            "align_self": null,
            "border": null,
            "bottom": null,
            "display": null,
            "flex": null,
            "flex_flow": null,
            "grid_area": null,
            "grid_auto_columns": null,
            "grid_auto_flow": null,
            "grid_auto_rows": null,
            "grid_column": null,
            "grid_gap": null,
            "grid_row": null,
            "grid_template_areas": null,
            "grid_template_columns": null,
            "grid_template_rows": null,
            "height": null,
            "justify_content": null,
            "justify_items": null,
            "left": null,
            "margin": null,
            "max_height": null,
            "max_width": null,
            "min_height": null,
            "min_width": null,
            "object_fit": null,
            "object_position": null,
            "order": null,
            "overflow": null,
            "overflow_x": null,
            "overflow_y": null,
            "padding": null,
            "right": null,
            "top": null,
            "visibility": null,
            "width": null
          }
        },
        "c31c3b1fdd324b6da2db99bdd17e9d73": {
          "model_module": "@jupyter-widgets/controls",
          "model_name": "DescriptionStyleModel",
          "model_module_version": "1.5.0",
          "state": {
            "_model_module": "@jupyter-widgets/controls",
            "_model_module_version": "1.5.0",
            "_model_name": "DescriptionStyleModel",
            "_view_count": null,
            "_view_module": "@jupyter-widgets/base",
            "_view_module_version": "1.2.0",
            "_view_name": "StyleView",
            "description_width": ""
          }
        },
        "0cb2a5dae82d4fadacfd032f3c77b7de": {
          "model_module": "@jupyter-widgets/base",
          "model_name": "LayoutModel",
          "model_module_version": "1.2.0",
          "state": {
            "_model_module": "@jupyter-widgets/base",
            "_model_module_version": "1.2.0",
            "_model_name": "LayoutModel",
            "_view_count": null,
            "_view_module": "@jupyter-widgets/base",
            "_view_module_version": "1.2.0",
            "_view_name": "LayoutView",
            "align_content": null,
            "align_items": null,
            "align_self": null,
            "border": null,
            "bottom": null,
            "display": null,
            "flex": null,
            "flex_flow": null,
            "grid_area": null,
            "grid_auto_columns": null,
            "grid_auto_flow": null,
            "grid_auto_rows": null,
            "grid_column": null,
            "grid_gap": null,
            "grid_row": null,
            "grid_template_areas": null,
            "grid_template_columns": null,
            "grid_template_rows": null,
            "height": null,
            "justify_content": null,
            "justify_items": null,
            "left": null,
            "margin": null,
            "max_height": null,
            "max_width": null,
            "min_height": null,
            "min_width": null,
            "object_fit": null,
            "object_position": null,
            "order": null,
            "overflow": null,
            "overflow_x": null,
            "overflow_y": null,
            "padding": null,
            "right": null,
            "top": null,
            "visibility": null,
            "width": null
          }
        },
        "07f03d23f51b4682a0bc7c935bdc3949": {
          "model_module": "@jupyter-widgets/controls",
          "model_name": "ProgressStyleModel",
          "model_module_version": "1.5.0",
          "state": {
            "_model_module": "@jupyter-widgets/controls",
            "_model_module_version": "1.5.0",
            "_model_name": "ProgressStyleModel",
            "_view_count": null,
            "_view_module": "@jupyter-widgets/base",
            "_view_module_version": "1.2.0",
            "_view_name": "StyleView",
            "bar_color": null,
            "description_width": ""
          }
        },
        "4eaae36173bd4d1a99265e476e6cbe09": {
          "model_module": "@jupyter-widgets/base",
          "model_name": "LayoutModel",
          "model_module_version": "1.2.0",
          "state": {
            "_model_module": "@jupyter-widgets/base",
            "_model_module_version": "1.2.0",
            "_model_name": "LayoutModel",
            "_view_count": null,
            "_view_module": "@jupyter-widgets/base",
            "_view_module_version": "1.2.0",
            "_view_name": "LayoutView",
            "align_content": null,
            "align_items": null,
            "align_self": null,
            "border": null,
            "bottom": null,
            "display": null,
            "flex": null,
            "flex_flow": null,
            "grid_area": null,
            "grid_auto_columns": null,
            "grid_auto_flow": null,
            "grid_auto_rows": null,
            "grid_column": null,
            "grid_gap": null,
            "grid_row": null,
            "grid_template_areas": null,
            "grid_template_columns": null,
            "grid_template_rows": null,
            "height": null,
            "justify_content": null,
            "justify_items": null,
            "left": null,
            "margin": null,
            "max_height": null,
            "max_width": null,
            "min_height": null,
            "min_width": null,
            "object_fit": null,
            "object_position": null,
            "order": null,
            "overflow": null,
            "overflow_x": null,
            "overflow_y": null,
            "padding": null,
            "right": null,
            "top": null,
            "visibility": null,
            "width": null
          }
        },
        "250c4bdeb3924b04b96265dc770a1bea": {
          "model_module": "@jupyter-widgets/controls",
          "model_name": "DescriptionStyleModel",
          "model_module_version": "1.5.0",
          "state": {
            "_model_module": "@jupyter-widgets/controls",
            "_model_module_version": "1.5.0",
            "_model_name": "DescriptionStyleModel",
            "_view_count": null,
            "_view_module": "@jupyter-widgets/base",
            "_view_module_version": "1.2.0",
            "_view_name": "StyleView",
            "description_width": ""
          }
        }
      }
    }
  },
  "nbformat": 4,
  "nbformat_minor": 5
}